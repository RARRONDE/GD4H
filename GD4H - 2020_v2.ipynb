{
 "cells": [
  {
   "cell_type": "markdown",
   "id": "39bc9333",
   "metadata": {},
   "source": [
    "# <span style=\"color:forestgreen\">Analyses exploratoires pour toutes les régions en 2020</span> "
   ]
  },
  {
   "cell_type": "markdown",
   "id": "c4a46160",
   "metadata": {},
   "source": [
    "### <span style=\"color:olivedrab\">Partie I - Exploration des données</span> "
   ]
  },
  {
   "cell_type": "markdown",
   "id": "b2133507",
   "metadata": {},
   "source": [
    "- <span style=\"color:steelblue\">Importation librairie</span>"
   ]
  },
  {
   "cell_type": "code",
   "execution_count": 1,
   "id": "2820c00a",
   "metadata": {},
   "outputs": [
    {
     "name": "stderr",
     "output_type": "stream",
     "text": [
      "Warning message:\n",
      "\"package 'data.table' was built under R version 3.6.3\"\n",
      "Warning message:\n",
      "\"package 'ggplot2' was built under R version 3.6.3\"\n",
      "Warning message:\n",
      "\"package 'dplyr' was built under R version 3.6.3\"\n",
      "\n",
      "Attaching package: 'dplyr'\n",
      "\n",
      "\n",
      "The following objects are masked from 'package:data.table':\n",
      "\n",
      "    between, first, last\n",
      "\n",
      "\n",
      "The following objects are masked from 'package:stats':\n",
      "\n",
      "    filter, lag\n",
      "\n",
      "\n",
      "The following objects are masked from 'package:base':\n",
      "\n",
      "    intersect, setdiff, setequal, union\n",
      "\n",
      "\n",
      "Warning message:\n",
      "\"package 'tidyr' was built under R version 3.6.3\"\n",
      "Warning message:\n",
      "\"package 'pheatmap' was built under R version 3.6.3\"\n",
      "Warning message:\n",
      "\"package 'corrplot' was built under R version 3.6.3\"\n",
      "corrplot 0.88 loaded\n",
      "\n",
      "Warning message:\n",
      "\"package 'sf' was built under R version 3.6.3\"\n",
      "Linking to GEOS 3.9.0, GDAL 3.2.1, PROJ 7.2.1\n",
      "\n",
      "Warning message:\n",
      "\"package 'Hmisc' was built under R version 3.6.3\"\n",
      "Loading required package: lattice\n",
      "\n",
      "Warning message:\n",
      "\"package 'lattice' was built under R version 3.6.3\"\n",
      "Loading required package: survival\n",
      "\n",
      "Warning message:\n",
      "\"package 'survival' was built under R version 3.6.3\"\n",
      "Loading required package: Formula\n",
      "\n",
      "Warning message:\n",
      "\"package 'Formula' was built under R version 3.6.3\"\n",
      "\n",
      "Attaching package: 'Hmisc'\n",
      "\n",
      "\n",
      "The following objects are masked from 'package:dplyr':\n",
      "\n",
      "    src, summarize\n",
      "\n",
      "\n",
      "The following objects are masked from 'package:base':\n",
      "\n",
      "    format.pval, units\n",
      "\n",
      "\n",
      "Warning message:\n",
      "\"package 'leaflet' was built under R version 3.6.3\"\n",
      "Warning message:\n",
      "\"package 'leaflet.extras' was built under R version 3.6.3\"\n",
      "Loading required package: sp\n",
      "\n",
      "Warning message:\n",
      "\"package 'sp' was built under R version 3.6.3\"\n",
      "rgdal: version: 1.4-4, (SVN revision 833)\n",
      " Geospatial Data Abstraction Library extensions to R successfully loaded\n",
      " Loaded GDAL runtime: GDAL 2.2.3, released 2017/11/20\n",
      " Path to GDAL shared files: C:/Users/Utilisateur/anaconda3/envs/R/Lib/R/library/rgdal/gdal\n",
      " GDAL binary built with GEOS: TRUE \n",
      " Loaded PROJ.4 runtime: Rel. 4.9.3, 15 August 2016, [PJ_VERSION: 493]\n",
      " Path to PROJ.4 shared files: C:/Users/Utilisateur/anaconda3/envs/R/Lib/R/library/rgdal/proj\n",
      " Linking to sp version: 1.3-1 \n",
      "\n",
      "Warning message:\n",
      "\"package 'gridExtra' was built under R version 3.6.3\"\n",
      "\n",
      "Attaching package: 'gridExtra'\n",
      "\n",
      "\n",
      "The following object is masked from 'package:dplyr':\n",
      "\n",
      "    combine\n",
      "\n",
      "\n",
      "Warning message:\n",
      "\"package 'readxl' was built under R version 3.6.3\"\n"
     ]
    }
   ],
   "source": [
    "library(data.table)\n",
    "library(ggplot2)\n",
    "library(dplyr)\n",
    "library(tidyr)\n",
    "library(stats)\n",
    "library(pheatmap)\n",
    "library(corrplot)\n",
    "library(sf)\n",
    "library(Hmisc)\n",
    "library(leaflet)\n",
    "library(leaflet.extras)\n",
    "library(rgdal)\n",
    "library(gridExtra)\n",
    "library(readxl)"
   ]
  },
  {
   "cell_type": "markdown",
   "id": "c6ad8411",
   "metadata": {},
   "source": [
    "- <span style=\"color:steelblue\">Importation données </span>"
   ]
  },
  {
   "cell_type": "code",
   "execution_count": 2,
   "id": "ca1828e9",
   "metadata": {},
   "outputs": [],
   "source": [
    "UDI_PLV_2020 <- read.csv(\"UDI_PLV_2020.txt\", sep=\",\")\n",
    "UDI_RES_2020 <- read.csv(\"UDI_RES_2020.txt\", sep=\",\")\n",
    "dpt_francais <- read_excel(\"DP.xls\")"
   ]
  },
  {
   "cell_type": "markdown",
   "id": "ebb6608f",
   "metadata": {},
   "source": [
    "- <span style=\"color:steelblue\"> Traitement et analyse du fichier UDI_RES_2020</span>"
   ]
  },
  {
   "cell_type": "code",
   "execution_count": 3,
   "id": "372d2003",
   "metadata": {},
   "outputs": [
    {
     "data": {
      "text/html": [
       "<table class=\"dataframe\">\n",
       "<caption>A data.frame: 5 × 21</caption>\n",
       "<thead>\n",
       "\t<tr><th></th><th scope=col>cddept</th><th scope=col>referenceprel</th><th scope=col>cdanalyse</th><th scope=col>refechantillonlabo</th><th scope=col>datereceptionechant</th><th scope=col>cdlaboratoire</th><th scope=col>laboratoire</th><th scope=col>cdtypeanalyse</th><th scope=col>analysecdorganisme</th><th scope=col>analysedate</th><th scope=col>⋯</th><th scope=col>cdparametre</th><th scope=col>cdparametresiseeaux</th><th scope=col>rqana</th><th scope=col>rssigne</th><th scope=col>rsana</th><th scope=col>cdunitereferencesiseeaux</th><th scope=col>cdunitereference</th><th scope=col>cdfractionanalyse</th><th scope=col>sandrelaboratoire</th><th scope=col>representativite</th></tr>\n",
       "\t<tr><th></th><th scope=col>&lt;fct&gt;</th><th scope=col>&lt;fct&gt;</th><th scope=col>&lt;fct&gt;</th><th scope=col>&lt;fct&gt;</th><th scope=col>&lt;fct&gt;</th><th scope=col>&lt;fct&gt;</th><th scope=col>&lt;dbl&gt;</th><th scope=col>&lt;fct&gt;</th><th scope=col>&lt;fct&gt;</th><th scope=col>&lt;fct&gt;</th><th scope=col>⋯</th><th scope=col>&lt;int&gt;</th><th scope=col>&lt;fct&gt;</th><th scope=col>&lt;fct&gt;</th><th scope=col>&lt;fct&gt;</th><th scope=col>&lt;dbl&gt;</th><th scope=col>&lt;fct&gt;</th><th scope=col>&lt;fct&gt;</th><th scope=col>&lt;int&gt;</th><th scope=col>&lt;dbl&gt;</th><th scope=col>&lt;fct&gt;</th></tr>\n",
       "</thead>\n",
       "<tbody>\n",
       "\t<tr><th scope=row>1335560</th><td>021</td><td>02100149349</td><td>02100150184</td><td>20120103203901 </td><td>2020-12-02</td><td>2101</td><td>2.221000e+13</td><td><span style=white-space:pre-wrap>021P1   </span></td><td>02100153</td><td>2020-12-15</td><td>⋯</td><td>1510</td><td><span style=white-space:pre-wrap>MTHC  </span></td><td>&lt;0,020</td><td>&lt;</td><td>0.00</td><td><span style=white-space:pre-wrap>Âµg/L    </span></td><td>133</td><td>NA</td><td>109</td><td>O</td></tr>\n",
       "\t<tr><th scope=row>696862</th><td>013</td><td>01300219926</td><td>           </td><td>               </td><td>          </td><td>    </td><td>          NA</td><td>        </td><td>        </td><td>          </td><td>⋯</td><td>1398</td><td>CL2LIB</td><td>0,31  </td><td> </td><td>0.31</td><td>mg(Cl2)/L</td><td>165</td><td>NA</td><td> NA</td><td>O</td></tr>\n",
       "\t<tr><th scope=row>976784</th><td>019</td><td>01900111174</td><td>01900117121</td><td>1211-7782-13521</td><td>2020-12-15</td><td>1901</td><td>2.219272e+13</td><td>019D1FAL</td><td>01900317</td><td>2020-12-23</td><td>⋯</td><td>6455</td><td>STRF  </td><td>0     </td><td> </td><td>0.00</td><td>n/(100mL)</td><td>226</td><td>NA</td><td>131</td><td>O</td></tr>\n",
       "\t<tr><th scope=row>704594</th><td>013</td><td>01300220909</td><td>01300222243</td><td><span style=white-space:pre-wrap>LSE2003-17175  </span></td><td>2020-03-02</td><td>6901</td><td>4.105453e+13</td><td>013D1ALS</td><td>01300136</td><td>2020-03-02</td><td>⋯</td><td>1449</td><td>ECOLI </td><td><span style=white-space:pre-wrap>&lt;1    </span></td><td>&lt;</td><td>0.00</td><td>n/(100mL)</td><td>226</td><td>NA</td><td>217</td><td>O</td></tr>\n",
       "\t<tr><th scope=row>1633340</th><td>028</td><td>02800108553</td><td>           </td><td>               </td><td>          </td><td>    </td><td>          NA</td><td>        </td><td>        </td><td>          </td><td>⋯</td><td>1398</td><td>CL2LIB</td><td>0,08  </td><td> </td><td>0.08</td><td>mg(Cl2)/L</td><td>165</td><td>NA</td><td> NA</td><td>O</td></tr>\n",
       "</tbody>\n",
       "</table>\n"
      ],
      "text/latex": [
       "A data.frame: 5 × 21\n",
       "\\begin{tabular}{r|lllllllllllllllllllll}\n",
       "  & cddept & referenceprel & cdanalyse & refechantillonlabo & datereceptionechant & cdlaboratoire & laboratoire & cdtypeanalyse & analysecdorganisme & analysedate & ⋯ & cdparametre & cdparametresiseeaux & rqana & rssigne & rsana & cdunitereferencesiseeaux & cdunitereference & cdfractionanalyse & sandrelaboratoire & representativite\\\\\n",
       "  & <fct> & <fct> & <fct> & <fct> & <fct> & <fct> & <dbl> & <fct> & <fct> & <fct> & ⋯ & <int> & <fct> & <fct> & <fct> & <dbl> & <fct> & <fct> & <int> & <dbl> & <fct>\\\\\n",
       "\\hline\n",
       "\t1335560 & 021 & 02100149349 & 02100150184 & 20120103203901  & 2020-12-02 & 2101 & 2.221000e+13 & 021P1    & 02100153 & 2020-12-15 & ⋯ & 1510 & MTHC   & <0,020 & < & 0.00 & Âµg/L     & 133 & NA & 109 & O\\\\\n",
       "\t696862 & 013 & 01300219926 &             &                 &            &      &           NA &          &          &            & ⋯ & 1398 & CL2LIB & 0,31   &   & 0.31 & mg(Cl2)/L & 165 & NA &  NA & O\\\\\n",
       "\t976784 & 019 & 01900111174 & 01900117121 & 1211-7782-13521 & 2020-12-15 & 1901 & 2.219272e+13 & 019D1FAL & 01900317 & 2020-12-23 & ⋯ & 6455 & STRF   & 0      &   & 0.00 & n/(100mL) & 226 & NA & 131 & O\\\\\n",
       "\t704594 & 013 & 01300220909 & 01300222243 & LSE2003-17175   & 2020-03-02 & 6901 & 4.105453e+13 & 013D1ALS & 01300136 & 2020-03-02 & ⋯ & 1449 & ECOLI  & <1     & < & 0.00 & n/(100mL) & 226 & NA & 217 & O\\\\\n",
       "\t1633340 & 028 & 02800108553 &             &                 &            &      &           NA &          &          &            & ⋯ & 1398 & CL2LIB & 0,08   &   & 0.08 & mg(Cl2)/L & 165 & NA &  NA & O\\\\\n",
       "\\end{tabular}\n"
      ],
      "text/markdown": [
       "\n",
       "A data.frame: 5 × 21\n",
       "\n",
       "| <!--/--> | cddept &lt;fct&gt; | referenceprel &lt;fct&gt; | cdanalyse &lt;fct&gt; | refechantillonlabo &lt;fct&gt; | datereceptionechant &lt;fct&gt; | cdlaboratoire &lt;fct&gt; | laboratoire &lt;dbl&gt; | cdtypeanalyse &lt;fct&gt; | analysecdorganisme &lt;fct&gt; | analysedate &lt;fct&gt; | ⋯ ⋯ | cdparametre &lt;int&gt; | cdparametresiseeaux &lt;fct&gt; | rqana &lt;fct&gt; | rssigne &lt;fct&gt; | rsana &lt;dbl&gt; | cdunitereferencesiseeaux &lt;fct&gt; | cdunitereference &lt;fct&gt; | cdfractionanalyse &lt;int&gt; | sandrelaboratoire &lt;dbl&gt; | representativite &lt;fct&gt; |\n",
       "|---|---|---|---|---|---|---|---|---|---|---|---|---|---|---|---|---|---|---|---|---|---|\n",
       "| 1335560 | 021 | 02100149349 | 02100150184 | 20120103203901  | 2020-12-02 | 2101 | 2.221000e+13 | 021P1    | 02100153 | 2020-12-15 | ⋯ | 1510 | MTHC   | &lt;0,020 | &lt; | 0.00 | Âµg/L     | 133 | NA | 109 | O |\n",
       "| 696862 | 013 | 01300219926 | <!----> | <!----> | <!----> | <!----> |           NA | <!----> | <!----> | <!----> | ⋯ | 1398 | CL2LIB | 0,31   | <!----> | 0.31 | mg(Cl2)/L | 165 | NA |  NA | O |\n",
       "| 976784 | 019 | 01900111174 | 01900117121 | 1211-7782-13521 | 2020-12-15 | 1901 | 2.219272e+13 | 019D1FAL | 01900317 | 2020-12-23 | ⋯ | 6455 | STRF   | 0      | <!----> | 0.00 | n/(100mL) | 226 | NA | 131 | O |\n",
       "| 704594 | 013 | 01300220909 | 01300222243 | LSE2003-17175   | 2020-03-02 | 6901 | 4.105453e+13 | 013D1ALS | 01300136 | 2020-03-02 | ⋯ | 1449 | ECOLI  | &lt;1     | &lt; | 0.00 | n/(100mL) | 226 | NA | 217 | O |\n",
       "| 1633340 | 028 | 02800108553 | <!----> | <!----> | <!----> | <!----> |           NA | <!----> | <!----> | <!----> | ⋯ | 1398 | CL2LIB | 0,08   | <!----> | 0.08 | mg(Cl2)/L | 165 | NA |  NA | O |\n",
       "\n"
      ],
      "text/plain": [
       "        cddept referenceprel cdanalyse   refechantillonlabo datereceptionechant\n",
       "1335560 021    02100149349   02100150184 20120103203901     2020-12-02         \n",
       "696862  013    01300219926                                                     \n",
       "976784  019    01900111174   01900117121 1211-7782-13521    2020-12-15         \n",
       "704594  013    01300220909   01300222243 LSE2003-17175      2020-03-02         \n",
       "1633340 028    02800108553                                                     \n",
       "        cdlaboratoire laboratoire  cdtypeanalyse analysecdorganisme analysedate\n",
       "1335560 2101          2.221000e+13 021P1         02100153           2020-12-15 \n",
       "696862                          NA                                             \n",
       "976784  1901          2.219272e+13 019D1FAL      01900317           2020-12-23 \n",
       "704594  6901          4.105453e+13 013D1ALS      01300136           2020-03-02 \n",
       "1633340                         NA                                             \n",
       "        <U+22EF>        cdparametre cdparametresiseeaux rqana  rssigne rsana\n",
       "1335560 <U+22EF> 1510        MTHC                <0,020 <       0.00 \n",
       "696862  <U+22EF> 1398        CL2LIB              0,31           0.31 \n",
       "976784  <U+22EF> 6455        STRF                0              0.00 \n",
       "704594  <U+22EF> 1449        ECOLI               <1     <       0.00 \n",
       "1633340 <U+22EF> 1398        CL2LIB              0,08           0.08 \n",
       "        cdunitereferencesiseeaux cdunitereference cdfractionanalyse\n",
       "1335560 Âµg/L                    133              NA               \n",
       "696862  mg(Cl2)/L                165              NA               \n",
       "976784  n/(100mL)                226              NA               \n",
       "704594  n/(100mL)                226              NA               \n",
       "1633340 mg(Cl2)/L                165              NA               \n",
       "        sandrelaboratoire representativite\n",
       "1335560 109               O               \n",
       "696862   NA               O               \n",
       "976784  131               O               \n",
       "704594  217               O               \n",
       "1633340  NA               O               "
      ]
     },
     "metadata": {},
     "output_type": "display_data"
    }
   ],
   "source": [
    "#aperçu du contenu du fichier\n",
    "UDI_RES_2020[sample(nrow(UDI_RES_2020), 5), ]"
   ]
  },
  {
   "cell_type": "code",
   "execution_count": 4,
   "id": "31f21f46",
   "metadata": {},
   "outputs": [
    {
     "name": "stdout",
     "output_type": "stream",
     "text": [
      " [1] \"cddept\"                   \"referenceprel\"           \n",
      " [3] \"cdanalyse\"                \"refechantillonlabo\"      \n",
      " [5] \"datereceptionechant\"      \"cdlaboratoire\"           \n",
      " [7] \"laboratoire\"              \"cdtypeanalyse\"           \n",
      " [9] \"analysecdorganisme\"       \"analysedate\"             \n",
      "[11] \"insituana\"                \"cdparametre\"             \n",
      "[13] \"cdparametresiseeaux\"      \"rqana\"                   \n",
      "[15] \"rssigne\"                  \"rsana\"                   \n",
      "[17] \"cdunitereferencesiseeaux\" \"cdunitereference\"        \n",
      "[19] \"cdfractionanalyse\"        \"sandrelaboratoire\"       \n",
      "[21] \"representativite\"        \n"
     ]
    }
   ],
   "source": [
    "#aperçu des différents nom de colonne\n",
    "print(names(UDI_RES_2020))"
   ]
  },
  {
   "cell_type": "code",
   "execution_count": 5,
   "id": "209c1649",
   "metadata": {},
   "outputs": [
    {
     "data": {
      "text/html": [
       "<table class=\"dataframe\">\n",
       "<caption>A data.frame: 6 × 6</caption>\n",
       "<thead>\n",
       "\t<tr><th></th><th scope=col>cddept</th><th scope=col>referenceprel</th><th scope=col>cdparametre</th><th scope=col>cdparametresiseeaux</th><th scope=col>rsana</th><th scope=col>cdunitereferencesiseeaux</th></tr>\n",
       "\t<tr><th></th><th scope=col>&lt;fct&gt;</th><th scope=col>&lt;fct&gt;</th><th scope=col>&lt;int&gt;</th><th scope=col>&lt;fct&gt;</th><th scope=col>&lt;dbl&gt;</th><th scope=col>&lt;fct&gt;</th></tr>\n",
       "</thead>\n",
       "<tbody>\n",
       "\t<tr><th scope=row>1</th><td>001</td><td>00100119006</td><td>6489</td><td>ASP   </td><td>  1.00</td><td>SANS OBJET</td></tr>\n",
       "\t<tr><th scope=row>2</th><td>001</td><td>00100119006</td><td>1042</td><td>BSIR  </td><td>  0.00</td><td>n/(100mL) </td></tr>\n",
       "\t<tr><th scope=row>3</th><td>001</td><td>00100119006</td><td>1303</td><td>CDT25 </td><td>517.00</td><td>ÂµS/cm    </td></tr>\n",
       "\t<tr><th scope=row>4</th><td>001</td><td>00100119006</td><td>1398</td><td>CL2LIB</td><td>  0.09</td><td>mg(Cl2)/L </td></tr>\n",
       "\t<tr><th scope=row>5</th><td>001</td><td>00100119006</td><td>1399</td><td>CL2TOT</td><td>  0.11</td><td>mg(Cl2)/L </td></tr>\n",
       "\t<tr><th scope=row>6</th><td>001</td><td>00100119006</td><td>5900</td><td>COULQ </td><td>  1.00</td><td>SANS OBJET</td></tr>\n",
       "</tbody>\n",
       "</table>\n"
      ],
      "text/latex": [
       "A data.frame: 6 × 6\n",
       "\\begin{tabular}{r|llllll}\n",
       "  & cddept & referenceprel & cdparametre & cdparametresiseeaux & rsana & cdunitereferencesiseeaux\\\\\n",
       "  & <fct> & <fct> & <int> & <fct> & <dbl> & <fct>\\\\\n",
       "\\hline\n",
       "\t1 & 001 & 00100119006 & 6489 & ASP    &   1.00 & SANS OBJET\\\\\n",
       "\t2 & 001 & 00100119006 & 1042 & BSIR   &   0.00 & n/(100mL) \\\\\n",
       "\t3 & 001 & 00100119006 & 1303 & CDT25  & 517.00 & ÂµS/cm    \\\\\n",
       "\t4 & 001 & 00100119006 & 1398 & CL2LIB &   0.09 & mg(Cl2)/L \\\\\n",
       "\t5 & 001 & 00100119006 & 1399 & CL2TOT &   0.11 & mg(Cl2)/L \\\\\n",
       "\t6 & 001 & 00100119006 & 5900 & COULQ  &   1.00 & SANS OBJET\\\\\n",
       "\\end{tabular}\n"
      ],
      "text/markdown": [
       "\n",
       "A data.frame: 6 × 6\n",
       "\n",
       "| <!--/--> | cddept &lt;fct&gt; | referenceprel &lt;fct&gt; | cdparametre &lt;int&gt; | cdparametresiseeaux &lt;fct&gt; | rsana &lt;dbl&gt; | cdunitereferencesiseeaux &lt;fct&gt; |\n",
       "|---|---|---|---|---|---|---|\n",
       "| 1 | 001 | 00100119006 | 6489 | ASP    |   1.00 | SANS OBJET |\n",
       "| 2 | 001 | 00100119006 | 1042 | BSIR   |   0.00 | n/(100mL)  |\n",
       "| 3 | 001 | 00100119006 | 1303 | CDT25  | 517.00 | ÂµS/cm     |\n",
       "| 4 | 001 | 00100119006 | 1398 | CL2LIB |   0.09 | mg(Cl2)/L  |\n",
       "| 5 | 001 | 00100119006 | 1399 | CL2TOT |   0.11 | mg(Cl2)/L  |\n",
       "| 6 | 001 | 00100119006 | 5900 | COULQ  |   1.00 | SANS OBJET |\n",
       "\n"
      ],
      "text/plain": [
       "  cddept referenceprel cdparametre cdparametresiseeaux rsana \n",
       "1 001    00100119006   6489        ASP                   1.00\n",
       "2 001    00100119006   1042        BSIR                  0.00\n",
       "3 001    00100119006   1303        CDT25               517.00\n",
       "4 001    00100119006   1398        CL2LIB                0.09\n",
       "5 001    00100119006   1399        CL2TOT                0.11\n",
       "6 001    00100119006   5900        COULQ                 1.00\n",
       "  cdunitereferencesiseeaux\n",
       "1 SANS OBJET              \n",
       "2 n/(100mL)               \n",
       "3 ÂµS/cm                  \n",
       "4 mg(Cl2)/L               \n",
       "5 mg(Cl2)/L               \n",
       "6 SANS OBJET              "
      ]
     },
     "metadata": {},
     "output_type": "display_data"
    }
   ],
   "source": [
    "# Supprimer les colonnes inutiles\n",
    "UDI_RES_2020 <- subset(UDI_RES_2020, select = -c(cdanalyse, refechantillonlabo, datereceptionechant,cdtypeanalyse,analysecdorganisme,\n",
    "                 analysedate,insituana,rqana,rssigne,cdunitereference,cdfractionanalyse,sandrelaboratoire,\n",
    "                representativite,laboratoire,cdlaboratoire))\n",
    "head(UDI_RES_2020)"
   ]
  },
  {
   "cell_type": "markdown",
   "id": "17fbe09b",
   "metadata": {},
   "source": [
    "- <span style=\"color:steelblue\">Traitement et analyse du fichier UDI_PLV_2020 </span>"
   ]
  },
  {
   "cell_type": "code",
   "execution_count": 6,
   "id": "18d1e321",
   "metadata": {},
   "outputs": [
    {
     "data": {
      "text/html": [
       "<table class=\"dataframe\">\n",
       "<caption>A data.frame: 5 × 41</caption>\n",
       "<thead>\n",
       "\t<tr><th></th><th scope=col>distrcode</th><th scope=col>distrlib</th><th scope=col>distrsiret</th><th scope=col>cddept</th><th scope=col>inseecommune</th><th scope=col>nomcommune</th><th scope=col>cdreseau</th><th scope=col>nomreseau</th><th scope=col>codetypeinstallation</th><th scope=col>nomtypeinstallation</th><th scope=col>⋯</th><th scope=col>dtautorisation</th><th scope=col>champcaptant</th><th scope=col>codebrgm</th><th scope=col>codebss</th><th scope=col>dmajplv</th><th scope=col>dmodifplv</th><th scope=col>dmodifins</th><th scope=col>representativite</th><th scope=col>coord_x</th><th scope=col>coord_y</th></tr>\n",
       "\t<tr><th></th><th scope=col>&lt;fct&gt;</th><th scope=col>&lt;fct&gt;</th><th scope=col>&lt;fct&gt;</th><th scope=col>&lt;fct&gt;</th><th scope=col>&lt;fct&gt;</th><th scope=col>&lt;fct&gt;</th><th scope=col>&lt;fct&gt;</th><th scope=col>&lt;fct&gt;</th><th scope=col>&lt;fct&gt;</th><th scope=col>&lt;fct&gt;</th><th scope=col>⋯</th><th scope=col>&lt;lgl&gt;</th><th scope=col>&lt;lgl&gt;</th><th scope=col>&lt;lgl&gt;</th><th scope=col>&lt;lgl&gt;</th><th scope=col>&lt;fct&gt;</th><th scope=col>&lt;fct&gt;</th><th scope=col>&lt;fct&gt;</th><th scope=col>&lt;fct&gt;</th><th scope=col>&lt;dbl&gt;</th><th scope=col>&lt;dbl&gt;</th></tr>\n",
       "</thead>\n",
       "<tbody>\n",
       "\t<tr><th scope=row>90045</th><td>03800596</td><td>BIEVRE ISERE COMMUNAUTE            </td><td>              </td><td>038</td><td>38479</td><td>PORTE-DES-BONNEVAUX </td><td>038001576</td><td>ARZAY-SEMONS           </td><td>UDI</td><td>UNITE DE DISTRIBUTION</td><td>⋯</td><td>NA</td><td>NA</td><td>NA</td><td>NA</td><td>2020-12-30</td><td>2020-12-31</td><td>2018-08-02</td><td>O</td><td>      NA</td><td>     NA</td></tr>\n",
       "\t<tr><th scope=row>100824</th><td>04400446</td><td>NANTES METROPOLE - SERVICE DE L'EAU</td><td>              </td><td>044</td><td>44109</td><td>NANTES              </td><td>044000138</td><td>SECTEUR-NANTES         </td><td>UDI</td><td>UNITE DE DISTRIBUTION</td><td>⋯</td><td>NA</td><td>NA</td><td>NA</td><td>NA</td><td>2020-12-18</td><td>2020-12-21</td><td>2020-08-03</td><td>O</td><td>      NA</td><td>     NA</td></tr>\n",
       "\t<tr><th scope=row>30665</th><td>01301575</td><td>SOCIETE EAU DE MARSEILLE METROPOLE </td><td>80195069200013</td><td>013</td><td>13055</td><td>MARSEILLE           </td><td>013000577</td><td>MARSEILLE SAINTE-MARTHE</td><td>UDI</td><td>UNITE DE DISTRIBUTION</td><td>⋯</td><td>NA</td><td>NA</td><td>NA</td><td>NA</td><td>2020-09-10</td><td>2020-09-11</td><td>2021-02-08</td><td>O</td><td>895102.3</td><td>6245422</td></tr>\n",
       "\t<tr><th scope=row>207345</th><td>09101185</td><td>REGIE PUBLIQUE EAU OUEST ESSONNE   </td><td>              </td><td>091</td><td>91284</td><td>GRANGES-LE-ROI (LES)</td><td>091000361</td><td>SEOE EAUX DU ROI       </td><td>UDI</td><td>UNITE DE DISTRIBUTION</td><td>⋯</td><td>NA</td><td>NA</td><td>NA</td><td>NA</td><td>2020-11-25</td><td>2020-11-26</td><td>2020-10-26</td><td>O</td><td>627560.7</td><td>6822857</td></tr>\n",
       "\t<tr><th scope=row>218023</th><td>97200042</td><td>ODYSSI                             </td><td>              </td><td>972</td><td>97224</td><td>SAINT-JOSEPH        </td><td>972000031</td><td>CENTRE SUD             </td><td>UDI</td><td>UNITE DE DISTRIBUTION</td><td>⋯</td><td>NA</td><td>NA</td><td>NA</td><td>NA</td><td>2020-04-03</td><td>2020-04-06</td><td>2020-10-15</td><td>O</td><td>      NA</td><td>     NA</td></tr>\n",
       "</tbody>\n",
       "</table>\n"
      ],
      "text/latex": [
       "A data.frame: 5 × 41\n",
       "\\begin{tabular}{r|lllllllllllllllllllll}\n",
       "  & distrcode & distrlib & distrsiret & cddept & inseecommune & nomcommune & cdreseau & nomreseau & codetypeinstallation & nomtypeinstallation & ⋯ & dtautorisation & champcaptant & codebrgm & codebss & dmajplv & dmodifplv & dmodifins & representativite & coord\\_x & coord\\_y\\\\\n",
       "  & <fct> & <fct> & <fct> & <fct> & <fct> & <fct> & <fct> & <fct> & <fct> & <fct> & ⋯ & <lgl> & <lgl> & <lgl> & <lgl> & <fct> & <fct> & <fct> & <fct> & <dbl> & <dbl>\\\\\n",
       "\\hline\n",
       "\t90045 & 03800596 & BIEVRE ISERE COMMUNAUTE             &                & 038 & 38479 & PORTE-DES-BONNEVAUX  & 038001576 & ARZAY-SEMONS            & UDI & UNITE DE DISTRIBUTION & ⋯ & NA & NA & NA & NA & 2020-12-30 & 2020-12-31 & 2018-08-02 & O &       NA &      NA\\\\\n",
       "\t100824 & 04400446 & NANTES METROPOLE - SERVICE DE L'EAU &                & 044 & 44109 & NANTES               & 044000138 & SECTEUR-NANTES          & UDI & UNITE DE DISTRIBUTION & ⋯ & NA & NA & NA & NA & 2020-12-18 & 2020-12-21 & 2020-08-03 & O &       NA &      NA\\\\\n",
       "\t30665 & 01301575 & SOCIETE EAU DE MARSEILLE METROPOLE  & 80195069200013 & 013 & 13055 & MARSEILLE            & 013000577 & MARSEILLE SAINTE-MARTHE & UDI & UNITE DE DISTRIBUTION & ⋯ & NA & NA & NA & NA & 2020-09-10 & 2020-09-11 & 2021-02-08 & O & 895102.3 & 6245422\\\\\n",
       "\t207345 & 09101185 & REGIE PUBLIQUE EAU OUEST ESSONNE    &                & 091 & 91284 & GRANGES-LE-ROI (LES) & 091000361 & SEOE EAUX DU ROI        & UDI & UNITE DE DISTRIBUTION & ⋯ & NA & NA & NA & NA & 2020-11-25 & 2020-11-26 & 2020-10-26 & O & 627560.7 & 6822857\\\\\n",
       "\t218023 & 97200042 & ODYSSI                              &                & 972 & 97224 & SAINT-JOSEPH         & 972000031 & CENTRE SUD              & UDI & UNITE DE DISTRIBUTION & ⋯ & NA & NA & NA & NA & 2020-04-03 & 2020-04-06 & 2020-10-15 & O &       NA &      NA\\\\\n",
       "\\end{tabular}\n"
      ],
      "text/markdown": [
       "\n",
       "A data.frame: 5 × 41\n",
       "\n",
       "| <!--/--> | distrcode &lt;fct&gt; | distrlib &lt;fct&gt; | distrsiret &lt;fct&gt; | cddept &lt;fct&gt; | inseecommune &lt;fct&gt; | nomcommune &lt;fct&gt; | cdreseau &lt;fct&gt; | nomreseau &lt;fct&gt; | codetypeinstallation &lt;fct&gt; | nomtypeinstallation &lt;fct&gt; | ⋯ ⋯ | dtautorisation &lt;lgl&gt; | champcaptant &lt;lgl&gt; | codebrgm &lt;lgl&gt; | codebss &lt;lgl&gt; | dmajplv &lt;fct&gt; | dmodifplv &lt;fct&gt; | dmodifins &lt;fct&gt; | representativite &lt;fct&gt; | coord_x &lt;dbl&gt; | coord_y &lt;dbl&gt; |\n",
       "|---|---|---|---|---|---|---|---|---|---|---|---|---|---|---|---|---|---|---|---|---|---|\n",
       "| 90045 | 03800596 | BIEVRE ISERE COMMUNAUTE             | <!----> | 038 | 38479 | PORTE-DES-BONNEVAUX  | 038001576 | ARZAY-SEMONS            | UDI | UNITE DE DISTRIBUTION | ⋯ | NA | NA | NA | NA | 2020-12-30 | 2020-12-31 | 2018-08-02 | O |       NA |      NA |\n",
       "| 100824 | 04400446 | NANTES METROPOLE - SERVICE DE L'EAU | <!----> | 044 | 44109 | NANTES               | 044000138 | SECTEUR-NANTES          | UDI | UNITE DE DISTRIBUTION | ⋯ | NA | NA | NA | NA | 2020-12-18 | 2020-12-21 | 2020-08-03 | O |       NA |      NA |\n",
       "| 30665 | 01301575 | SOCIETE EAU DE MARSEILLE METROPOLE  | 80195069200013 | 013 | 13055 | MARSEILLE            | 013000577 | MARSEILLE SAINTE-MARTHE | UDI | UNITE DE DISTRIBUTION | ⋯ | NA | NA | NA | NA | 2020-09-10 | 2020-09-11 | 2021-02-08 | O | 895102.3 | 6245422 |\n",
       "| 207345 | 09101185 | REGIE PUBLIQUE EAU OUEST ESSONNE    | <!----> | 091 | 91284 | GRANGES-LE-ROI (LES) | 091000361 | SEOE EAUX DU ROI        | UDI | UNITE DE DISTRIBUTION | ⋯ | NA | NA | NA | NA | 2020-11-25 | 2020-11-26 | 2020-10-26 | O | 627560.7 | 6822857 |\n",
       "| 218023 | 97200042 | ODYSSI                              | <!----> | 972 | 97224 | SAINT-JOSEPH         | 972000031 | CENTRE SUD              | UDI | UNITE DE DISTRIBUTION | ⋯ | NA | NA | NA | NA | 2020-04-03 | 2020-04-06 | 2020-10-15 | O |       NA |      NA |\n",
       "\n"
      ],
      "text/plain": [
       "       distrcode distrlib                            distrsiret     cddept\n",
       "90045  03800596  BIEVRE ISERE COMMUNAUTE                            038   \n",
       "100824 04400446  NANTES METROPOLE - SERVICE DE L'EAU                044   \n",
       "30665  01301575  SOCIETE EAU DE MARSEILLE METROPOLE  80195069200013 013   \n",
       "207345 09101185  REGIE PUBLIQUE EAU OUEST ESSONNE                   091   \n",
       "218023 97200042  ODYSSI                                             972   \n",
       "       inseecommune nomcommune           cdreseau  nomreseau              \n",
       "90045  38479        PORTE-DES-BONNEVAUX  038001576 ARZAY-SEMONS           \n",
       "100824 44109        NANTES               044000138 SECTEUR-NANTES         \n",
       "30665  13055        MARSEILLE            013000577 MARSEILLE SAINTE-MARTHE\n",
       "207345 91284        GRANGES-LE-ROI (LES) 091000361 SEOE EAUX DU ROI       \n",
       "218023 97224        SAINT-JOSEPH         972000031 CENTRE SUD             \n",
       "       codetypeinstallation nomtypeinstallation   <U+22EF>        dtautorisation\n",
       "90045  UDI                  UNITE DE DISTRIBUTION <U+22EF> NA            \n",
       "100824 UDI                  UNITE DE DISTRIBUTION <U+22EF> NA            \n",
       "30665  UDI                  UNITE DE DISTRIBUTION <U+22EF> NA            \n",
       "207345 UDI                  UNITE DE DISTRIBUTION <U+22EF> NA            \n",
       "218023 UDI                  UNITE DE DISTRIBUTION <U+22EF> NA            \n",
       "       champcaptant codebrgm codebss dmajplv    dmodifplv  dmodifins \n",
       "90045  NA           NA       NA      2020-12-30 2020-12-31 2018-08-02\n",
       "100824 NA           NA       NA      2020-12-18 2020-12-21 2020-08-03\n",
       "30665  NA           NA       NA      2020-09-10 2020-09-11 2021-02-08\n",
       "207345 NA           NA       NA      2020-11-25 2020-11-26 2020-10-26\n",
       "218023 NA           NA       NA      2020-04-03 2020-04-06 2020-10-15\n",
       "       representativite coord_x  coord_y\n",
       "90045  O                      NA      NA\n",
       "100824 O                      NA      NA\n",
       "30665  O                895102.3 6245422\n",
       "207345 O                627560.7 6822857\n",
       "218023 O                      NA      NA"
      ]
     },
     "metadata": {},
     "output_type": "display_data"
    }
   ],
   "source": [
    "#aperçu du contenu du fichier\n",
    "UDI_PLV_2020[sample(nrow(UDI_PLV_2020), 5), ]"
   ]
  },
  {
   "cell_type": "code",
   "execution_count": 7,
   "id": "6b90a24d",
   "metadata": {},
   "outputs": [
    {
     "data": {
      "text/html": [
       "<table class=\"dataframe\">\n",
       "<caption>A data.frame: 6 × 10</caption>\n",
       "<thead>\n",
       "\t<tr><th></th><th scope=col>distrlib</th><th scope=col>cddept</th><th scope=col>inseecommune</th><th scope=col>nomcommune</th><th scope=col>cdreseau</th><th scope=col>nomreseau</th><th scope=col>referenceprel</th><th scope=col>dateprel</th><th scope=col>coord_x</th><th scope=col>coord_y</th></tr>\n",
       "\t<tr><th></th><th scope=col>&lt;fct&gt;</th><th scope=col>&lt;fct&gt;</th><th scope=col>&lt;fct&gt;</th><th scope=col>&lt;fct&gt;</th><th scope=col>&lt;fct&gt;</th><th scope=col>&lt;fct&gt;</th><th scope=col>&lt;fct&gt;</th><th scope=col>&lt;fct&gt;</th><th scope=col>&lt;dbl&gt;</th><th scope=col>&lt;dbl&gt;</th></tr>\n",
       "</thead>\n",
       "<tbody>\n",
       "\t<tr><th scope=row>1</th><td>SUEZ EAU FRANCE                </td><td>001</td><td>01001</td><td>ABERGEMENT-CLEMENCIAT (L')</td><td>001000556</td><td>BDS ST DIDIER/CHALARONNE</td><td>00100121499</td><td>2020-07-17</td><td>848240.0</td><td>6563024</td></tr>\n",
       "\t<tr><th scope=row>2</th><td>MAIRIE DE L'ABERGEMENT-DE-VAREY</td><td>001</td><td>01002</td><td>ABERGEMENT-DE-VAREY (L')  </td><td>001000369</td><td>L'ABERGEMENT-DE-VAREY   </td><td>00100120930</td><td>2020-06-09</td><td>887528.3</td><td>6548140</td></tr>\n",
       "\t<tr><th scope=row>3</th><td>MAIRIE DE L'ABERGEMENT-DE-VAREY</td><td>001</td><td>01002</td><td>ABERGEMENT-DE-VAREY (L')  </td><td>001000369</td><td>L'ABERGEMENT-DE-VAREY   </td><td>00100122448</td><td>2020-09-07</td><td>887566.2</td><td>6548031</td></tr>\n",
       "\t<tr><th scope=row>4</th><td>MAIRIE DE L'ABERGEMENT-DE-VAREY</td><td>001</td><td>01002</td><td>ABERGEMENT-DE-VAREY (L')  </td><td>001000369</td><td>L'ABERGEMENT-DE-VAREY   </td><td>00100123855</td><td>2020-12-11</td><td>881008.6</td><td>6551665</td></tr>\n",
       "\t<tr><th scope=row>5</th><td>SIE REGION D'AMBERIEU-EN-BUGEY </td><td>001</td><td>01004</td><td>AMBERIEU-EN-BUGEY         </td><td>001000248</td><td>AMBERIEU VAREILLES      </td><td>00100119724</td><td>2020-02-13</td><td>883144.0</td><td>6542340</td></tr>\n",
       "\t<tr><th scope=row>6</th><td>SIE REGION D'AMBERIEU-EN-BUGEY </td><td>001</td><td>01004</td><td>AMBERIEU-EN-BUGEY         </td><td>001000248</td><td>AMBERIEU VAREILLES      </td><td>00100120665</td><td>2020-05-14</td><td>883143.4</td><td>6542318</td></tr>\n",
       "</tbody>\n",
       "</table>\n"
      ],
      "text/latex": [
       "A data.frame: 6 × 10\n",
       "\\begin{tabular}{r|llllllllll}\n",
       "  & distrlib & cddept & inseecommune & nomcommune & cdreseau & nomreseau & referenceprel & dateprel & coord\\_x & coord\\_y\\\\\n",
       "  & <fct> & <fct> & <fct> & <fct> & <fct> & <fct> & <fct> & <fct> & <dbl> & <dbl>\\\\\n",
       "\\hline\n",
       "\t1 & SUEZ EAU FRANCE                 & 001 & 01001 & ABERGEMENT-CLEMENCIAT (L') & 001000556 & BDS ST DIDIER/CHALARONNE & 00100121499 & 2020-07-17 & 848240.0 & 6563024\\\\\n",
       "\t2 & MAIRIE DE L'ABERGEMENT-DE-VAREY & 001 & 01002 & ABERGEMENT-DE-VAREY (L')   & 001000369 & L'ABERGEMENT-DE-VAREY    & 00100120930 & 2020-06-09 & 887528.3 & 6548140\\\\\n",
       "\t3 & MAIRIE DE L'ABERGEMENT-DE-VAREY & 001 & 01002 & ABERGEMENT-DE-VAREY (L')   & 001000369 & L'ABERGEMENT-DE-VAREY    & 00100122448 & 2020-09-07 & 887566.2 & 6548031\\\\\n",
       "\t4 & MAIRIE DE L'ABERGEMENT-DE-VAREY & 001 & 01002 & ABERGEMENT-DE-VAREY (L')   & 001000369 & L'ABERGEMENT-DE-VAREY    & 00100123855 & 2020-12-11 & 881008.6 & 6551665\\\\\n",
       "\t5 & SIE REGION D'AMBERIEU-EN-BUGEY  & 001 & 01004 & AMBERIEU-EN-BUGEY          & 001000248 & AMBERIEU VAREILLES       & 00100119724 & 2020-02-13 & 883144.0 & 6542340\\\\\n",
       "\t6 & SIE REGION D'AMBERIEU-EN-BUGEY  & 001 & 01004 & AMBERIEU-EN-BUGEY          & 001000248 & AMBERIEU VAREILLES       & 00100120665 & 2020-05-14 & 883143.4 & 6542318\\\\\n",
       "\\end{tabular}\n"
      ],
      "text/markdown": [
       "\n",
       "A data.frame: 6 × 10\n",
       "\n",
       "| <!--/--> | distrlib &lt;fct&gt; | cddept &lt;fct&gt; | inseecommune &lt;fct&gt; | nomcommune &lt;fct&gt; | cdreseau &lt;fct&gt; | nomreseau &lt;fct&gt; | referenceprel &lt;fct&gt; | dateprel &lt;fct&gt; | coord_x &lt;dbl&gt; | coord_y &lt;dbl&gt; |\n",
       "|---|---|---|---|---|---|---|---|---|---|---|\n",
       "| 1 | SUEZ EAU FRANCE                 | 001 | 01001 | ABERGEMENT-CLEMENCIAT (L') | 001000556 | BDS ST DIDIER/CHALARONNE | 00100121499 | 2020-07-17 | 848240.0 | 6563024 |\n",
       "| 2 | MAIRIE DE L'ABERGEMENT-DE-VAREY | 001 | 01002 | ABERGEMENT-DE-VAREY (L')   | 001000369 | L'ABERGEMENT-DE-VAREY    | 00100120930 | 2020-06-09 | 887528.3 | 6548140 |\n",
       "| 3 | MAIRIE DE L'ABERGEMENT-DE-VAREY | 001 | 01002 | ABERGEMENT-DE-VAREY (L')   | 001000369 | L'ABERGEMENT-DE-VAREY    | 00100122448 | 2020-09-07 | 887566.2 | 6548031 |\n",
       "| 4 | MAIRIE DE L'ABERGEMENT-DE-VAREY | 001 | 01002 | ABERGEMENT-DE-VAREY (L')   | 001000369 | L'ABERGEMENT-DE-VAREY    | 00100123855 | 2020-12-11 | 881008.6 | 6551665 |\n",
       "| 5 | SIE REGION D'AMBERIEU-EN-BUGEY  | 001 | 01004 | AMBERIEU-EN-BUGEY          | 001000248 | AMBERIEU VAREILLES       | 00100119724 | 2020-02-13 | 883144.0 | 6542340 |\n",
       "| 6 | SIE REGION D'AMBERIEU-EN-BUGEY  | 001 | 01004 | AMBERIEU-EN-BUGEY          | 001000248 | AMBERIEU VAREILLES       | 00100120665 | 2020-05-14 | 883143.4 | 6542318 |\n",
       "\n"
      ],
      "text/plain": [
       "  distrlib                        cddept inseecommune\n",
       "1 SUEZ EAU FRANCE                 001    01001       \n",
       "2 MAIRIE DE L'ABERGEMENT-DE-VAREY 001    01002       \n",
       "3 MAIRIE DE L'ABERGEMENT-DE-VAREY 001    01002       \n",
       "4 MAIRIE DE L'ABERGEMENT-DE-VAREY 001    01002       \n",
       "5 SIE REGION D'AMBERIEU-EN-BUGEY  001    01004       \n",
       "6 SIE REGION D'AMBERIEU-EN-BUGEY  001    01004       \n",
       "  nomcommune                 cdreseau  nomreseau                referenceprel\n",
       "1 ABERGEMENT-CLEMENCIAT (L') 001000556 BDS ST DIDIER/CHALARONNE 00100121499  \n",
       "2 ABERGEMENT-DE-VAREY (L')   001000369 L'ABERGEMENT-DE-VAREY    00100120930  \n",
       "3 ABERGEMENT-DE-VAREY (L')   001000369 L'ABERGEMENT-DE-VAREY    00100122448  \n",
       "4 ABERGEMENT-DE-VAREY (L')   001000369 L'ABERGEMENT-DE-VAREY    00100123855  \n",
       "5 AMBERIEU-EN-BUGEY          001000248 AMBERIEU VAREILLES       00100119724  \n",
       "6 AMBERIEU-EN-BUGEY          001000248 AMBERIEU VAREILLES       00100120665  \n",
       "  dateprel   coord_x  coord_y\n",
       "1 2020-07-17 848240.0 6563024\n",
       "2 2020-06-09 887528.3 6548140\n",
       "3 2020-09-07 887566.2 6548031\n",
       "4 2020-12-11 881008.6 6551665\n",
       "5 2020-02-13 883144.0 6542340\n",
       "6 2020-05-14 883143.4 6542318"
      ]
     },
     "metadata": {},
     "output_type": "display_data"
    }
   ],
   "source": [
    "# Supprimer les colonnes inutiles\n",
    "UDI_PLV_2020 <- subset(UDI_PLV_2020, select = -c(distrcode, distrcode, distrsiret,codetypeinstallation,nomtypeinstallation,\n",
    "                                                inae,cdpointsurv,nompointsurv,heureprel,finaliteprel,conclusionprel,cdtypeeau,libtypeeau,\n",
    "                                                plvconformitebacterio,plvconformitechimique,plvcomplet,plvcdorganismepayeur,typevisite,\n",
    "                                                plvcondition,preleveur,distrsiren,plvconformiterefbacterio,plvconformiterefchimique,\n",
    "                                                cddeptsandre,dtautorisation,champcaptant,codebrgm,codebss,dmajplv,dmodifplv,dmodifins,representativite))\n",
    "head(UDI_PLV_2020)"
   ]
  },
  {
   "cell_type": "code",
   "execution_count": 8,
   "id": "c33aeb79",
   "metadata": {},
   "outputs": [
    {
     "data": {
      "text/plain": [
       "\n",
       " FALSE   TRUE \n",
       " 90359 131217 "
      ]
     },
     "metadata": {},
     "output_type": "display_data"
    },
    {
     "data": {
      "text/plain": [
       "\n",
       "    FALSE      TRUE \n",
       "0.4078014 0.5921986 "
      ]
     },
     "metadata": {},
     "output_type": "display_data"
    }
   ],
   "source": [
    "#regarder le nombres de valeurs manquantes sur les coordonnées x et y:\n",
    "table(is.na(UDI_PLV_2020$coord_x))\n",
    "table(is.na(UDI_PLV_2020$coord_x)) %>% prop.table"
   ]
  },
  {
   "cell_type": "markdown",
   "id": "0a72f38a",
   "metadata": {},
   "source": [
    " <span style=\"color:indianred\">59% du fichier 2020 n'ont pas de coordonnées x et y.</span> \n"
   ]
  },
  {
   "cell_type": "markdown",
   "id": "4da45d92",
   "metadata": {},
   "source": [
    "### <span style=\"color:olivedrab\">Partie II - Jointure</span> "
   ]
  },
  {
   "cell_type": "markdown",
   "id": "880ae51b",
   "metadata": {},
   "source": [
    "- <span style=\"color:steelblue\"> Jointure entre PLV et RES_2020 </span>"
   ]
  },
  {
   "cell_type": "code",
   "execution_count": 9,
   "id": "044d8d95",
   "metadata": {},
   "outputs": [
    {
     "name": "stdout",
     "output_type": "stream",
     "text": [
      "[1] \"les dimensions du fichier après jointure\"\n",
      "[1] 5079362      15\n"
     ]
    },
    {
     "data": {
      "text/html": [
       "<table class=\"dataframe\">\n",
       "<caption>A data.frame: 5 × 15</caption>\n",
       "<thead>\n",
       "\t<tr><th></th><th scope=col>referenceprel</th><th scope=col>distrlib</th><th scope=col>cddept.x</th><th scope=col>inseecommune</th><th scope=col>nomcommune</th><th scope=col>cdreseau</th><th scope=col>nomreseau</th><th scope=col>dateprel</th><th scope=col>coord_x</th><th scope=col>coord_y</th><th scope=col>cddept.y</th><th scope=col>cdparametre</th><th scope=col>cdparametresiseeaux</th><th scope=col>rsana</th><th scope=col>cdunitereferencesiseeaux</th></tr>\n",
       "\t<tr><th></th><th scope=col>&lt;fct&gt;</th><th scope=col>&lt;fct&gt;</th><th scope=col>&lt;fct&gt;</th><th scope=col>&lt;fct&gt;</th><th scope=col>&lt;fct&gt;</th><th scope=col>&lt;fct&gt;</th><th scope=col>&lt;fct&gt;</th><th scope=col>&lt;fct&gt;</th><th scope=col>&lt;dbl&gt;</th><th scope=col>&lt;dbl&gt;</th><th scope=col>&lt;fct&gt;</th><th scope=col>&lt;int&gt;</th><th scope=col>&lt;fct&gt;</th><th scope=col>&lt;dbl&gt;</th><th scope=col>&lt;fct&gt;</th></tr>\n",
       "</thead>\n",
       "<tbody>\n",
       "\t<tr><th scope=row>2085576</th><td>03500148306</td><td>SPL EBR                        </td><td>035</td><td>35238</td><td>RENNES              </td><td>035003647</td><td>RENNES PAR RESERVOIRS DES GALLETS</td><td>2020-07-16</td><td>NA</td><td>NA</td><td>035</td><td>1345</td><td>TH     </td><td>18.5</td><td>Â°f      </td></tr>\n",
       "\t<tr><th scope=row>1992874</th><td>03300232014</td><td>SUEZ EAU FRANCE                </td><td>033</td><td>33330</td><td>POMPIGNAC           </td><td>033002246</td><td>CARBON BLANC HAUT SERVICE        </td><td>2020-12-04</td><td>NA</td><td>NA</td><td>033</td><td>1309</td><td>COULF  </td><td> 0.0</td><td>mg(Pt)/L </td></tr>\n",
       "\t<tr><th scope=row>4225472</th><td>07600263575</td><td>METROPOLE ROUEN NORMANDIE      </td><td>076</td><td>76498</td><td>PETIT-QUEVILLY (LE) </td><td>076000545</td><td>BANLIEUE SUD ROUEN               </td><td>2020-09-23</td><td>NA</td><td>NA</td><td>076</td><td>5440</td><td>GT22_68</td><td> 1.0</td><td>n/mL     </td></tr>\n",
       "\t<tr><th scope=row>1753871</th><td>02B00100326</td><td>ACQUA PUBLICA                  </td><td>02B</td><td>2B305</td><td>SAN-MARTINO-DI-LOTA </td><td>02B002177</td><td>HAUT SAN MARTINO DI LOTA         </td><td>2020-05-27</td><td>NA</td><td>NA</td><td>02B</td><td>1447</td><td>CTF    </td><td> 0.0</td><td>n/(100mL)</td></tr>\n",
       "\t<tr><th scope=row>2933807</th><td>05200083293</td><td>CA DE SAINT-DIZIER DER &amp; BLAISE</td><td>052</td><td>52414</td><td>RACHECOURT-SUR-MARNE</td><td>052000654</td><td><span style=white-space:pre-wrap>RACHECOURT-SUR-MARNE             </span></td><td>2020-04-17</td><td>NA</td><td>NA</td><td>052</td><td>6455</td><td><span style=white-space:pre-wrap>STRF   </span></td><td> 0.0</td><td>n/(100mL)</td></tr>\n",
       "</tbody>\n",
       "</table>\n"
      ],
      "text/latex": [
       "A data.frame: 5 × 15\n",
       "\\begin{tabular}{r|lllllllllllllll}\n",
       "  & referenceprel & distrlib & cddept.x & inseecommune & nomcommune & cdreseau & nomreseau & dateprel & coord\\_x & coord\\_y & cddept.y & cdparametre & cdparametresiseeaux & rsana & cdunitereferencesiseeaux\\\\\n",
       "  & <fct> & <fct> & <fct> & <fct> & <fct> & <fct> & <fct> & <fct> & <dbl> & <dbl> & <fct> & <int> & <fct> & <dbl> & <fct>\\\\\n",
       "\\hline\n",
       "\t2085576 & 03500148306 & SPL EBR                         & 035 & 35238 & RENNES               & 035003647 & RENNES PAR RESERVOIRS DES GALLETS & 2020-07-16 & NA & NA & 035 & 1345 & TH      & 18.5 & Â°f      \\\\\n",
       "\t1992874 & 03300232014 & SUEZ EAU FRANCE                 & 033 & 33330 & POMPIGNAC            & 033002246 & CARBON BLANC HAUT SERVICE         & 2020-12-04 & NA & NA & 033 & 1309 & COULF   &  0.0 & mg(Pt)/L \\\\\n",
       "\t4225472 & 07600263575 & METROPOLE ROUEN NORMANDIE       & 076 & 76498 & PETIT-QUEVILLY (LE)  & 076000545 & BANLIEUE SUD ROUEN                & 2020-09-23 & NA & NA & 076 & 5440 & GT22\\_68 &  1.0 & n/mL     \\\\\n",
       "\t1753871 & 02B00100326 & ACQUA PUBLICA                   & 02B & 2B305 & SAN-MARTINO-DI-LOTA  & 02B002177 & HAUT SAN MARTINO DI LOTA          & 2020-05-27 & NA & NA & 02B & 1447 & CTF     &  0.0 & n/(100mL)\\\\\n",
       "\t2933807 & 05200083293 & CA DE SAINT-DIZIER DER \\& BLAISE & 052 & 52414 & RACHECOURT-SUR-MARNE & 052000654 & RACHECOURT-SUR-MARNE              & 2020-04-17 & NA & NA & 052 & 6455 & STRF    &  0.0 & n/(100mL)\\\\\n",
       "\\end{tabular}\n"
      ],
      "text/markdown": [
       "\n",
       "A data.frame: 5 × 15\n",
       "\n",
       "| <!--/--> | referenceprel &lt;fct&gt; | distrlib &lt;fct&gt; | cddept.x &lt;fct&gt; | inseecommune &lt;fct&gt; | nomcommune &lt;fct&gt; | cdreseau &lt;fct&gt; | nomreseau &lt;fct&gt; | dateprel &lt;fct&gt; | coord_x &lt;dbl&gt; | coord_y &lt;dbl&gt; | cddept.y &lt;fct&gt; | cdparametre &lt;int&gt; | cdparametresiseeaux &lt;fct&gt; | rsana &lt;dbl&gt; | cdunitereferencesiseeaux &lt;fct&gt; |\n",
       "|---|---|---|---|---|---|---|---|---|---|---|---|---|---|---|---|\n",
       "| 2085576 | 03500148306 | SPL EBR                         | 035 | 35238 | RENNES               | 035003647 | RENNES PAR RESERVOIRS DES GALLETS | 2020-07-16 | NA | NA | 035 | 1345 | TH      | 18.5 | Â°f       |\n",
       "| 1992874 | 03300232014 | SUEZ EAU FRANCE                 | 033 | 33330 | POMPIGNAC            | 033002246 | CARBON BLANC HAUT SERVICE         | 2020-12-04 | NA | NA | 033 | 1309 | COULF   |  0.0 | mg(Pt)/L  |\n",
       "| 4225472 | 07600263575 | METROPOLE ROUEN NORMANDIE       | 076 | 76498 | PETIT-QUEVILLY (LE)  | 076000545 | BANLIEUE SUD ROUEN                | 2020-09-23 | NA | NA | 076 | 5440 | GT22_68 |  1.0 | n/mL      |\n",
       "| 1753871 | 02B00100326 | ACQUA PUBLICA                   | 02B | 2B305 | SAN-MARTINO-DI-LOTA  | 02B002177 | HAUT SAN MARTINO DI LOTA          | 2020-05-27 | NA | NA | 02B | 1447 | CTF     |  0.0 | n/(100mL) |\n",
       "| 2933807 | 05200083293 | CA DE SAINT-DIZIER DER &amp; BLAISE | 052 | 52414 | RACHECOURT-SUR-MARNE | 052000654 | RACHECOURT-SUR-MARNE              | 2020-04-17 | NA | NA | 052 | 6455 | STRF    |  0.0 | n/(100mL) |\n",
       "\n"
      ],
      "text/plain": [
       "        referenceprel distrlib                        cddept.x inseecommune\n",
       "2085576 03500148306   SPL EBR                         035      35238       \n",
       "1992874 03300232014   SUEZ EAU FRANCE                 033      33330       \n",
       "4225472 07600263575   METROPOLE ROUEN NORMANDIE       076      76498       \n",
       "1753871 02B00100326   ACQUA PUBLICA                   02B      2B305       \n",
       "2933807 05200083293   CA DE SAINT-DIZIER DER & BLAISE 052      52414       \n",
       "        nomcommune           cdreseau  nomreseau                        \n",
       "2085576 RENNES               035003647 RENNES PAR RESERVOIRS DES GALLETS\n",
       "1992874 POMPIGNAC            033002246 CARBON BLANC HAUT SERVICE        \n",
       "4225472 PETIT-QUEVILLY (LE)  076000545 BANLIEUE SUD ROUEN               \n",
       "1753871 SAN-MARTINO-DI-LOTA  02B002177 HAUT SAN MARTINO DI LOTA         \n",
       "2933807 RACHECOURT-SUR-MARNE 052000654 RACHECOURT-SUR-MARNE             \n",
       "        dateprel   coord_x coord_y cddept.y cdparametre cdparametresiseeaux\n",
       "2085576 2020-07-16 NA      NA      035      1345        TH                 \n",
       "1992874 2020-12-04 NA      NA      033      1309        COULF              \n",
       "4225472 2020-09-23 NA      NA      076      5440        GT22_68            \n",
       "1753871 2020-05-27 NA      NA      02B      1447        CTF                \n",
       "2933807 2020-04-17 NA      NA      052      6455        STRF               \n",
       "        rsana cdunitereferencesiseeaux\n",
       "2085576 18.5  Â°f                     \n",
       "1992874  0.0  mg(Pt)/L                \n",
       "4225472  1.0  n/mL                    \n",
       "1753871  0.0  n/(100mL)               \n",
       "2933807  0.0  n/(100mL)               "
      ]
     },
     "metadata": {},
     "output_type": "display_data"
    }
   ],
   "source": [
    "Fichier_2020<- merge(UDI_PLV_2020, UDI_RES_2020, by = \"referenceprel\")\n",
    "print(\"les dimensions du fichier après jointure\")\n",
    "print(dim(Fichier_2020))\n",
    "Fichier_2020[sample(nrow(Fichier_2020), 5), ]"
   ]
  },
  {
   "cell_type": "code",
   "execution_count": 10,
   "id": "f4b62d24",
   "metadata": {},
   "outputs": [
    {
     "data": {
      "text/plain": [
       "\n",
       "  FALSE    TRUE \n",
       "2001398 3077964 "
      ]
     },
     "metadata": {},
     "output_type": "display_data"
    },
    {
     "data": {
      "text/plain": [
       "\n",
       "    FALSE      TRUE \n",
       "0.3940255 0.6059745 "
      ]
     },
     "metadata": {},
     "output_type": "display_data"
    }
   ],
   "source": [
    "#regarder le nombres de valeurs manquantes sur les coordonnées x et y:\n",
    "table(is.na(Fichier_2020$coord_x))\n",
    "table(is.na(Fichier_2020$coord_x)) %>% prop.table"
   ]
  },
  {
   "cell_type": "markdown",
   "id": "33345ca7",
   "metadata": {},
   "source": [
    " <span style=\"color:indianred\">60% des données après jointures n'ont pas de coordonnées x et y après jointure</span> \n"
   ]
  },
  {
   "cell_type": "markdown",
   "id": "c5ea6eeb",
   "metadata": {},
   "source": [
    "- <span style=\"color:steelblue\"> Jointure entre Fichier_2020 et DPT_français </span>"
   ]
  },
  {
   "cell_type": "code",
   "execution_count": 11,
   "id": "f817da62",
   "metadata": {},
   "outputs": [
    {
     "name": "stdout",
     "output_type": "stream",
     "text": [
      "[1] \"les dimensions du fichier après jointure avec les régions\"\n",
      "[1] 5079362      22\n"
     ]
    },
    {
     "data": {
      "text/html": [
       "<table class=\"dataframe\">\n",
       "<caption>A data.frame: 5 × 22</caption>\n",
       "<thead>\n",
       "\t<tr><th></th><th scope=col>cddept.x</th><th scope=col>referenceprel</th><th scope=col>distrlib</th><th scope=col>inseecommune</th><th scope=col>nomcommune</th><th scope=col>cdreseau</th><th scope=col>nomreseau</th><th scope=col>dateprel</th><th scope=col>coord_x</th><th scope=col>coord_y</th><th scope=col>⋯</th><th scope=col>cdparametresiseeaux</th><th scope=col>rsana</th><th scope=col>cdunitereferencesiseeaux</th><th scope=col>NOM</th><th scope=col>NUMÉRO</th><th scope=col>REGION</th><th scope=col>CHEF LIEU</th><th scope=col>SUPERFICIE (km²)</th><th scope=col>POPULATION</th><th scope=col>DENSITE (habitants/km2)</th></tr>\n",
       "\t<tr><th></th><th scope=col>&lt;fct&gt;</th><th scope=col>&lt;fct&gt;</th><th scope=col>&lt;fct&gt;</th><th scope=col>&lt;fct&gt;</th><th scope=col>&lt;fct&gt;</th><th scope=col>&lt;fct&gt;</th><th scope=col>&lt;fct&gt;</th><th scope=col>&lt;fct&gt;</th><th scope=col>&lt;dbl&gt;</th><th scope=col>&lt;dbl&gt;</th><th scope=col>⋯</th><th scope=col>&lt;fct&gt;</th><th scope=col>&lt;dbl&gt;</th><th scope=col>&lt;fct&gt;</th><th scope=col>&lt;chr&gt;</th><th scope=col>&lt;chr&gt;</th><th scope=col>&lt;chr&gt;</th><th scope=col>&lt;chr&gt;</th><th scope=col>&lt;dbl&gt;</th><th scope=col>&lt;dbl&gt;</th><th scope=col>&lt;dbl&gt;</th></tr>\n",
       "</thead>\n",
       "<tbody>\n",
       "\t<tr><th scope=row>367363</th><td>007</td><td>00700172480</td><td>SAUR MONTELIMAR                     </td><td>07332</td><td>VALVIGNERES             </td><td>007003346</td><td>SI FAY VALVIGNERES     </td><td>2020-11-04</td><td>825187.5</td><td>6379173</td><td>⋯</td><td>CALCOC2</td><td> 1</td><td>SANS OBJET</td><td>Ardèche       </td><td>7 </td><td>Auvergne-Rhône-Alpes      </td><td>Privas     </td><td>5529</td><td> 324209</td><td> 58.6</td></tr>\n",
       "\t<tr><th scope=row>4510197</th><td>083</td><td>08300250549</td><td>MAIRIE DE SEILLONS-SOURCE-D'ARGENS  </td><td>83125</td><td>SEILLONS-SOURCE-D'ARGENS</td><td>083000088</td><td>ADDUCTION DE SEILLONS  </td><td>2020-07-07</td><td>      NA</td><td>     NA</td><td>⋯</td><td>CARBR  </td><td> 0</td><td>Âµg/L     </td><td>Var           </td><td>83</td><td>Provence-Alpes-Côte d'Azur</td><td>Toulon     </td><td>5973</td><td>1048652</td><td>175.6</td></tr>\n",
       "\t<tr><th scope=row>2137714</th><td>036</td><td>03600082919</td><td>SAUR FRANCE CENTRE LIMOUSIN BERRY   </td><td>36063</td><td>DEOLS                   </td><td>036000194</td><td>DEOLS VILLE            </td><td>2020-11-09</td><td>601218.7</td><td>6637002</td><td>⋯</td><td>COULF  </td><td> 0</td><td>mg(Pt)/L  </td><td>Indre         </td><td>36</td><td>Centre-Val de Loire       </td><td>Châteauroux</td><td>6791</td><td> 224200</td><td> 33.0</td></tr>\n",
       "\t<tr><th scope=row>4301463</th><td>077</td><td>07700213756</td><td>VEOLIA EAU - TERRITOIRE MARNE &amp; OISE</td><td>77243</td><td><span style=white-space:pre-wrap>LAGNY-SUR-MARNE         </span></td><td>077001503</td><td>SIAEP REGION DE LAGNY A</td><td>2020-10-02</td><td>678422.8</td><td>6864227</td><td>⋯</td><td>ODEUR25</td><td>NA</td><td><span style=white-space:pre-wrap>n         </span></td><td>Seine-et-Marne</td><td>77</td><td><span style=white-space:pre-wrap>Ile-de-France             </span></td><td><span style=white-space:pre-wrap>Melun      </span></td><td>5915</td><td>1390121</td><td>235.0</td></tr>\n",
       "\t<tr><th scope=row>3466753</th><td>062</td><td>06200244245</td><td>S.I VALLEES DU GY ET DE LA SCARPE   </td><td>62820</td><td>TINCQUES                </td><td>062000838</td><td>TINCQUES               </td><td>2020-08-10</td><td>663891.1</td><td>7029038</td><td>⋯</td><td>ODQ    </td><td> 0</td><td>SANS OBJET</td><td>Pas-de-Calais </td><td>62</td><td>Hauts-de-France           </td><td>Arras      </td><td>6671</td><td>1472648</td><td>220.7</td></tr>\n",
       "</tbody>\n",
       "</table>\n"
      ],
      "text/latex": [
       "A data.frame: 5 × 22\n",
       "\\begin{tabular}{r|lllllllllllllllllllll}\n",
       "  & cddept.x & referenceprel & distrlib & inseecommune & nomcommune & cdreseau & nomreseau & dateprel & coord\\_x & coord\\_y & ⋯ & cdparametresiseeaux & rsana & cdunitereferencesiseeaux & NOM & NUMÉRO & REGION & CHEF LIEU & SUPERFICIE (km²) & POPULATION & DENSITE (habitants/km2)\\\\\n",
       "  & <fct> & <fct> & <fct> & <fct> & <fct> & <fct> & <fct> & <fct> & <dbl> & <dbl> & ⋯ & <fct> & <dbl> & <fct> & <chr> & <chr> & <chr> & <chr> & <dbl> & <dbl> & <dbl>\\\\\n",
       "\\hline\n",
       "\t367363 & 007 & 00700172480 & SAUR MONTELIMAR                      & 07332 & VALVIGNERES              & 007003346 & SI FAY VALVIGNERES      & 2020-11-04 & 825187.5 & 6379173 & ⋯ & CALCOC2 &  1 & SANS OBJET & Ardèche        & 7  & Auvergne-Rhône-Alpes       & Privas      & 5529 &  324209 &  58.6\\\\\n",
       "\t4510197 & 083 & 08300250549 & MAIRIE DE SEILLONS-SOURCE-D'ARGENS   & 83125 & SEILLONS-SOURCE-D'ARGENS & 083000088 & ADDUCTION DE SEILLONS   & 2020-07-07 &       NA &      NA & ⋯ & CARBR   &  0 & Âµg/L      & Var            & 83 & Provence-Alpes-Côte d'Azur & Toulon      & 5973 & 1048652 & 175.6\\\\\n",
       "\t2137714 & 036 & 03600082919 & SAUR FRANCE CENTRE LIMOUSIN BERRY    & 36063 & DEOLS                    & 036000194 & DEOLS VILLE             & 2020-11-09 & 601218.7 & 6637002 & ⋯ & COULF   &  0 & mg(Pt)/L   & Indre          & 36 & Centre-Val de Loire        & Châteauroux & 6791 &  224200 &  33.0\\\\\n",
       "\t4301463 & 077 & 07700213756 & VEOLIA EAU - TERRITOIRE MARNE \\& OISE & 77243 & LAGNY-SUR-MARNE          & 077001503 & SIAEP REGION DE LAGNY A & 2020-10-02 & 678422.8 & 6864227 & ⋯ & ODEUR25 & NA & n          & Seine-et-Marne & 77 & Ile-de-France              & Melun       & 5915 & 1390121 & 235.0\\\\\n",
       "\t3466753 & 062 & 06200244245 & S.I VALLEES DU GY ET DE LA SCARPE    & 62820 & TINCQUES                 & 062000838 & TINCQUES                & 2020-08-10 & 663891.1 & 7029038 & ⋯ & ODQ     &  0 & SANS OBJET & Pas-de-Calais  & 62 & Hauts-de-France            & Arras       & 6671 & 1472648 & 220.7\\\\\n",
       "\\end{tabular}\n"
      ],
      "text/markdown": [
       "\n",
       "A data.frame: 5 × 22\n",
       "\n",
       "| <!--/--> | cddept.x &lt;fct&gt; | referenceprel &lt;fct&gt; | distrlib &lt;fct&gt; | inseecommune &lt;fct&gt; | nomcommune &lt;fct&gt; | cdreseau &lt;fct&gt; | nomreseau &lt;fct&gt; | dateprel &lt;fct&gt; | coord_x &lt;dbl&gt; | coord_y &lt;dbl&gt; | ⋯ ⋯ | cdparametresiseeaux &lt;fct&gt; | rsana &lt;dbl&gt; | cdunitereferencesiseeaux &lt;fct&gt; | NOM &lt;chr&gt; | NUMÉRO &lt;chr&gt; | REGION &lt;chr&gt; | CHEF LIEU &lt;chr&gt; | SUPERFICIE (km²) &lt;dbl&gt; | POPULATION &lt;dbl&gt; | DENSITE (habitants/km2) &lt;dbl&gt; |\n",
       "|---|---|---|---|---|---|---|---|---|---|---|---|---|---|---|---|---|---|---|---|---|---|\n",
       "| 367363 | 007 | 00700172480 | SAUR MONTELIMAR                      | 07332 | VALVIGNERES              | 007003346 | SI FAY VALVIGNERES      | 2020-11-04 | 825187.5 | 6379173 | ⋯ | CALCOC2 |  1 | SANS OBJET | Ardèche        | 7  | Auvergne-Rhône-Alpes       | Privas      | 5529 |  324209 |  58.6 |\n",
       "| 4510197 | 083 | 08300250549 | MAIRIE DE SEILLONS-SOURCE-D'ARGENS   | 83125 | SEILLONS-SOURCE-D'ARGENS | 083000088 | ADDUCTION DE SEILLONS   | 2020-07-07 |       NA |      NA | ⋯ | CARBR   |  0 | Âµg/L      | Var            | 83 | Provence-Alpes-Côte d'Azur | Toulon      | 5973 | 1048652 | 175.6 |\n",
       "| 2137714 | 036 | 03600082919 | SAUR FRANCE CENTRE LIMOUSIN BERRY    | 36063 | DEOLS                    | 036000194 | DEOLS VILLE             | 2020-11-09 | 601218.7 | 6637002 | ⋯ | COULF   |  0 | mg(Pt)/L   | Indre          | 36 | Centre-Val de Loire        | Châteauroux | 6791 |  224200 |  33.0 |\n",
       "| 4301463 | 077 | 07700213756 | VEOLIA EAU - TERRITOIRE MARNE &amp; OISE | 77243 | LAGNY-SUR-MARNE          | 077001503 | SIAEP REGION DE LAGNY A | 2020-10-02 | 678422.8 | 6864227 | ⋯ | ODEUR25 | NA | n          | Seine-et-Marne | 77 | Ile-de-France              | Melun       | 5915 | 1390121 | 235.0 |\n",
       "| 3466753 | 062 | 06200244245 | S.I VALLEES DU GY ET DE LA SCARPE    | 62820 | TINCQUES                 | 062000838 | TINCQUES                | 2020-08-10 | 663891.1 | 7029038 | ⋯ | ODQ     |  0 | SANS OBJET | Pas-de-Calais  | 62 | Hauts-de-France            | Arras       | 6671 | 1472648 | 220.7 |\n",
       "\n"
      ],
      "text/plain": [
       "        cddept.x referenceprel distrlib                            \n",
       "367363  007      00700172480   SAUR MONTELIMAR                     \n",
       "4510197 083      08300250549   MAIRIE DE SEILLONS-SOURCE-D'ARGENS  \n",
       "2137714 036      03600082919   SAUR FRANCE CENTRE LIMOUSIN BERRY   \n",
       "4301463 077      07700213756   VEOLIA EAU - TERRITOIRE MARNE & OISE\n",
       "3466753 062      06200244245   S.I VALLEES DU GY ET DE LA SCARPE   \n",
       "        inseecommune nomcommune               cdreseau  nomreseau              \n",
       "367363  07332        VALVIGNERES              007003346 SI FAY VALVIGNERES     \n",
       "4510197 83125        SEILLONS-SOURCE-D'ARGENS 083000088 ADDUCTION DE SEILLONS  \n",
       "2137714 36063        DEOLS                    036000194 DEOLS VILLE            \n",
       "4301463 77243        LAGNY-SUR-MARNE          077001503 SIAEP REGION DE LAGNY A\n",
       "3466753 62820        TINCQUES                 062000838 TINCQUES               \n",
       "        dateprel   coord_x  coord_y <U+22EF>        cdparametresiseeaux rsana\n",
       "367363  2020-11-04 825187.5 6379173 <U+22EF> CALCOC2              1   \n",
       "4510197 2020-07-07       NA      NA <U+22EF> CARBR                0   \n",
       "2137714 2020-11-09 601218.7 6637002 <U+22EF> COULF                0   \n",
       "4301463 2020-10-02 678422.8 6864227 <U+22EF> ODEUR25             NA   \n",
       "3466753 2020-08-10 663891.1 7029038 <U+22EF> ODQ                  0   \n",
       "        cdunitereferencesiseeaux NOM            NUMÉRO\n",
       "367363  SANS OBJET               Ardèche        7     \n",
       "4510197 Âµg/L                    Var            83    \n",
       "2137714 mg(Pt)/L                 Indre          36    \n",
       "4301463 n                        Seine-et-Marne 77    \n",
       "3466753 SANS OBJET               Pas-de-Calais  62    \n",
       "        REGION                     CHEF LIEU   SUPERFICIE (km²) POPULATION\n",
       "367363  Auvergne-Rhône-Alpes       Privas      5529              324209   \n",
       "4510197 Provence-Alpes-Côte d'Azur Toulon      5973             1048652   \n",
       "2137714 Centre-Val de Loire        Châteauroux 6791              224200   \n",
       "4301463 Ile-de-France              Melun       5915             1390121   \n",
       "3466753 Hauts-de-France            Arras       6671             1472648   \n",
       "        DENSITE (habitants/km2)\n",
       "367363   58.6                  \n",
       "4510197 175.6                  \n",
       "2137714  33.0                  \n",
       "4301463 235.0                  \n",
       "3466753 220.7                  "
      ]
     },
     "metadata": {},
     "output_type": "display_data"
    }
   ],
   "source": [
    "PLV_2020<- merge(Fichier_2020, dpt_francais, by = \"cddept.x\")\n",
    "print(\"les dimensions du fichier après jointure avec les régions\")\n",
    "print(dim(PLV_2020))\n",
    "PLV_2020[sample(nrow(PLV_2020), 5), ]"
   ]
  },
  {
   "cell_type": "code",
   "execution_count": 12,
   "id": "2293c8cf",
   "metadata": {},
   "outputs": [
    {
     "data": {
      "text/html": [
       "<style>\n",
       ".list-inline {list-style: none; margin:0; padding: 0}\n",
       ".list-inline>li {display: inline-block}\n",
       ".list-inline>li:not(:last-child)::after {content: \"\\00b7\"; padding: 0 .5ex}\n",
       "</style>\n",
       "<ol class=list-inline><li>'Auvergne-Rhône-Alpes'</li><li>'Hauts-de-France'</li><li>'Provence-Alpes-Côte d\\'Azur'</li><li>'Grand Est'</li><li>'Occitanie'</li><li>'Normandie'</li><li>'Nouvelle-Aquitaine'</li><li>'Centre-Val de Loire'</li><li>'Bourgogne-Franche-Comté'</li><li>'Bretagne'</li><li>'Corse'</li><li>'Pays de la Loire'</li><li>'Ile-de-France'</li><li>'Guadeloupe'</li><li>'Martinique'</li><li>'Guyane'</li><li>'La Réunion'</li><li>'Mayotte'</li></ol>\n"
      ],
      "text/latex": [
       "\\begin{enumerate*}\n",
       "\\item 'Auvergne-Rhône-Alpes'\n",
       "\\item 'Hauts-de-France'\n",
       "\\item 'Provence-Alpes-Côte d\\textbackslash{}'Azur'\n",
       "\\item 'Grand Est'\n",
       "\\item 'Occitanie'\n",
       "\\item 'Normandie'\n",
       "\\item 'Nouvelle-Aquitaine'\n",
       "\\item 'Centre-Val de Loire'\n",
       "\\item 'Bourgogne-Franche-Comté'\n",
       "\\item 'Bretagne'\n",
       "\\item 'Corse'\n",
       "\\item 'Pays de la Loire'\n",
       "\\item 'Ile-de-France'\n",
       "\\item 'Guadeloupe'\n",
       "\\item 'Martinique'\n",
       "\\item 'Guyane'\n",
       "\\item 'La Réunion'\n",
       "\\item 'Mayotte'\n",
       "\\end{enumerate*}\n"
      ],
      "text/markdown": [
       "1. 'Auvergne-Rhône-Alpes'\n",
       "2. 'Hauts-de-France'\n",
       "3. 'Provence-Alpes-Côte d\\'Azur'\n",
       "4. 'Grand Est'\n",
       "5. 'Occitanie'\n",
       "6. 'Normandie'\n",
       "7. 'Nouvelle-Aquitaine'\n",
       "8. 'Centre-Val de Loire'\n",
       "9. 'Bourgogne-Franche-Comté'\n",
       "10. 'Bretagne'\n",
       "11. 'Corse'\n",
       "12. 'Pays de la Loire'\n",
       "13. 'Ile-de-France'\n",
       "14. 'Guadeloupe'\n",
       "15. 'Martinique'\n",
       "16. 'Guyane'\n",
       "17. 'La Réunion'\n",
       "18. 'Mayotte'\n",
       "\n",
       "\n"
      ],
      "text/plain": [
       " [1] \"Auvergne-Rhône-Alpes\"       \"Hauts-de-France\"           \n",
       " [3] \"Provence-Alpes-Côte d'Azur\" \"Grand Est\"                 \n",
       " [5] \"Occitanie\"                  \"Normandie\"                 \n",
       " [7] \"Nouvelle-Aquitaine\"         \"Centre-Val de Loire\"       \n",
       " [9] \"Bourgogne-Franche-Comté\"    \"Bretagne\"                  \n",
       "[11] \"Corse\"                      \"Pays de la Loire\"          \n",
       "[13] \"Ile-de-France\"              \"Guadeloupe\"                \n",
       "[15] \"Martinique\"                 \"Guyane\"                    \n",
       "[17] \"La Réunion\"                 \"Mayotte\"                   "
      ]
     },
     "metadata": {},
     "output_type": "display_data"
    }
   ],
   "source": [
    "unique(PLV_2020$REGION)"
   ]
  },
  {
   "cell_type": "code",
   "execution_count": 13,
   "id": "ed21b1c7",
   "metadata": {},
   "outputs": [
    {
     "name": "stdout",
     "output_type": "stream",
     "text": [
      "[1] \"proportion de x et y pour la région Auvergne_Rhone_Alpes_20\"\n"
     ]
    },
    {
     "data": {
      "text/plain": [
       "\n",
       " FALSE   TRUE \n",
       "457365 347964 "
      ]
     },
     "metadata": {},
     "output_type": "display_data"
    },
    {
     "data": {
      "text/plain": [
       "\n",
       "    FALSE      TRUE \n",
       "0.5679232 0.4320768 "
      ]
     },
     "metadata": {},
     "output_type": "display_data"
    },
    {
     "name": "stdout",
     "output_type": "stream",
     "text": [
      "[1] \"proportion de x et y pour la région Grand_Est_20\"\n"
     ]
    },
    {
     "data": {
      "text/plain": [
       "\n",
       " FALSE   TRUE \n",
       "119465 472787 "
      ]
     },
     "metadata": {},
     "output_type": "display_data"
    },
    {
     "data": {
      "text/plain": [
       "\n",
       "    FALSE      TRUE \n",
       "0.2017131 0.7982869 "
      ]
     },
     "metadata": {},
     "output_type": "display_data"
    },
    {
     "name": "stdout",
     "output_type": "stream",
     "text": [
      "[1] \"proportion de x et y pour la région Hauts_de_France_20\"\n"
     ]
    },
    {
     "data": {
      "text/plain": [
       "\n",
       " FALSE   TRUE \n",
       "145166 154434 "
      ]
     },
     "metadata": {},
     "output_type": "display_data"
    },
    {
     "data": {
      "text/plain": [
       "\n",
       "    FALSE      TRUE \n",
       "0.4845327 0.5154673 "
      ]
     },
     "metadata": {},
     "output_type": "display_data"
    },
    {
     "name": "stdout",
     "output_type": "stream",
     "text": [
      "[1] \"proportion de x et y pour la région Provence_Alpes_Cote_d_Azur_20\"\n"
     ]
    },
    {
     "data": {
      "text/plain": [
       "\n",
       " FALSE   TRUE \n",
       "316929  19488 "
      ]
     },
     "metadata": {},
     "output_type": "display_data"
    },
    {
     "data": {
      "text/plain": [
       "\n",
       "     FALSE       TRUE \n",
       "0.94207189 0.05792811 "
      ]
     },
     "metadata": {},
     "output_type": "display_data"
    },
    {
     "name": "stdout",
     "output_type": "stream",
     "text": [
      "[1] \"proportion de x et y pour la région Occitanie_20\"\n"
     ]
    },
    {
     "data": {
      "text/plain": [
       "\n",
       " FALSE   TRUE \n",
       "237335 311658 "
      ]
     },
     "metadata": {},
     "output_type": "display_data"
    },
    {
     "data": {
      "text/plain": [
       "\n",
       "    FALSE      TRUE \n",
       "0.4323097 0.5676903 "
      ]
     },
     "metadata": {},
     "output_type": "display_data"
    },
    {
     "name": "stdout",
     "output_type": "stream",
     "text": [
      "[1] \"proportion de x et y pour la région Normandie_20\"\n"
     ]
    },
    {
     "data": {
      "text/plain": [
       "\n",
       "  TRUE \n",
       "248581 "
      ]
     },
     "metadata": {},
     "output_type": "display_data"
    },
    {
     "data": {
      "text/plain": [
       "\n",
       "TRUE \n",
       "   1 "
      ]
     },
     "metadata": {},
     "output_type": "display_data"
    },
    {
     "name": "stdout",
     "output_type": "stream",
     "text": [
      "[1] \"proportion de x et y pour la région Nouvelle_Aquitaine_20\"\n"
     ]
    },
    {
     "data": {
      "text/plain": [
       "\n",
       " FALSE   TRUE \n",
       " 26669 360403 "
      ]
     },
     "metadata": {},
     "output_type": "display_data"
    },
    {
     "data": {
      "text/plain": [
       "\n",
       "     FALSE       TRUE \n",
       "0.06889933 0.93110067 "
      ]
     },
     "metadata": {},
     "output_type": "display_data"
    },
    {
     "name": "stdout",
     "output_type": "stream",
     "text": [
      "[1] \"proportion de x et y pour la région Centre_Val_de_Loire_20\"\n"
     ]
    },
    {
     "data": {
      "text/plain": [
       "\n",
       " FALSE   TRUE \n",
       "217419   6790 "
      ]
     },
     "metadata": {},
     "output_type": "display_data"
    },
    {
     "data": {
      "text/plain": [
       "\n",
       "     FALSE       TRUE \n",
       "0.96971576 0.03028424 "
      ]
     },
     "metadata": {},
     "output_type": "display_data"
    },
    {
     "name": "stdout",
     "output_type": "stream",
     "text": [
      "[1] \"proportion de x et y pour la région Bourgogne_Franche_Comte_20\"\n"
     ]
    },
    {
     "data": {
      "text/plain": [
       "\n",
       " FALSE   TRUE \n",
       "112716 520596 "
      ]
     },
     "metadata": {},
     "output_type": "display_data"
    },
    {
     "data": {
      "text/plain": [
       "\n",
       "    FALSE      TRUE \n",
       "0.1779786 0.8220214 "
      ]
     },
     "metadata": {},
     "output_type": "display_data"
    },
    {
     "name": "stdout",
     "output_type": "stream",
     "text": [
      "[1] \"proportion de x et y pour la région Bretagne_20\"\n"
     ]
    },
    {
     "data": {
      "text/plain": [
       "\n",
       " FALSE   TRUE \n",
       " 63556 206394 "
      ]
     },
     "metadata": {},
     "output_type": "display_data"
    },
    {
     "data": {
      "text/plain": [
       "\n",
       "    FALSE      TRUE \n",
       "0.2354362 0.7645638 "
      ]
     },
     "metadata": {},
     "output_type": "display_data"
    },
    {
     "name": "stdout",
     "output_type": "stream",
     "text": [
      "[1] \"proportion de x et y pour la région Corse_20\"\n"
     ]
    },
    {
     "data": {
      "text/plain": [
       "\n",
       " TRUE \n",
       "45051 "
      ]
     },
     "metadata": {},
     "output_type": "display_data"
    },
    {
     "data": {
      "text/plain": [
       "\n",
       "TRUE \n",
       "   1 "
      ]
     },
     "metadata": {},
     "output_type": "display_data"
    },
    {
     "name": "stdout",
     "output_type": "stream",
     "text": [
      "[1] \"proportion de x et y pour la région Pays_de_la_Loire_20\"\n"
     ]
    },
    {
     "data": {
      "text/plain": [
       "\n",
       "  TRUE \n",
       "184843 "
      ]
     },
     "metadata": {},
     "output_type": "display_data"
    },
    {
     "data": {
      "text/plain": [
       "\n",
       "TRUE \n",
       "   1 "
      ]
     },
     "metadata": {},
     "output_type": "display_data"
    },
    {
     "name": "stdout",
     "output_type": "stream",
     "text": [
      "[1] \"proportion de x et y pour la région Ile_de_France_20\"\n"
     ]
    },
    {
     "data": {
      "text/plain": [
       "\n",
       " FALSE   TRUE \n",
       "304749  98198 "
      ]
     },
     "metadata": {},
     "output_type": "display_data"
    },
    {
     "data": {
      "text/plain": [
       "\n",
       "    FALSE      TRUE \n",
       "0.7563005 0.2436995 "
      ]
     },
     "metadata": {},
     "output_type": "display_data"
    }
   ],
   "source": [
    "# Séléction de chaque région\n",
    "Auvergne_Rhone_Alpes_20 <- subset(PLV_2020, REGION %in% \"Auvergne-Rhône-Alpes\")\n",
    "print(\"proportion de x et y pour la région Auvergne_Rhone_Alpes_20\")\n",
    "table(is.na(Auvergne_Rhone_Alpes_20$coord_x))\n",
    "table(is.na(Auvergne_Rhone_Alpes_20$coord_x)) %>% prop.table\n",
    "print(\"proportion de x et y pour la région Grand_Est_20\")\n",
    "\n",
    "Grand_Est_20 <- subset(PLV_2020, REGION %in% \"Grand Est\")\n",
    "table(is.na(Grand_Est_20$coord_x))\n",
    "table(is.na(Grand_Est_20$coord_x)) %>% prop.table\n",
    "print(\"proportion de x et y pour la région Hauts_de_France_20\")\n",
    "\n",
    "Hauts_de_France_20 <- subset(PLV_2020, REGION %in% \"Hauts-de-France\")\n",
    "table(is.na(Hauts_de_France_20$coord_x))\n",
    "table(is.na(Hauts_de_France_20$coord_x)) %>% prop.table\n",
    "print(\"proportion de x et y pour la région Provence_Alpes_Cote_d_Azur_20\")\n",
    "\n",
    "Provence_Alpes_Cote_d_Azur_20 <- subset(PLV_2020, REGION %in% \"Provence-Alpes-Côte d\\'Azur\")\n",
    "table(is.na(Provence_Alpes_Cote_d_Azur_20$coord_x))\n",
    "table(is.na(Provence_Alpes_Cote_d_Azur_20$coord_x)) %>% prop.table\n",
    "print(\"proportion de x et y pour la région Occitanie_20\")\n",
    "\n",
    "Occitanie_20 <- subset(PLV_2020, REGION %in% \"Occitanie\")\n",
    "table(is.na(Occitanie_20$coord_x))\n",
    "table(is.na(Occitanie_20$coord_x)) %>% prop.table\n",
    "print(\"proportion de x et y pour la région Normandie_20\")\n",
    "\n",
    "Normandie_20 <- subset(PLV_2020, REGION %in% \"Normandie\")\n",
    "table(is.na(Normandie_20$coord_x))\n",
    "table(is.na(Normandie_20$coord_x)) %>% prop.table\n",
    "print(\"proportion de x et y pour la région Nouvelle_Aquitaine_20\")\n",
    "\n",
    "Nouvelle_Aquitaine_20 <- subset(PLV_2020, REGION %in% \"Nouvelle-Aquitaine\")\n",
    "table(is.na(Nouvelle_Aquitaine_20$coord_x))\n",
    "table(is.na(Nouvelle_Aquitaine_20$coord_x)) %>% prop.table\n",
    "print(\"proportion de x et y pour la région Centre_Val_de_Loire_20\")\n",
    "\n",
    "Centre_Val_de_Loire_20 <- subset(PLV_2020, REGION %in% \"Centre-Val de Loire\")\n",
    "table(is.na(Centre_Val_de_Loire_20$coord_x))\n",
    "table(is.na(Centre_Val_de_Loire_20$coord_x)) %>% prop.table\n",
    "print(\"proportion de x et y pour la région Bourgogne_Franche_Comte_20\")\n",
    "\n",
    "Bourgogne_Franche_Comte_20 <- subset(PLV_2020, REGION %in% \"Bourgogne-Franche-Comté\")\n",
    "table(is.na(Bourgogne_Franche_Comte_20$coord_x))\n",
    "table(is.na(Bourgogne_Franche_Comte_20$coord_x)) %>% prop.table\n",
    "print(\"proportion de x et y pour la région Bretagne_20\")\n",
    "\n",
    "Bretagne_20 <- subset(PLV_2020, REGION %in% \"Bretagne\")\n",
    "table(is.na(Bretagne_20$coord_x))\n",
    "table(is.na(Bretagne_20$coord_x)) %>% prop.table\n",
    "print(\"proportion de x et y pour la région Corse_20\")\n",
    "\n",
    "Corse_20 <- subset(PLV_2020, REGION %in% \"Corse\")\n",
    "table(is.na(Corse_20$coord_x))\n",
    "table(is.na(Corse_20$coord_x)) %>% prop.table\n",
    "print(\"proportion de x et y pour la région Pays_de_la_Loire_20\")\n",
    "\n",
    "Pays_de_la_Loire_20 <- subset(PLV_2020, REGION %in% \"Pays de la Loire\")\n",
    "table(is.na(Pays_de_la_Loire_20$coord_x))\n",
    "table(is.na(Pays_de_la_Loire_20$coord_x)) %>% prop.table\n",
    "print(\"proportion de x et y pour la région Ile_de_France_20\")\n",
    "\n",
    "Ile_de_France_20 <- subset(PLV_2020, REGION %in% \"Ile-de-France\")\n",
    "table(is.na(Ile_de_France_20$coord_x))\n",
    "table(is.na(Ile_de_France_20$coord_x)) %>% prop.table\n"
   ]
  },
  {
   "cell_type": "markdown",
   "id": "1c8bb258",
   "metadata": {},
   "source": [
    "En 2020, il y a 3 régions à étudier:\n",
    "\n",
    "- la région Centre_Val_de_Loire (96%)\n",
    "- la région Provence_Alpes_Cote_d_Azur (94%)\n",
    "- la région Ile_de_France (75%)"
   ]
  },
  {
   "cell_type": "markdown",
   "id": "8d63a106",
   "metadata": {},
   "source": [
    "### <span style=\"color:olivedrab\">Partie III - Séléction des paramètres </span> "
   ]
  },
  {
   "cell_type": "markdown",
   "id": "7b00775d",
   "metadata": {},
   "source": [
    "- <span style=\"color:steelblue\"> Analyse de la région Centre_Val_de_Loire (96% de coordonnées) </span>"
   ]
  },
  {
   "cell_type": "code",
   "execution_count": 14,
   "id": "78a7538b",
   "metadata": {},
   "outputs": [
    {
     "name": "stdout",
     "output_type": "stream",
     "text": [
      "[1] 54328    22\n"
     ]
    }
   ],
   "source": [
    "# Sélection des éléments spécifiques de la colonne \"parametre\"\n",
    "Parametre_CVLoire <- subset(Centre_Val_de_Loire_20, cdparametresiseeaux %in% c(\"BR\", \"BRF\", \"BRURE\", \"CDT\", \"CDT25\", \"CL2LIB\", \"CL2TOT\", \"CLATE\", \"CLF\", \"CLITE\", \"CLITEMG\", \"COD\", \"COT\", \"DBRMCL\", \"DCLMBR\", \"MOAC\", \"MOAF\", \"MOBC\", \"NO3\", \"PH\", \"TAC\", \"THM\", \"THM4\"))\n",
    "print(dim(Parametre_CVLoire))"
   ]
  },
  {
   "cell_type": "markdown",
   "id": "3d078c15",
   "metadata": {},
   "source": [
    "- <span style=\"color:steelblue\"> Analyse de la région Provence_Alpes_Cote_d_Azur (94% de coordonnées)</span>"
   ]
  },
  {
   "cell_type": "code",
   "execution_count": 15,
   "id": "6244c922",
   "metadata": {},
   "outputs": [
    {
     "name": "stdout",
     "output_type": "stream",
     "text": [
      "[1] 82233    22\n"
     ]
    }
   ],
   "source": [
    "# Sélection des éléments spécifiques de la colonne \"parametre\"\n",
    "Parametre_ACAzur <- subset(Provence_Alpes_Cote_d_Azur_20, cdparametresiseeaux %in% c(\"BR\", \"BRF\", \"BRURE\", \"CDT\", \"CDT25\", \"CL2LIB\", \"CL2TOT\", \"CLATE\", \"CLF\", \"CLITE\", \"CLITEMG\", \"COD\", \"COT\", \"DBRMCL\", \"DCLMBR\", \"MOAC\", \"MOAF\", \"MOBC\", \"NO3\", \"PH\", \"TAC\", \"THM\", \"THM4\"))\n",
    "print(dim(Parametre_ACAzur))"
   ]
  },
  {
   "cell_type": "markdown",
   "id": "d2edd0fb",
   "metadata": {},
   "source": [
    "- <span style=\"color:steelblue\"> Analyse de la région Ile_de_France (75% de coordonnées)</span>"
   ]
  },
  {
   "cell_type": "code",
   "execution_count": 16,
   "id": "0b3008e6",
   "metadata": {},
   "outputs": [
    {
     "name": "stdout",
     "output_type": "stream",
     "text": [
      "[1] 94334    22\n"
     ]
    }
   ],
   "source": [
    "# Sélection des éléments spécifiques de la colonne \"parametre\"\n",
    "Parametre_IDF <- subset(Ile_de_France_20, cdparametresiseeaux %in% c(\"BR\", \"BRF\", \"BRURE\", \"CDT\", \"CDT25\", \"CL2LIB\", \"CL2TOT\", \"CLATE\", \"CLF\", \"CLITE\", \"CLITEMG\", \"COD\", \"COT\", \"DBRMCL\", \"DCLMBR\", \"MOAC\", \"MOAF\", \"MOBC\", \"NO3\", \"PH\", \"TAC\", \"THM\", \"THM4\"))\n",
    "print(dim(Parametre_IDF))"
   ]
  },
  {
   "cell_type": "markdown",
   "id": "a49fcdf2",
   "metadata": {},
   "source": [
    "- <span style=\"color:steelblue\">Suppression des coordonnées nulles et fusion des 3 fichiers</span>"
   ]
  },
  {
   "cell_type": "code",
   "execution_count": 17,
   "id": "6ca8d558",
   "metadata": {},
   "outputs": [],
   "source": [
    "# Fusion des trois fichiers\n",
    "regions_2020 <- rbind(Parametre_IDF, Parametre_ACAzur, Parametre_CVLoire)\n",
    "# suppression des valeurs na\n",
    "regions_2020 <- regions_2020 %>% \n",
    "  filter(!is.na(coord_x), !is.na(coord_y))"
   ]
  },
  {
   "cell_type": "markdown",
   "id": "66460941",
   "metadata": {},
   "source": [
    "### <span style=\"color:olivedrab\">Partie IV - Analyses visuelles </span> "
   ]
  },
  {
   "cell_type": "markdown",
   "id": "7afd8d95",
   "metadata": {},
   "source": [
    "- <span style=\"color:steelblue\">Distribution des paramètres pour les 3 régions</span>"
   ]
  },
  {
   "cell_type": "code",
   "execution_count": 18,
   "id": "019b89bd",
   "metadata": {
    "scrolled": true
   },
   "outputs": [
    {
     "name": "stderr",
     "output_type": "stream",
     "text": [
      "`summarise()` has grouped output by 'REGION'. You can override using the `.groups` argument.\n",
      "\n"
     ]
    }
   ],
   "source": [
    "# group by paramètre and calculate mean and standard deviation\n",
    "param_stats <- regions_2020 %>% \n",
    "  group_by(REGION, cdparametresiseeaux) %>% \n",
    "  summarise(mean_value = mean(rsana, na.rm = TRUE),\n",
    "            sd_value = sd(rsana, na.rm = TRUE))\n",
    "# Rejoindre les statistiques calculées sur les données initiales :\n",
    "regions_2020 <- left_join(regions_2020, param_stats, by = c(\"REGION\", \"cdparametresiseeaux\"))\n",
    "#Standardiser les valeurs des paramètres :\n",
    "regions_2020$rsana_standardise <- scale(regions_2020$rsana)\n"
   ]
  },
  {
   "cell_type": "code",
   "execution_count": 19,
   "id": "513c2717",
   "metadata": {},
   "outputs": [
    {
     "name": "stderr",
     "output_type": "stream",
     "text": [
      "Warning message:\n",
      "\"Removed 2078 rows containing missing values (position_stack).\"\n"
     ]
    },
    {
     "data": {
      "image/png": "[encoded data removed]",
      "text/plain": [
       "plot without title"
      ]
     },
     "metadata": {
      "image/png": {
       "height": 480,
       "width": 1080
      }
     },
     "output_type": "display_data"
    }
   ],
   "source": [
    "options(repr.plot.width=18, repr.plot.height=8)\n",
    "ggplot(regions_2020, aes(x = cdparametresiseeaux, y = rsana_standardise, fill = REGION)) +\n",
    "  geom_col() +\n",
    "  labs(x = \"Paramètre\", y = \"Moyenne\", fill = \"Région\") +\n",
    "  ggtitle(\"Moyenne des paramètres par région\") +\n",
    "  theme(axis.text.x = element_text(angle = 90, vjust = 0.5, hjust=1)) +\n",
    "  facet_wrap(~REGION, ncol=3)\n"
   ]
  },
  {
   "cell_type": "code",
   "execution_count": null,
   "id": "ec94b894",
   "metadata": {},
   "outputs": [],
   "source": []
  },
  {
   "cell_type": "code",
   "execution_count": null,
   "id": "047f7254",
   "metadata": {},
   "outputs": [],
   "source": []
  },
  {
   "cell_type": "code",
   "execution_count": null,
   "id": "bf0947b7",
   "metadata": {},
   "outputs": [],
   "source": []
  },
  {
   "cell_type": "code",
   "execution_count": null,
   "id": "aa1fddb6",
   "metadata": {},
   "outputs": [],
   "source": []
  },
  {
   "cell_type": "code",
   "execution_count": null,
   "id": "771bcad3",
   "metadata": {},
   "outputs": [],
   "source": []
  },
  {
   "cell_type": "code",
   "execution_count": null,
   "id": "0c0855d4",
   "metadata": {},
   "outputs": [],
   "source": []
  },
  {
   "cell_type": "code",
   "execution_count": null,
   "id": "49589465",
   "metadata": {},
   "outputs": [],
   "source": []
  },
  {
   "cell_type": "code",
   "execution_count": null,
   "id": "386ac78a",
   "metadata": {},
   "outputs": [],
   "source": []
  },
  {
   "cell_type": "code",
   "execution_count": null,
   "id": "1bd24a32",
   "metadata": {},
   "outputs": [],
   "source": []
  },
  {
   "cell_type": "code",
   "execution_count": null,
   "id": "42c4ded6",
   "metadata": {},
   "outputs": [],
   "source": []
  },
  {
   "cell_type": "code",
   "execution_count": null,
   "id": "d08441be",
   "metadata": {},
   "outputs": [],
   "source": []
  },
  {
   "cell_type": "code",
   "execution_count": null,
   "id": "8d074297",
   "metadata": {},
   "outputs": [],
   "source": []
  },
  {
   "cell_type": "code",
   "execution_count": null,
   "id": "4f0cccb1",
   "metadata": {},
   "outputs": [],
   "source": []
  },
  {
   "cell_type": "code",
   "execution_count": null,
   "id": "82304f63",
   "metadata": {},
   "outputs": [],
   "source": []
  },
  {
   "cell_type": "code",
   "execution_count": null,
   "id": "1bb8e449",
   "metadata": {},
   "outputs": [],
   "source": []
  },
  {
   "cell_type": "code",
   "execution_count": null,
   "id": "4d7f0ea4",
   "metadata": {},
   "outputs": [],
   "source": []
  },
  {
   "cell_type": "code",
   "execution_count": null,
   "id": "b611f0bd",
   "metadata": {},
   "outputs": [],
   "source": []
  }
 ],
 "metadata": {
  "kernelspec": {
   "display_name": "R",
   "language": "R",
   "name": "ir"
  },
  "language_info": {
   "codemirror_mode": "r",
   "file_extension": ".r",
   "mimetype": "text/x-r-source",
   "name": "R",
   "pygments_lexer": "r",
   "version": "3.6.1"
  }
 },
 "nbformat": 4,
 "nbformat_minor": 5
}
