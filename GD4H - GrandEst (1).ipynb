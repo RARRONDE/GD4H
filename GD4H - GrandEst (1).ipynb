{
 "cells": [
  {
   "cell_type": "markdown",
   "id": "39bc9333",
   "metadata": {},
   "source": [
    "# <span style=\"color:forestgreen\">Analyses exploratoires pour la région Grand-Est</span> "
   ]
  },
  {
   "cell_type": "markdown",
   "id": "c4a46160",
   "metadata": {},
   "source": [
    "### <span style=\"color:olivedrab\">Partie I - Exploration des données</span> "
   ]
  },
  {
   "cell_type": "markdown",
   "id": "b2133507",
   "metadata": {},
   "source": [
    "- <span style=\"color:steelblue\">Importation librairie</span>"
   ]
  },
  {
   "cell_type": "code",
   "execution_count": 1,
   "id": "2820c00a",
   "metadata": {},
   "outputs": [
    {
     "name": "stderr",
     "output_type": "stream",
     "text": [
      "Warning message:\n",
      "\"package 'data.table' was built under R version 3.6.3\"\n",
      "Warning message:\n",
      "\"package 'ggplot2' was built under R version 3.6.3\"\n",
      "Warning message:\n",
      "\"package 'dplyr' was built under R version 3.6.3\"\n",
      "\n",
      "Attaching package: 'dplyr'\n",
      "\n",
      "\n",
      "The following objects are masked from 'package:data.table':\n",
      "\n",
      "    between, first, last\n",
      "\n",
      "\n",
      "The following objects are masked from 'package:stats':\n",
      "\n",
      "    filter, lag\n",
      "\n",
      "\n",
      "The following objects are masked from 'package:base':\n",
      "\n",
      "    intersect, setdiff, setequal, union\n",
      "\n",
      "\n",
      "Warning message:\n",
      "\"package 'tidyr' was built under R version 3.6.3\"\n",
      "Warning message:\n",
      "\"package 'pheatmap' was built under R version 3.6.3\"\n",
      "Warning message:\n",
      "\"package 'corrplot' was built under R version 3.6.3\"\n",
      "corrplot 0.88 loaded\n",
      "\n",
      "Warning message:\n",
      "\"package 'sf' was built under R version 3.6.3\"\n",
      "Linking to GEOS 3.9.0, GDAL 3.2.1, PROJ 7.2.1\n",
      "\n",
      "Warning message:\n",
      "\"package 'Hmisc' was built under R version 3.6.3\"\n",
      "Loading required package: lattice\n",
      "\n",
      "Warning message:\n",
      "\"package 'lattice' was built under R version 3.6.3\"\n",
      "Loading required package: survival\n",
      "\n",
      "Warning message:\n",
      "\"package 'survival' was built under R version 3.6.3\"\n",
      "Loading required package: Formula\n",
      "\n",
      "Warning message:\n",
      "\"package 'Formula' was built under R version 3.6.3\"\n",
      "\n",
      "Attaching package: 'Hmisc'\n",
      "\n",
      "\n",
      "The following objects are masked from 'package:dplyr':\n",
      "\n",
      "    src, summarize\n",
      "\n",
      "\n",
      "The following objects are masked from 'package:base':\n",
      "\n",
      "    format.pval, units\n",
      "\n",
      "\n",
      "Warning message:\n",
      "\"package 'leaflet' was built under R version 3.6.3\"\n"
     ]
    }
   ],
   "source": [
    "library(data.table)\n",
    "library(ggplot2)\n",
    "library(dplyr)\n",
    "library(tidyr)\n",
    "library(stats)\n",
    "library(pheatmap)\n",
    "library(corrplot)\n",
    "library(sf)\n",
    "library(Hmisc)\n",
    "library(leaflet)"
   ]
  },
  {
   "cell_type": "markdown",
   "id": "c6ad8411",
   "metadata": {},
   "source": [
    "- <span style=\"color:steelblue\">Importation données </span>"
   ]
  },
  {
   "cell_type": "code",
   "execution_count": 2,
   "id": "ca1828e9",
   "metadata": {},
   "outputs": [],
   "source": [
    "UDI_PLV_2021 <- read.csv(\"UDI_PLV_2021.txt\", sep=\",\")\n",
    "UDI_RES_2021 <- read.csv(\"UDI_RES_2021.txt\", sep=\",\")"
   ]
  },
  {
   "cell_type": "markdown",
   "id": "ebb6608f",
   "metadata": {},
   "source": [
    "- <span style=\"color:steelblue\"> Traitement et analyse du fichier UDI_RES_2021</span>"
   ]
  },
  {
   "cell_type": "code",
   "execution_count": 3,
   "id": "372d2003",
   "metadata": {},
   "outputs": [
    {
     "data": {
      "text/html": [
       "<table class=\"dataframe\">\n",
       "<caption>A data.frame: 5 × 21</caption>\n",
       "<thead>\n",
       "\t<tr><th></th><th scope=col>cddept</th><th scope=col>referenceprel</th><th scope=col>cdanalyse</th><th scope=col>refechantillonlabo</th><th scope=col>datereceptionechant</th><th scope=col>cdlaboratoire</th><th scope=col>laboratoire</th><th scope=col>cdtypeanalyse</th><th scope=col>analysecdorganisme</th><th scope=col>analysedate</th><th scope=col>⋯</th><th scope=col>cdparametre</th><th scope=col>cdparametresiseeaux</th><th scope=col>rqana</th><th scope=col>rssigne</th><th scope=col>rsana</th><th scope=col>cdunitereferencesiseeaux</th><th scope=col>cdunitereference</th><th scope=col>cdfractionanalyse</th><th scope=col>sandrelaboratoire</th><th scope=col>representativite</th></tr>\n",
       "\t<tr><th></th><th scope=col>&lt;fct&gt;</th><th scope=col>&lt;fct&gt;</th><th scope=col>&lt;fct&gt;</th><th scope=col>&lt;fct&gt;</th><th scope=col>&lt;fct&gt;</th><th scope=col>&lt;fct&gt;</th><th scope=col>&lt;dbl&gt;</th><th scope=col>&lt;fct&gt;</th><th scope=col>&lt;fct&gt;</th><th scope=col>&lt;fct&gt;</th><th scope=col>⋯</th><th scope=col>&lt;int&gt;</th><th scope=col>&lt;fct&gt;</th><th scope=col>&lt;fct&gt;</th><th scope=col>&lt;fct&gt;</th><th scope=col>&lt;dbl&gt;</th><th scope=col>&lt;fct&gt;</th><th scope=col>&lt;fct&gt;</th><th scope=col>&lt;int&gt;</th><th scope=col>&lt;dbl&gt;</th><th scope=col>&lt;fct&gt;</th></tr>\n",
       "</thead>\n",
       "<tbody>\n",
       "\t<tr><th scope=row>2738869</th><td>047</td><td>04700075179</td><td>04700075237</td><td>21110803349401</td><td>2021-11-09</td><td>3101</td><td>2.231000e+13</td><td>047D1B </td><td>04700320</td><td>2021-11-17</td><td>⋯</td><td>6455</td><td>STRF   </td><td>0   </td><td> </td><td>0.00</td><td>n/(100mL) </td><td>226</td><td>NA</td><td>2.270000e+02</td><td>O</td></tr>\n",
       "\t<tr><th scope=row>950526</th><td>017</td><td>01700127632</td><td>01700127581</td><td>21LH-12640-1  </td><td>2021-11-19</td><td>1701</td><td>2.000132e+13</td><td>017D1  </td><td>01700013</td><td>2021-11-19</td><td>⋯</td><td>5900</td><td>COULQ  </td><td>0   </td><td> </td><td>0.00</td><td>SANS OBJET</td><td>X  </td><td>NA</td><td>2.000132e+13</td><td>O</td></tr>\n",
       "\t<tr><th scope=row>3631544</th><td>062</td><td>06200255220</td><td>06200254912</td><td>LSE2108-22311 </td><td>2021-08-05</td><td>6901</td><td>4.105453e+13</td><td>062D1_4</td><td>06201005</td><td>2021-08-05</td><td>⋯</td><td>1295</td><td>TURBNFU</td><td>&lt;0,1</td><td>&lt;</td><td>0.00</td><td><span style=white-space:pre-wrap>NFU       </span></td><td>232</td><td>NA</td><td>2.170000e+02</td><td>O</td></tr>\n",
       "\t<tr><th scope=row>2166999</th><td>035</td><td>03500154055</td><td>           </td><td>              </td><td>          </td><td>    </td><td>          NA</td><td>       </td><td>        </td><td>          </td><td>⋯</td><td>1399</td><td>CL2TOT </td><td>0,28</td><td> </td><td>0.28</td><td>mg(Cl2)/L </td><td>165</td><td>NA</td><td>          NA</td><td>O</td></tr>\n",
       "\t<tr><th scope=row>3910758</th><td>068</td><td>06800152809</td><td>06800152774</td><td><span style=white-space:pre-wrap>CAN2105-1363  </span></td><td>2021-05-18</td><td>6703</td><td>7.788520e+13</td><td>068D1AS</td><td>06800381</td><td>2021-05-18</td><td>⋯</td><td>1447</td><td><span style=white-space:pre-wrap>CTF    </span></td><td><span style=white-space:pre-wrap>&lt;1  </span></td><td>&lt;</td><td>0.00</td><td>n/(100mL) </td><td>226</td><td>NA</td><td><span style=white-space:pre-wrap>          NA</span></td><td>O</td></tr>\n",
       "</tbody>\n",
       "</table>\n"
      ],
      "text/latex": [
       "A data.frame: 5 × 21\n",
       "\\begin{tabular}{r|lllllllllllllllllllll}\n",
       "  & cddept & referenceprel & cdanalyse & refechantillonlabo & datereceptionechant & cdlaboratoire & laboratoire & cdtypeanalyse & analysecdorganisme & analysedate & ⋯ & cdparametre & cdparametresiseeaux & rqana & rssigne & rsana & cdunitereferencesiseeaux & cdunitereference & cdfractionanalyse & sandrelaboratoire & representativite\\\\\n",
       "  & <fct> & <fct> & <fct> & <fct> & <fct> & <fct> & <dbl> & <fct> & <fct> & <fct> & ⋯ & <int> & <fct> & <fct> & <fct> & <dbl> & <fct> & <fct> & <int> & <dbl> & <fct>\\\\\n",
       "\\hline\n",
       "\t2738869 & 047 & 04700075179 & 04700075237 & 21110803349401 & 2021-11-09 & 3101 & 2.231000e+13 & 047D1B  & 04700320 & 2021-11-17 & ⋯ & 6455 & STRF    & 0    &   & 0.00 & n/(100mL)  & 226 & NA & 2.270000e+02 & O\\\\\n",
       "\t950526 & 017 & 01700127632 & 01700127581 & 21LH-12640-1   & 2021-11-19 & 1701 & 2.000132e+13 & 017D1   & 01700013 & 2021-11-19 & ⋯ & 5900 & COULQ   & 0    &   & 0.00 & SANS OBJET & X   & NA & 2.000132e+13 & O\\\\\n",
       "\t3631544 & 062 & 06200255220 & 06200254912 & LSE2108-22311  & 2021-08-05 & 6901 & 4.105453e+13 & 062D1\\_4 & 06201005 & 2021-08-05 & ⋯ & 1295 & TURBNFU & <0,1 & < & 0.00 & NFU        & 232 & NA & 2.170000e+02 & O\\\\\n",
       "\t2166999 & 035 & 03500154055 &             &                &            &      &           NA &         &          &            & ⋯ & 1399 & CL2TOT  & 0,28 &   & 0.28 & mg(Cl2)/L  & 165 & NA &           NA & O\\\\\n",
       "\t3910758 & 068 & 06800152809 & 06800152774 & CAN2105-1363   & 2021-05-18 & 6703 & 7.788520e+13 & 068D1AS & 06800381 & 2021-05-18 & ⋯ & 1447 & CTF     & <1   & < & 0.00 & n/(100mL)  & 226 & NA &           NA & O\\\\\n",
       "\\end{tabular}\n"
      ],
      "text/markdown": [
       "\n",
       "A data.frame: 5 × 21\n",
       "\n",
       "| <!--/--> | cddept &lt;fct&gt; | referenceprel &lt;fct&gt; | cdanalyse &lt;fct&gt; | refechantillonlabo &lt;fct&gt; | datereceptionechant &lt;fct&gt; | cdlaboratoire &lt;fct&gt; | laboratoire &lt;dbl&gt; | cdtypeanalyse &lt;fct&gt; | analysecdorganisme &lt;fct&gt; | analysedate &lt;fct&gt; | ⋯ ⋯ | cdparametre &lt;int&gt; | cdparametresiseeaux &lt;fct&gt; | rqana &lt;fct&gt; | rssigne &lt;fct&gt; | rsana &lt;dbl&gt; | cdunitereferencesiseeaux &lt;fct&gt; | cdunitereference &lt;fct&gt; | cdfractionanalyse &lt;int&gt; | sandrelaboratoire &lt;dbl&gt; | representativite &lt;fct&gt; |\n",
       "|---|---|---|---|---|---|---|---|---|---|---|---|---|---|---|---|---|---|---|---|---|---|\n",
       "| 2738869 | 047 | 04700075179 | 04700075237 | 21110803349401 | 2021-11-09 | 3101 | 2.231000e+13 | 047D1B  | 04700320 | 2021-11-17 | ⋯ | 6455 | STRF    | 0    | <!----> | 0.00 | n/(100mL)  | 226 | NA | 2.270000e+02 | O |\n",
       "| 950526 | 017 | 01700127632 | 01700127581 | 21LH-12640-1   | 2021-11-19 | 1701 | 2.000132e+13 | 017D1   | 01700013 | 2021-11-19 | ⋯ | 5900 | COULQ   | 0    | <!----> | 0.00 | SANS OBJET | X   | NA | 2.000132e+13 | O |\n",
       "| 3631544 | 062 | 06200255220 | 06200254912 | LSE2108-22311  | 2021-08-05 | 6901 | 4.105453e+13 | 062D1_4 | 06201005 | 2021-08-05 | ⋯ | 1295 | TURBNFU | &lt;0,1 | &lt; | 0.00 | NFU        | 232 | NA | 2.170000e+02 | O |\n",
       "| 2166999 | 035 | 03500154055 | <!----> | <!----> | <!----> | <!----> |           NA | <!----> | <!----> | <!----> | ⋯ | 1399 | CL2TOT  | 0,28 | <!----> | 0.28 | mg(Cl2)/L  | 165 | NA |           NA | O |\n",
       "| 3910758 | 068 | 06800152809 | 06800152774 | CAN2105-1363   | 2021-05-18 | 6703 | 7.788520e+13 | 068D1AS | 06800381 | 2021-05-18 | ⋯ | 1447 | CTF     | &lt;1   | &lt; | 0.00 | n/(100mL)  | 226 | NA |           NA | O |\n",
       "\n"
      ],
      "text/plain": [
       "        cddept referenceprel cdanalyse   refechantillonlabo datereceptionechant\n",
       "2738869 047    04700075179   04700075237 21110803349401     2021-11-09         \n",
       "950526  017    01700127632   01700127581 21LH-12640-1       2021-11-19         \n",
       "3631544 062    06200255220   06200254912 LSE2108-22311      2021-08-05         \n",
       "2166999 035    03500154055                                                     \n",
       "3910758 068    06800152809   06800152774 CAN2105-1363       2021-05-18         \n",
       "        cdlaboratoire laboratoire  cdtypeanalyse analysecdorganisme analysedate\n",
       "2738869 3101          2.231000e+13 047D1B        04700320           2021-11-17 \n",
       "950526  1701          2.000132e+13 017D1         01700013           2021-11-19 \n",
       "3631544 6901          4.105453e+13 062D1_4       06201005           2021-08-05 \n",
       "2166999                         NA                                             \n",
       "3910758 6703          7.788520e+13 068D1AS       06800381           2021-05-18 \n",
       "        <U+22EF>        cdparametre cdparametresiseeaux rqana rssigne rsana\n",
       "2738869 <U+22EF> 6455        STRF                0             0.00 \n",
       "950526  <U+22EF> 5900        COULQ               0             0.00 \n",
       "3631544 <U+22EF> 1295        TURBNFU             <0,1  <       0.00 \n",
       "2166999 <U+22EF> 1399        CL2TOT              0,28          0.28 \n",
       "3910758 <U+22EF> 1447        CTF                 <1    <       0.00 \n",
       "        cdunitereferencesiseeaux cdunitereference cdfractionanalyse\n",
       "2738869 n/(100mL)                226              NA               \n",
       "950526  SANS OBJET               X                NA               \n",
       "3631544 NFU                      232              NA               \n",
       "2166999 mg(Cl2)/L                165              NA               \n",
       "3910758 n/(100mL)                226              NA               \n",
       "        sandrelaboratoire representativite\n",
       "2738869 2.270000e+02      O               \n",
       "950526  2.000132e+13      O               \n",
       "3631544 2.170000e+02      O               \n",
       "2166999           NA      O               \n",
       "3910758           NA      O               "
      ]
     },
     "metadata": {},
     "output_type": "display_data"
    }
   ],
   "source": [
    "#aperçu du contenu du fichier\n",
    "UDI_RES_2021[sample(nrow(UDI_RES_2021), 5), ]"
   ]
  },
  {
   "cell_type": "code",
   "execution_count": 29,
   "id": "c90d70de",
   "metadata": {},
   "outputs": [
    {
     "name": "stdout",
     "output_type": "stream",
     "text": [
      "[1] \"cddept\"                   \"referenceprel\"           \n",
      "[3] \"cdparametre\"              \"cdparametresiseeaux\"     \n",
      "[5] \"rsana\"                    \"cdunitereferencesiseeaux\"\n"
     ]
    }
   ],
   "source": [
    "#aperçu des différents nom de colonne\n",
    "print(names(UDI_RES_2021))"
   ]
  },
  {
   "cell_type": "code",
   "execution_count": 5,
   "id": "c8182295",
   "metadata": {},
   "outputs": [
    {
     "data": {
      "text/html": [
       "<table class=\"dataframe\">\n",
       "<caption>A data.frame: 6 × 6</caption>\n",
       "<thead>\n",
       "\t<tr><th></th><th scope=col>cddept</th><th scope=col>referenceprel</th><th scope=col>cdparametre</th><th scope=col>cdparametresiseeaux</th><th scope=col>rsana</th><th scope=col>cdunitereferencesiseeaux</th></tr>\n",
       "\t<tr><th></th><th scope=col>&lt;fct&gt;</th><th scope=col>&lt;fct&gt;</th><th scope=col>&lt;int&gt;</th><th scope=col>&lt;fct&gt;</th><th scope=col>&lt;dbl&gt;</th><th scope=col>&lt;fct&gt;</th></tr>\n",
       "</thead>\n",
       "<tbody>\n",
       "\t<tr><th scope=row>1</th><td>001</td><td>00100123497</td><td>1453</td><td>ACPT  </td><td>0</td><td>Âµg/L     </td></tr>\n",
       "\t<tr><th scope=row>2</th><td>001</td><td>00100123497</td><td>1457</td><td>ACRYL </td><td>0</td><td>Âµg/L     </td></tr>\n",
       "\t<tr><th scope=row>3</th><td>001</td><td>00100123497</td><td>1458</td><td>ANTHRA</td><td>0</td><td>Âµg/L     </td></tr>\n",
       "\t<tr><th scope=row>4</th><td>001</td><td>00100123497</td><td>6489</td><td>ASP   </td><td>0</td><td>SANS OBJET</td></tr>\n",
       "\t<tr><th scope=row>5</th><td>001</td><td>00100123497</td><td>1115</td><td>BAPYR </td><td>0</td><td>Âµg/L     </td></tr>\n",
       "\t<tr><th scope=row>6</th><td>001</td><td>00100123497</td><td>1116</td><td>BBFLUO</td><td>0</td><td>Âµg/L     </td></tr>\n",
       "</tbody>\n",
       "</table>\n"
      ],
      "text/latex": [
       "A data.frame: 6 × 6\n",
       "\\begin{tabular}{r|llllll}\n",
       "  & cddept & referenceprel & cdparametre & cdparametresiseeaux & rsana & cdunitereferencesiseeaux\\\\\n",
       "  & <fct> & <fct> & <int> & <fct> & <dbl> & <fct>\\\\\n",
       "\\hline\n",
       "\t1 & 001 & 00100123497 & 1453 & ACPT   & 0 & Âµg/L     \\\\\n",
       "\t2 & 001 & 00100123497 & 1457 & ACRYL  & 0 & Âµg/L     \\\\\n",
       "\t3 & 001 & 00100123497 & 1458 & ANTHRA & 0 & Âµg/L     \\\\\n",
       "\t4 & 001 & 00100123497 & 6489 & ASP    & 0 & SANS OBJET\\\\\n",
       "\t5 & 001 & 00100123497 & 1115 & BAPYR  & 0 & Âµg/L     \\\\\n",
       "\t6 & 001 & 00100123497 & 1116 & BBFLUO & 0 & Âµg/L     \\\\\n",
       "\\end{tabular}\n"
      ],
      "text/markdown": [
       "\n",
       "A data.frame: 6 × 6\n",
       "\n",
       "| <!--/--> | cddept &lt;fct&gt; | referenceprel &lt;fct&gt; | cdparametre &lt;int&gt; | cdparametresiseeaux &lt;fct&gt; | rsana &lt;dbl&gt; | cdunitereferencesiseeaux &lt;fct&gt; |\n",
       "|---|---|---|---|---|---|---|\n",
       "| 1 | 001 | 00100123497 | 1453 | ACPT   | 0 | Âµg/L      |\n",
       "| 2 | 001 | 00100123497 | 1457 | ACRYL  | 0 | Âµg/L      |\n",
       "| 3 | 001 | 00100123497 | 1458 | ANTHRA | 0 | Âµg/L      |\n",
       "| 4 | 001 | 00100123497 | 6489 | ASP    | 0 | SANS OBJET |\n",
       "| 5 | 001 | 00100123497 | 1115 | BAPYR  | 0 | Âµg/L      |\n",
       "| 6 | 001 | 00100123497 | 1116 | BBFLUO | 0 | Âµg/L      |\n",
       "\n"
      ],
      "text/plain": [
       "  cddept referenceprel cdparametre cdparametresiseeaux rsana\n",
       "1 001    00100123497   1453        ACPT                0    \n",
       "2 001    00100123497   1457        ACRYL               0    \n",
       "3 001    00100123497   1458        ANTHRA              0    \n",
       "4 001    00100123497   6489        ASP                 0    \n",
       "5 001    00100123497   1115        BAPYR               0    \n",
       "6 001    00100123497   1116        BBFLUO              0    \n",
       "  cdunitereferencesiseeaux\n",
       "1 Âµg/L                   \n",
       "2 Âµg/L                   \n",
       "3 Âµg/L                   \n",
       "4 SANS OBJET              \n",
       "5 Âµg/L                   \n",
       "6 Âµg/L                   "
      ]
     },
     "metadata": {},
     "output_type": "display_data"
    }
   ],
   "source": [
    "# Supprimer les colonnes inutiles\n",
    "UDI_RES_2021 <- subset(UDI_RES_2021, select = -c(cdanalyse, refechantillonlabo, datereceptionechant,cdtypeanalyse,analysecdorganisme,\n",
    "                 analysedate,insituana,rqana,rssigne,cdunitereference,cdfractionanalyse,sandrelaboratoire,\n",
    "                representativite,laboratoire,cdlaboratoire))\n",
    "head(UDI_RES_2021)"
   ]
  },
  {
   "cell_type": "code",
   "execution_count": 30,
   "id": "bb7c80e7",
   "metadata": {},
   "outputs": [
    {
     "name": "stdout",
     "output_type": "stream",
     "text": [
      "  [1] 001 002 003 004 005 006 007 008 009 010 011 012 013 014 015 016 017 018\n",
      " [19] 019 021 022 023 024 025 026 027 028 029 02A 02B 030 031 032 033 034 035\n",
      " [37] 036 037 038 039 040 041 042 043 044 045 046 047 048 049 050 051 052 053\n",
      " [55] 054 055 056 057 058 059 060 061 062 063 064 065 066 067 068 069 070 071\n",
      " [73] 072 073 074 075 076 077 078 079 080 081 082 083 084 085 086 087 088 089\n",
      " [91] 090 091 092 093 094 095 971 972 973 974 976\n",
      "101 Levels: 001 002 003 004 005 006 007 008 009 010 011 012 013 014 015 ... 976\n"
     ]
    }
   ],
   "source": [
    "#listes des départements\n",
    "print(unique(UDI_RES_2021$cddept))"
   ]
  },
  {
   "cell_type": "markdown",
   "id": "883d229a",
   "metadata": {},
   "source": [
    "Les 10 départements dans la région Grand Est:\n",
    "- Ardennes (08)\n",
    "- Aube (10)\n",
    "- Bas-Rhin (67)\n",
    "- Haut-Rhin (68)\n",
    "- Haute-Marne (52)\n",
    "- Marne (51)\n",
    "- Meurthe-et-Moselle (54)\n",
    "- Meuse (55)\n",
    "- Moselle (57)\n",
    "- Vosges (88)\n"
   ]
  },
  {
   "cell_type": "code",
   "execution_count": 7,
   "id": "1d4806bb",
   "metadata": {},
   "outputs": [
    {
     "name": "stdout",
     "output_type": "stream",
     "text": [
      "[1] \"les dimensions du fichier RES Grand_Est\"\n",
      "[1] 761117      6\n"
     ]
    }
   ],
   "source": [
    "# sélectionner les départements de la Région Grand Est:\n",
    "DPT_Grand_Est <- c(\"008\", \"010\", \"067\", \"068\", \"052\", \"051\", \"054\", \"055\", \"057\", \"088\")\n",
    "UDI_RES_2021_Grand_Est <- subset(UDI_RES_2021, cddept %in% DPT_Grand_Est)\n",
    "print(\"les dimensions du fichier RES Grand_Est\")\n",
    "print(dim(UDI_RES_2021_Grand_Est))"
   ]
  },
  {
   "cell_type": "code",
   "execution_count": 8,
   "id": "dc1dfb44",
   "metadata": {},
   "outputs": [
    {
     "name": "stdout",
     "output_type": "stream",
     "text": [
      "                  cddept            referenceprel              cdparametre \n",
      "                       0                        0                       57 \n",
      "     cdparametresiseeaux                    rsana cdunitereferencesiseeaux \n",
      "                     151                      738                        0 \n"
     ]
    }
   ],
   "source": [
    "#regarder le nombres de valeurs manquantes sur chaque colonne:\n",
    "print(colSums(is.na(UDI_RES_2021_Grand_Est)))"
   ]
  },
  {
   "cell_type": "markdown",
   "id": "17fbe09b",
   "metadata": {},
   "source": [
    "- <span style=\"color:steelblue\">Traitement et analyse du fichier UDI_PLV_2021 </span>"
   ]
  },
  {
   "cell_type": "code",
   "execution_count": 9,
   "id": "18d1e321",
   "metadata": {},
   "outputs": [
    {
     "data": {
      "text/html": [
       "<table class=\"dataframe\">\n",
       "<caption>A data.frame: 5 × 41</caption>\n",
       "<thead>\n",
       "\t<tr><th></th><th scope=col>distrcode</th><th scope=col>distrlib</th><th scope=col>distrsiret</th><th scope=col>cddept</th><th scope=col>inseecommune</th><th scope=col>nomcommune</th><th scope=col>cdreseau</th><th scope=col>nomreseau</th><th scope=col>codetypeinstallation</th><th scope=col>nomtypeinstallation</th><th scope=col>⋯</th><th scope=col>dtautorisation</th><th scope=col>champcaptant</th><th scope=col>codebrgm</th><th scope=col>codebss</th><th scope=col>dmajplv</th><th scope=col>dmodifplv</th><th scope=col>dmodifins</th><th scope=col>representativite</th><th scope=col>coord_x</th><th scope=col>coord_y</th></tr>\n",
       "\t<tr><th></th><th scope=col>&lt;fct&gt;</th><th scope=col>&lt;fct&gt;</th><th scope=col>&lt;fct&gt;</th><th scope=col>&lt;fct&gt;</th><th scope=col>&lt;fct&gt;</th><th scope=col>&lt;fct&gt;</th><th scope=col>&lt;fct&gt;</th><th scope=col>&lt;fct&gt;</th><th scope=col>&lt;fct&gt;</th><th scope=col>&lt;fct&gt;</th><th scope=col>⋯</th><th scope=col>&lt;lgl&gt;</th><th scope=col>&lt;lgl&gt;</th><th scope=col>&lt;lgl&gt;</th><th scope=col>&lt;lgl&gt;</th><th scope=col>&lt;fct&gt;</th><th scope=col>&lt;fct&gt;</th><th scope=col>&lt;fct&gt;</th><th scope=col>&lt;fct&gt;</th><th scope=col>&lt;dbl&gt;</th><th scope=col>&lt;dbl&gt;</th></tr>\n",
       "</thead>\n",
       "<tbody>\n",
       "\t<tr><th scope=row>36780</th><td>01500105</td><td>MAIRIE DE LIEUTADES              </td><td>              </td><td>015</td><td>15106</td><td>LIEUTADES         </td><td>015001340</td><td>LA PADELLE          </td><td>UDI</td><td>UNITE DE DISTRIBUTION</td><td>⋯</td><td>NA</td><td>NA</td><td>NA</td><td>NA</td><td>2021-01-26</td><td>2021-01-27</td><td>2019-12-05</td><td>O</td><td>      NA</td><td>     NA</td></tr>\n",
       "\t<tr><th scope=row>218235</th><td>09400192</td><td>VEOLIA EAU D'ILE DE FRANCE       </td><td>52433494300015</td><td>094</td><td>94081</td><td>VITRY-SUR-SEINE   </td><td>094000081</td><td>G.CHOISY MAJORITAIRE</td><td>UDI</td><td>UNITE DE DISTRIBUTION</td><td>⋯</td><td>NA</td><td>NA</td><td>NA</td><td>NA</td><td>2021-04-08</td><td>2021-04-09</td><td>2021-06-14</td><td>O</td><td>654247.8</td><td>6853017</td></tr>\n",
       "\t<tr><th scope=row>34428</th><td>01400710</td><td>SAUR CENTRE  NORMANDIE           </td><td>33937998400133</td><td>014</td><td>14237</td><td>EMIEVILLE         </td><td>014000686</td><td>CLOS MORANT         </td><td>UDI</td><td>UNITE DE DISTRIBUTION</td><td>⋯</td><td>NA</td><td>NA</td><td>NA</td><td>NA</td><td>2021-11-19</td><td>2021-11-22</td><td>2019-10-16</td><td>O</td><td>464932.0</td><td>6899637</td></tr>\n",
       "\t<tr><th scope=row>166911</th><td>07100626</td><td>SUEZ (S.D.E.I.) CENTRE DE CHARNAY</td><td>41003460703064</td><td>071</td><td>71318</td><td>MONTPONT-EN-BRESSE</td><td>071000865</td><td>BASSE SEILLE        </td><td>UDI</td><td>UNITE DE DISTRIBUTION</td><td>⋯</td><td>NA</td><td>NA</td><td>NA</td><td>NA</td><td>2021-07-13</td><td>2021-07-14</td><td>2021-09-21</td><td>O</td><td>865726.7</td><td>6608391</td></tr>\n",
       "\t<tr><th scope=row>129335</th><td>05700855</td><td>VEOLIA EAU REGION EST            </td><td>57202552610945</td><td>057</td><td>57360</td><td>KERBACH           </td><td>057001801</td><td>FORBACH 5 SUD       </td><td>UDI</td><td>UNITE DE DISTRIBUTION</td><td>⋯</td><td>NA</td><td>NA</td><td>NA</td><td>NA</td><td>2021-02-22</td><td>2021-02-23</td><td>2022-03-22</td><td>O</td><td>      NA</td><td>     NA</td></tr>\n",
       "</tbody>\n",
       "</table>\n"
      ],
      "text/latex": [
       "A data.frame: 5 × 41\n",
       "\\begin{tabular}{r|lllllllllllllllllllll}\n",
       "  & distrcode & distrlib & distrsiret & cddept & inseecommune & nomcommune & cdreseau & nomreseau & codetypeinstallation & nomtypeinstallation & ⋯ & dtautorisation & champcaptant & codebrgm & codebss & dmajplv & dmodifplv & dmodifins & representativite & coord\\_x & coord\\_y\\\\\n",
       "  & <fct> & <fct> & <fct> & <fct> & <fct> & <fct> & <fct> & <fct> & <fct> & <fct> & ⋯ & <lgl> & <lgl> & <lgl> & <lgl> & <fct> & <fct> & <fct> & <fct> & <dbl> & <dbl>\\\\\n",
       "\\hline\n",
       "\t36780 & 01500105 & MAIRIE DE LIEUTADES               &                & 015 & 15106 & LIEUTADES          & 015001340 & LA PADELLE           & UDI & UNITE DE DISTRIBUTION & ⋯ & NA & NA & NA & NA & 2021-01-26 & 2021-01-27 & 2019-12-05 & O &       NA &      NA\\\\\n",
       "\t218235 & 09400192 & VEOLIA EAU D'ILE DE FRANCE        & 52433494300015 & 094 & 94081 & VITRY-SUR-SEINE    & 094000081 & G.CHOISY MAJORITAIRE & UDI & UNITE DE DISTRIBUTION & ⋯ & NA & NA & NA & NA & 2021-04-08 & 2021-04-09 & 2021-06-14 & O & 654247.8 & 6853017\\\\\n",
       "\t34428 & 01400710 & SAUR CENTRE  NORMANDIE            & 33937998400133 & 014 & 14237 & EMIEVILLE          & 014000686 & CLOS MORANT          & UDI & UNITE DE DISTRIBUTION & ⋯ & NA & NA & NA & NA & 2021-11-19 & 2021-11-22 & 2019-10-16 & O & 464932.0 & 6899637\\\\\n",
       "\t166911 & 07100626 & SUEZ (S.D.E.I.) CENTRE DE CHARNAY & 41003460703064 & 071 & 71318 & MONTPONT-EN-BRESSE & 071000865 & BASSE SEILLE         & UDI & UNITE DE DISTRIBUTION & ⋯ & NA & NA & NA & NA & 2021-07-13 & 2021-07-14 & 2021-09-21 & O & 865726.7 & 6608391\\\\\n",
       "\t129335 & 05700855 & VEOLIA EAU REGION EST             & 57202552610945 & 057 & 57360 & KERBACH            & 057001801 & FORBACH 5 SUD        & UDI & UNITE DE DISTRIBUTION & ⋯ & NA & NA & NA & NA & 2021-02-22 & 2021-02-23 & 2022-03-22 & O &       NA &      NA\\\\\n",
       "\\end{tabular}\n"
      ],
      "text/markdown": [
       "\n",
       "A data.frame: 5 × 41\n",
       "\n",
       "| <!--/--> | distrcode &lt;fct&gt; | distrlib &lt;fct&gt; | distrsiret &lt;fct&gt; | cddept &lt;fct&gt; | inseecommune &lt;fct&gt; | nomcommune &lt;fct&gt; | cdreseau &lt;fct&gt; | nomreseau &lt;fct&gt; | codetypeinstallation &lt;fct&gt; | nomtypeinstallation &lt;fct&gt; | ⋯ ⋯ | dtautorisation &lt;lgl&gt; | champcaptant &lt;lgl&gt; | codebrgm &lt;lgl&gt; | codebss &lt;lgl&gt; | dmajplv &lt;fct&gt; | dmodifplv &lt;fct&gt; | dmodifins &lt;fct&gt; | representativite &lt;fct&gt; | coord_x &lt;dbl&gt; | coord_y &lt;dbl&gt; |\n",
       "|---|---|---|---|---|---|---|---|---|---|---|---|---|---|---|---|---|---|---|---|---|---|\n",
       "| 36780 | 01500105 | MAIRIE DE LIEUTADES               | <!----> | 015 | 15106 | LIEUTADES          | 015001340 | LA PADELLE           | UDI | UNITE DE DISTRIBUTION | ⋯ | NA | NA | NA | NA | 2021-01-26 | 2021-01-27 | 2019-12-05 | O |       NA |      NA |\n",
       "| 218235 | 09400192 | VEOLIA EAU D'ILE DE FRANCE        | 52433494300015 | 094 | 94081 | VITRY-SUR-SEINE    | 094000081 | G.CHOISY MAJORITAIRE | UDI | UNITE DE DISTRIBUTION | ⋯ | NA | NA | NA | NA | 2021-04-08 | 2021-04-09 | 2021-06-14 | O | 654247.8 | 6853017 |\n",
       "| 34428 | 01400710 | SAUR CENTRE  NORMANDIE            | 33937998400133 | 014 | 14237 | EMIEVILLE          | 014000686 | CLOS MORANT          | UDI | UNITE DE DISTRIBUTION | ⋯ | NA | NA | NA | NA | 2021-11-19 | 2021-11-22 | 2019-10-16 | O | 464932.0 | 6899637 |\n",
       "| 166911 | 07100626 | SUEZ (S.D.E.I.) CENTRE DE CHARNAY | 41003460703064 | 071 | 71318 | MONTPONT-EN-BRESSE | 071000865 | BASSE SEILLE         | UDI | UNITE DE DISTRIBUTION | ⋯ | NA | NA | NA | NA | 2021-07-13 | 2021-07-14 | 2021-09-21 | O | 865726.7 | 6608391 |\n",
       "| 129335 | 05700855 | VEOLIA EAU REGION EST             | 57202552610945 | 057 | 57360 | KERBACH            | 057001801 | FORBACH 5 SUD        | UDI | UNITE DE DISTRIBUTION | ⋯ | NA | NA | NA | NA | 2021-02-22 | 2021-02-23 | 2022-03-22 | O |       NA |      NA |\n",
       "\n"
      ],
      "text/plain": [
       "       distrcode distrlib                          distrsiret     cddept\n",
       "36780  01500105  MAIRIE DE LIEUTADES                              015   \n",
       "218235 09400192  VEOLIA EAU D'ILE DE FRANCE        52433494300015 094   \n",
       "34428  01400710  SAUR CENTRE  NORMANDIE            33937998400133 014   \n",
       "166911 07100626  SUEZ (S.D.E.I.) CENTRE DE CHARNAY 41003460703064 071   \n",
       "129335 05700855  VEOLIA EAU REGION EST             57202552610945 057   \n",
       "       inseecommune nomcommune         cdreseau  nomreseau           \n",
       "36780  15106        LIEUTADES          015001340 LA PADELLE          \n",
       "218235 94081        VITRY-SUR-SEINE    094000081 G.CHOISY MAJORITAIRE\n",
       "34428  14237        EMIEVILLE          014000686 CLOS MORANT         \n",
       "166911 71318        MONTPONT-EN-BRESSE 071000865 BASSE SEILLE        \n",
       "129335 57360        KERBACH            057001801 FORBACH 5 SUD       \n",
       "       codetypeinstallation nomtypeinstallation   <U+22EF>        dtautorisation\n",
       "36780  UDI                  UNITE DE DISTRIBUTION <U+22EF> NA            \n",
       "218235 UDI                  UNITE DE DISTRIBUTION <U+22EF> NA            \n",
       "34428  UDI                  UNITE DE DISTRIBUTION <U+22EF> NA            \n",
       "166911 UDI                  UNITE DE DISTRIBUTION <U+22EF> NA            \n",
       "129335 UDI                  UNITE DE DISTRIBUTION <U+22EF> NA            \n",
       "       champcaptant codebrgm codebss dmajplv    dmodifplv  dmodifins \n",
       "36780  NA           NA       NA      2021-01-26 2021-01-27 2019-12-05\n",
       "218235 NA           NA       NA      2021-04-08 2021-04-09 2021-06-14\n",
       "34428  NA           NA       NA      2021-11-19 2021-11-22 2019-10-16\n",
       "166911 NA           NA       NA      2021-07-13 2021-07-14 2021-09-21\n",
       "129335 NA           NA       NA      2021-02-22 2021-02-23 2022-03-22\n",
       "       representativite coord_x  coord_y\n",
       "36780  O                      NA      NA\n",
       "218235 O                654247.8 6853017\n",
       "34428  O                464932.0 6899637\n",
       "166911 O                865726.7 6608391\n",
       "129335 O                      NA      NA"
      ]
     },
     "metadata": {},
     "output_type": "display_data"
    }
   ],
   "source": [
    "#aperçu du contenu du fichier\n",
    "UDI_PLV_2021[sample(nrow(UDI_PLV_2021), 5), ]"
   ]
  },
  {
   "cell_type": "code",
   "execution_count": 31,
   "id": "3101f6a7",
   "metadata": {},
   "outputs": [
    {
     "name": "stdout",
     "output_type": "stream",
     "text": [
      " [1] \"distrlib\"      \"cddept\"        \"inseecommune\"  \"nomcommune\"   \n",
      " [5] \"cdreseau\"      \"nomreseau\"     \"referenceprel\" \"dateprel\"     \n",
      " [9] \"coord_x\"       \"coord_y\"      \n"
     ]
    }
   ],
   "source": [
    "#aperçu des différents nom de colonne\n",
    "print(names(UDI_PLV_2021))"
   ]
  },
  {
   "cell_type": "code",
   "execution_count": 11,
   "id": "6b90a24d",
   "metadata": {},
   "outputs": [
    {
     "data": {
      "text/html": [
       "<table class=\"dataframe\">\n",
       "<caption>A data.frame: 6 × 10</caption>\n",
       "<thead>\n",
       "\t<tr><th></th><th scope=col>distrlib</th><th scope=col>cddept</th><th scope=col>inseecommune</th><th scope=col>nomcommune</th><th scope=col>cdreseau</th><th scope=col>nomreseau</th><th scope=col>referenceprel</th><th scope=col>dateprel</th><th scope=col>coord_x</th><th scope=col>coord_y</th></tr>\n",
       "\t<tr><th></th><th scope=col>&lt;fct&gt;</th><th scope=col>&lt;fct&gt;</th><th scope=col>&lt;fct&gt;</th><th scope=col>&lt;fct&gt;</th><th scope=col>&lt;fct&gt;</th><th scope=col>&lt;fct&gt;</th><th scope=col>&lt;fct&gt;</th><th scope=col>&lt;fct&gt;</th><th scope=col>&lt;dbl&gt;</th><th scope=col>&lt;dbl&gt;</th></tr>\n",
       "</thead>\n",
       "<tbody>\n",
       "\t<tr><th scope=row>1</th><td>SAUR FRANCE CHALON-SUR-SAONE   </td><td>001</td><td>01001</td><td>ABERGEMENT-CLEMENCIAT (L')</td><td>001000556</td><td>BDS ST DIDIER/CHALARONNE</td><td>00100125261</td><td>2021-04-29</td><td>848228.7</td><td>6562950</td></tr>\n",
       "\t<tr><th scope=row>2</th><td>SAUR FRANCE CHALON-SUR-SAONE   </td><td>001</td><td>01001</td><td>ABERGEMENT-CLEMENCIAT (L')</td><td>001000556</td><td>BDS ST DIDIER/CHALARONNE</td><td>00100128476</td><td>2021-11-18</td><td>848238.5</td><td>6563025</td></tr>\n",
       "\t<tr><th scope=row>3</th><td>MAIRIE DE L'ABERGEMENT-DE-VAREY</td><td>001</td><td>01002</td><td>ABERGEMENT-DE-VAREY (L')  </td><td>001000369</td><td>L'ABERGEMENT-DE-VAREY   </td><td>00100124232</td><td>2021-01-27</td><td>887371.7</td><td>6548843</td></tr>\n",
       "\t<tr><th scope=row>4</th><td>MAIRIE DE L'ABERGEMENT-DE-VAREY</td><td>001</td><td>01002</td><td>ABERGEMENT-DE-VAREY (L')  </td><td>001000369</td><td>L'ABERGEMENT-DE-VAREY   </td><td>00100125741</td><td>2021-05-25</td><td>887566.6</td><td>6548040</td></tr>\n",
       "\t<tr><th scope=row>5</th><td>MAIRIE DE L'ABERGEMENT-DE-VAREY</td><td>001</td><td>01002</td><td>ABERGEMENT-DE-VAREY (L')  </td><td>001000369</td><td>L'ABERGEMENT-DE-VAREY   </td><td>00100127979</td><td>2021-10-01</td><td>887501.6</td><td>6548137</td></tr>\n",
       "\t<tr><th scope=row>6</th><td>MAIRIE DE L'ABERGEMENT-DE-VAREY</td><td>001</td><td>01002</td><td>ABERGEMENT-DE-VAREY (L')  </td><td>001000369</td><td>L'ABERGEMENT-DE-VAREY   </td><td>00100128353</td><td>2021-10-20</td><td>889137.3</td><td>6545792</td></tr>\n",
       "</tbody>\n",
       "</table>\n"
      ],
      "text/latex": [
       "A data.frame: 6 × 10\n",
       "\\begin{tabular}{r|llllllllll}\n",
       "  & distrlib & cddept & inseecommune & nomcommune & cdreseau & nomreseau & referenceprel & dateprel & coord\\_x & coord\\_y\\\\\n",
       "  & <fct> & <fct> & <fct> & <fct> & <fct> & <fct> & <fct> & <fct> & <dbl> & <dbl>\\\\\n",
       "\\hline\n",
       "\t1 & SAUR FRANCE CHALON-SUR-SAONE    & 001 & 01001 & ABERGEMENT-CLEMENCIAT (L') & 001000556 & BDS ST DIDIER/CHALARONNE & 00100125261 & 2021-04-29 & 848228.7 & 6562950\\\\\n",
       "\t2 & SAUR FRANCE CHALON-SUR-SAONE    & 001 & 01001 & ABERGEMENT-CLEMENCIAT (L') & 001000556 & BDS ST DIDIER/CHALARONNE & 00100128476 & 2021-11-18 & 848238.5 & 6563025\\\\\n",
       "\t3 & MAIRIE DE L'ABERGEMENT-DE-VAREY & 001 & 01002 & ABERGEMENT-DE-VAREY (L')   & 001000369 & L'ABERGEMENT-DE-VAREY    & 00100124232 & 2021-01-27 & 887371.7 & 6548843\\\\\n",
       "\t4 & MAIRIE DE L'ABERGEMENT-DE-VAREY & 001 & 01002 & ABERGEMENT-DE-VAREY (L')   & 001000369 & L'ABERGEMENT-DE-VAREY    & 00100125741 & 2021-05-25 & 887566.6 & 6548040\\\\\n",
       "\t5 & MAIRIE DE L'ABERGEMENT-DE-VAREY & 001 & 01002 & ABERGEMENT-DE-VAREY (L')   & 001000369 & L'ABERGEMENT-DE-VAREY    & 00100127979 & 2021-10-01 & 887501.6 & 6548137\\\\\n",
       "\t6 & MAIRIE DE L'ABERGEMENT-DE-VAREY & 001 & 01002 & ABERGEMENT-DE-VAREY (L')   & 001000369 & L'ABERGEMENT-DE-VAREY    & 00100128353 & 2021-10-20 & 889137.3 & 6545792\\\\\n",
       "\\end{tabular}\n"
      ],
      "text/markdown": [
       "\n",
       "A data.frame: 6 × 10\n",
       "\n",
       "| <!--/--> | distrlib &lt;fct&gt; | cddept &lt;fct&gt; | inseecommune &lt;fct&gt; | nomcommune &lt;fct&gt; | cdreseau &lt;fct&gt; | nomreseau &lt;fct&gt; | referenceprel &lt;fct&gt; | dateprel &lt;fct&gt; | coord_x &lt;dbl&gt; | coord_y &lt;dbl&gt; |\n",
       "|---|---|---|---|---|---|---|---|---|---|---|\n",
       "| 1 | SAUR FRANCE CHALON-SUR-SAONE    | 001 | 01001 | ABERGEMENT-CLEMENCIAT (L') | 001000556 | BDS ST DIDIER/CHALARONNE | 00100125261 | 2021-04-29 | 848228.7 | 6562950 |\n",
       "| 2 | SAUR FRANCE CHALON-SUR-SAONE    | 001 | 01001 | ABERGEMENT-CLEMENCIAT (L') | 001000556 | BDS ST DIDIER/CHALARONNE | 00100128476 | 2021-11-18 | 848238.5 | 6563025 |\n",
       "| 3 | MAIRIE DE L'ABERGEMENT-DE-VAREY | 001 | 01002 | ABERGEMENT-DE-VAREY (L')   | 001000369 | L'ABERGEMENT-DE-VAREY    | 00100124232 | 2021-01-27 | 887371.7 | 6548843 |\n",
       "| 4 | MAIRIE DE L'ABERGEMENT-DE-VAREY | 001 | 01002 | ABERGEMENT-DE-VAREY (L')   | 001000369 | L'ABERGEMENT-DE-VAREY    | 00100125741 | 2021-05-25 | 887566.6 | 6548040 |\n",
       "| 5 | MAIRIE DE L'ABERGEMENT-DE-VAREY | 001 | 01002 | ABERGEMENT-DE-VAREY (L')   | 001000369 | L'ABERGEMENT-DE-VAREY    | 00100127979 | 2021-10-01 | 887501.6 | 6548137 |\n",
       "| 6 | MAIRIE DE L'ABERGEMENT-DE-VAREY | 001 | 01002 | ABERGEMENT-DE-VAREY (L')   | 001000369 | L'ABERGEMENT-DE-VAREY    | 00100128353 | 2021-10-20 | 889137.3 | 6545792 |\n",
       "\n"
      ],
      "text/plain": [
       "  distrlib                        cddept inseecommune\n",
       "1 SAUR FRANCE CHALON-SUR-SAONE    001    01001       \n",
       "2 SAUR FRANCE CHALON-SUR-SAONE    001    01001       \n",
       "3 MAIRIE DE L'ABERGEMENT-DE-VAREY 001    01002       \n",
       "4 MAIRIE DE L'ABERGEMENT-DE-VAREY 001    01002       \n",
       "5 MAIRIE DE L'ABERGEMENT-DE-VAREY 001    01002       \n",
       "6 MAIRIE DE L'ABERGEMENT-DE-VAREY 001    01002       \n",
       "  nomcommune                 cdreseau  nomreseau                referenceprel\n",
       "1 ABERGEMENT-CLEMENCIAT (L') 001000556 BDS ST DIDIER/CHALARONNE 00100125261  \n",
       "2 ABERGEMENT-CLEMENCIAT (L') 001000556 BDS ST DIDIER/CHALARONNE 00100128476  \n",
       "3 ABERGEMENT-DE-VAREY (L')   001000369 L'ABERGEMENT-DE-VAREY    00100124232  \n",
       "4 ABERGEMENT-DE-VAREY (L')   001000369 L'ABERGEMENT-DE-VAREY    00100125741  \n",
       "5 ABERGEMENT-DE-VAREY (L')   001000369 L'ABERGEMENT-DE-VAREY    00100127979  \n",
       "6 ABERGEMENT-DE-VAREY (L')   001000369 L'ABERGEMENT-DE-VAREY    00100128353  \n",
       "  dateprel   coord_x  coord_y\n",
       "1 2021-04-29 848228.7 6562950\n",
       "2 2021-11-18 848238.5 6563025\n",
       "3 2021-01-27 887371.7 6548843\n",
       "4 2021-05-25 887566.6 6548040\n",
       "5 2021-10-01 887501.6 6548137\n",
       "6 2021-10-20 889137.3 6545792"
      ]
     },
     "metadata": {},
     "output_type": "display_data"
    }
   ],
   "source": [
    "# Supprimer les colonnes inutiles\n",
    "UDI_PLV_2021 <- subset(UDI_PLV_2021, select = -c(distrcode, distrcode, distrsiret,codetypeinstallation,nomtypeinstallation,\n",
    "                                                inae,cdpointsurv,nompointsurv,heureprel,finaliteprel,conclusionprel,cdtypeeau,libtypeeau,\n",
    "                                                plvconformitebacterio,plvconformitechimique,plvcomplet,plvcdorganismepayeur,typevisite,\n",
    "                                                plvcondition,preleveur,distrsiren,plvconformiterefbacterio,plvconformiterefchimique,\n",
    "                                                cddeptsandre,dtautorisation,champcaptant,codebrgm,codebss,dmajplv,dmodifplv,dmodifins,representativite))\n",
    "head(UDI_PLV_2021)"
   ]
  },
  {
   "cell_type": "code",
   "execution_count": 12,
   "id": "454998da",
   "metadata": {},
   "outputs": [
    {
     "name": "stdout",
     "output_type": "stream",
     "text": [
      "[1] \"les dimensions du fichier PLV Grand_Est\"\n",
      "[1] 25486    10\n"
     ]
    }
   ],
   "source": [
    "# sélectionner les départements de la Région Grand Est:\n",
    "DPT_Grand_Est <- c(\"008\", \"010\", \"067\", \"068\", \"052\", \"051\", \"054\", \"055\", \"057\", \"088\")\n",
    "UDI_PLV_2021_Grand_Est <- subset(UDI_PLV_2021, cddept %in% DPT_Grand_Est)\n",
    "print(\"les dimensions du fichier PLV Grand_Est\")\n",
    "print(dim(UDI_PLV_2021_Grand_Est))"
   ]
  },
  {
   "cell_type": "code",
   "execution_count": 13,
   "id": "c33aeb79",
   "metadata": {},
   "outputs": [
    {
     "name": "stdout",
     "output_type": "stream",
     "text": [
      "     distrlib        cddept  inseecommune    nomcommune      cdreseau \n",
      "            0             0             0             0             0 \n",
      "    nomreseau referenceprel      dateprel       coord_x       coord_y \n",
      "            0             0             0         17283         17283 \n"
     ]
    }
   ],
   "source": [
    "#regarder le nombres de valeurs manquantes sur chaque colonne:\n",
    "print(colSums(is.na(UDI_PLV_2021_Grand_Est)))"
   ]
  },
  {
   "cell_type": "markdown",
   "id": "0a72f38a",
   "metadata": {},
   "source": [
    " <span style=\"color:indianred\">Attention, 68% des données du Grand_Est n'ont pas de coordonnées x et y.</span> \n"
   ]
  },
  {
   "cell_type": "markdown",
   "id": "4da45d92",
   "metadata": {},
   "source": [
    "### <span style=\"color:olivedrab\">Partie II - Jointure</span> "
   ]
  },
  {
   "cell_type": "code",
   "execution_count": 14,
   "id": "044d8d95",
   "metadata": {},
   "outputs": [
    {
     "name": "stdout",
     "output_type": "stream",
     "text": [
      "[1] \"les dimensions du fichier Grand_Est après jointure\"\n",
      "[1] 761117     15\n"
     ]
    },
    {
     "data": {
      "text/html": [
       "<table class=\"dataframe\">\n",
       "<caption>A data.frame: 5 × 15</caption>\n",
       "<thead>\n",
       "\t<tr><th></th><th scope=col>referenceprel</th><th scope=col>distrlib</th><th scope=col>cddept.x</th><th scope=col>inseecommune</th><th scope=col>nomcommune</th><th scope=col>cdreseau</th><th scope=col>nomreseau</th><th scope=col>dateprel</th><th scope=col>coord_x</th><th scope=col>coord_y</th><th scope=col>cddept.y</th><th scope=col>cdparametre</th><th scope=col>cdparametresiseeaux</th><th scope=col>rsana</th><th scope=col>cdunitereferencesiseeaux</th></tr>\n",
       "\t<tr><th></th><th scope=col>&lt;fct&gt;</th><th scope=col>&lt;fct&gt;</th><th scope=col>&lt;fct&gt;</th><th scope=col>&lt;fct&gt;</th><th scope=col>&lt;fct&gt;</th><th scope=col>&lt;fct&gt;</th><th scope=col>&lt;fct&gt;</th><th scope=col>&lt;fct&gt;</th><th scope=col>&lt;dbl&gt;</th><th scope=col>&lt;dbl&gt;</th><th scope=col>&lt;fct&gt;</th><th scope=col>&lt;int&gt;</th><th scope=col>&lt;fct&gt;</th><th scope=col>&lt;dbl&gt;</th><th scope=col>&lt;fct&gt;</th></tr>\n",
       "</thead>\n",
       "<tbody>\n",
       "\t<tr><th scope=row>423229</th><td>05200087606</td><td>SAUR RHIN RHONE      </td><td>052</td><td>52093</td><td>CHALINDREY</td><td>052001670</td><td>CHALINDREY   </td><td>2021-06-07</td><td> 881948</td><td>6747635</td><td>052</td><td>1398</td><td>CL2LIB </td><td>0.1</td><td>mg(Cl2)/L</td></tr>\n",
       "\t<tr><th scope=row>367957</th><td>05100126700</td><td>VEOLIA EAU           </td><td>051</td><td>51167</td><td>COOLE     </td><td>051000515</td><td>COOLE        </td><td>2021-11-09</td><td>     NA</td><td>     NA</td><td>051</td><td>7086</td><td>TEMBO  </td><td>0.0</td><td>Âµg/L    </td></tr>\n",
       "\t<tr><th scope=row>581711</th><td>05700151039</td><td>VEOLIA EAU REGION EST</td><td>057</td><td>57091</td><td>BLIESBRUCK</td><td>057000130</td><td>BLIESBRUCK   </td><td>2021-09-22</td><td>1004917</td><td>6898588</td><td>057</td><td>1494</td><td>EPICL  </td><td>0.0</td><td>Âµg/L    </td></tr>\n",
       "\t<tr><th scope=row>329219</th><td>05100125935</td><td>SUEZ-EAU-FRANCE      </td><td>051</td><td>51609</td><td>VERNEUIL  </td><td>051000775</td><td>CCPC VERNEUIL</td><td>2021-09-07</td><td>     NA</td><td>     NA</td><td>051</td><td>5646</td><td>HYMEX  </td><td>0.0</td><td>Âµg/L    </td></tr>\n",
       "\t<tr><th scope=row>748812</th><td>08800167662</td><td>SUEZ EAU FRANCE SAS  </td><td>088</td><td>88136</td><td>DOGNEVILLE</td><td>088001253</td><td>DOGNEVILLE   </td><td>2021-09-17</td><td>     NA</td><td>     NA</td><td>088</td><td>5441</td><td>GT36_44</td><td>0.0</td><td>n/mL     </td></tr>\n",
       "</tbody>\n",
       "</table>\n"
      ],
      "text/latex": [
       "A data.frame: 5 × 15\n",
       "\\begin{tabular}{r|lllllllllllllll}\n",
       "  & referenceprel & distrlib & cddept.x & inseecommune & nomcommune & cdreseau & nomreseau & dateprel & coord\\_x & coord\\_y & cddept.y & cdparametre & cdparametresiseeaux & rsana & cdunitereferencesiseeaux\\\\\n",
       "  & <fct> & <fct> & <fct> & <fct> & <fct> & <fct> & <fct> & <fct> & <dbl> & <dbl> & <fct> & <int> & <fct> & <dbl> & <fct>\\\\\n",
       "\\hline\n",
       "\t423229 & 05200087606 & SAUR RHIN RHONE       & 052 & 52093 & CHALINDREY & 052001670 & CHALINDREY    & 2021-06-07 &  881948 & 6747635 & 052 & 1398 & CL2LIB  & 0.1 & mg(Cl2)/L\\\\\n",
       "\t367957 & 05100126700 & VEOLIA EAU            & 051 & 51167 & COOLE      & 051000515 & COOLE         & 2021-11-09 &      NA &      NA & 051 & 7086 & TEMBO   & 0.0 & Âµg/L    \\\\\n",
       "\t581711 & 05700151039 & VEOLIA EAU REGION EST & 057 & 57091 & BLIESBRUCK & 057000130 & BLIESBRUCK    & 2021-09-22 & 1004917 & 6898588 & 057 & 1494 & EPICL   & 0.0 & Âµg/L    \\\\\n",
       "\t329219 & 05100125935 & SUEZ-EAU-FRANCE       & 051 & 51609 & VERNEUIL   & 051000775 & CCPC VERNEUIL & 2021-09-07 &      NA &      NA & 051 & 5646 & HYMEX   & 0.0 & Âµg/L    \\\\\n",
       "\t748812 & 08800167662 & SUEZ EAU FRANCE SAS   & 088 & 88136 & DOGNEVILLE & 088001253 & DOGNEVILLE    & 2021-09-17 &      NA &      NA & 088 & 5441 & GT36\\_44 & 0.0 & n/mL     \\\\\n",
       "\\end{tabular}\n"
      ],
      "text/markdown": [
       "\n",
       "A data.frame: 5 × 15\n",
       "\n",
       "| <!--/--> | referenceprel &lt;fct&gt; | distrlib &lt;fct&gt; | cddept.x &lt;fct&gt; | inseecommune &lt;fct&gt; | nomcommune &lt;fct&gt; | cdreseau &lt;fct&gt; | nomreseau &lt;fct&gt; | dateprel &lt;fct&gt; | coord_x &lt;dbl&gt; | coord_y &lt;dbl&gt; | cddept.y &lt;fct&gt; | cdparametre &lt;int&gt; | cdparametresiseeaux &lt;fct&gt; | rsana &lt;dbl&gt; | cdunitereferencesiseeaux &lt;fct&gt; |\n",
       "|---|---|---|---|---|---|---|---|---|---|---|---|---|---|---|---|\n",
       "| 423229 | 05200087606 | SAUR RHIN RHONE       | 052 | 52093 | CHALINDREY | 052001670 | CHALINDREY    | 2021-06-07 |  881948 | 6747635 | 052 | 1398 | CL2LIB  | 0.1 | mg(Cl2)/L |\n",
       "| 367957 | 05100126700 | VEOLIA EAU            | 051 | 51167 | COOLE      | 051000515 | COOLE         | 2021-11-09 |      NA |      NA | 051 | 7086 | TEMBO   | 0.0 | Âµg/L     |\n",
       "| 581711 | 05700151039 | VEOLIA EAU REGION EST | 057 | 57091 | BLIESBRUCK | 057000130 | BLIESBRUCK    | 2021-09-22 | 1004917 | 6898588 | 057 | 1494 | EPICL   | 0.0 | Âµg/L     |\n",
       "| 329219 | 05100125935 | SUEZ-EAU-FRANCE       | 051 | 51609 | VERNEUIL   | 051000775 | CCPC VERNEUIL | 2021-09-07 |      NA |      NA | 051 | 5646 | HYMEX   | 0.0 | Âµg/L     |\n",
       "| 748812 | 08800167662 | SUEZ EAU FRANCE SAS   | 088 | 88136 | DOGNEVILLE | 088001253 | DOGNEVILLE    | 2021-09-17 |      NA |      NA | 088 | 5441 | GT36_44 | 0.0 | n/mL      |\n",
       "\n"
      ],
      "text/plain": [
       "       referenceprel distrlib              cddept.x inseecommune nomcommune\n",
       "423229 05200087606   SAUR RHIN RHONE       052      52093        CHALINDREY\n",
       "367957 05100126700   VEOLIA EAU            051      51167        COOLE     \n",
       "581711 05700151039   VEOLIA EAU REGION EST 057      57091        BLIESBRUCK\n",
       "329219 05100125935   SUEZ-EAU-FRANCE       051      51609        VERNEUIL  \n",
       "748812 08800167662   SUEZ EAU FRANCE SAS   088      88136        DOGNEVILLE\n",
       "       cdreseau  nomreseau     dateprel   coord_x coord_y cddept.y cdparametre\n",
       "423229 052001670 CHALINDREY    2021-06-07  881948 6747635 052      1398       \n",
       "367957 051000515 COOLE         2021-11-09      NA      NA 051      7086       \n",
       "581711 057000130 BLIESBRUCK    2021-09-22 1004917 6898588 057      1494       \n",
       "329219 051000775 CCPC VERNEUIL 2021-09-07      NA      NA 051      5646       \n",
       "748812 088001253 DOGNEVILLE    2021-09-17      NA      NA 088      5441       \n",
       "       cdparametresiseeaux rsana cdunitereferencesiseeaux\n",
       "423229 CL2LIB              0.1   mg(Cl2)/L               \n",
       "367957 TEMBO               0.0   Âµg/L                   \n",
       "581711 EPICL               0.0   Âµg/L                   \n",
       "329219 HYMEX               0.0   Âµg/L                   \n",
       "748812 GT36_44             0.0   n/mL                    "
      ]
     },
     "metadata": {},
     "output_type": "display_data"
    }
   ],
   "source": [
    "Fichier_GrandEst<- merge(UDI_PLV_2021_Grand_Est, UDI_RES_2021_Grand_Est, by = \"referenceprel\")\n",
    "\n",
    "print(\"les dimensions du fichier Grand_Est après jointure\")\n",
    "print(dim(Fichier_GrandEst))\n",
    "Fichier_GrandEst[sample(nrow(Fichier_GrandEst), 5), ]"
   ]
  },
  {
   "cell_type": "code",
   "execution_count": 15,
   "id": "84bccb58",
   "metadata": {},
   "outputs": [
    {
     "name": "stdout",
     "output_type": "stream",
     "text": [
      "           referenceprel                 distrlib                 cddept.x \n",
      "                       0                        0                        0 \n",
      "            inseecommune               nomcommune                 cdreseau \n",
      "                       0                        0                        0 \n",
      "               nomreseau                 dateprel                  coord_x \n",
      "                       0                        0                   606067 \n",
      "                 coord_y                 cddept.y              cdparametre \n",
      "                  606067                        0                       57 \n",
      "     cdparametresiseeaux                    rsana cdunitereferencesiseeaux \n",
      "                     151                      738                        0 \n"
     ]
    }
   ],
   "source": [
    "#regarder le nombres de valeurs manquantes sur chaque colonne:\n",
    "print(colSums(is.na(Fichier_GrandEst)))"
   ]
  },
  {
   "cell_type": "markdown",
   "id": "33345ca7",
   "metadata": {},
   "source": [
    " <span style=\"color:indianred\">Attention, 80% des données du Grand_Est n'ont pas de coordonnées x et y après jointure</span> \n"
   ]
  },
  {
   "cell_type": "markdown",
   "id": "8d63a106",
   "metadata": {},
   "source": [
    "### <span style=\"color:olivedrab\">Partie III - Séléction du paramètre NO3 et NO3_NO2 (nitrate et nitrite combiné) </span> "
   ]
  },
  {
   "cell_type": "code",
   "execution_count": 32,
   "id": "988cf066",
   "metadata": {},
   "outputs": [
    {
     "name": "stdout",
     "output_type": "stream",
     "text": [
      "  [1] ASP     CTF     BSIR    GT36_44 COULQ   CDT25   ODQ     PH      CL2TOT \n",
      " [10] TEMP_PH TURBNFU STRF    TEAU    ECOLI   GT22_68 CL2LIB  NH4     NO3    \n",
      " [19] MN      PSA100  FET     CL      TA      CO3     SO4     <NA>    MG     \n",
      " [28] CA      ALTMICR NO2     TAC     ACTRN22 K       HCO3    CALCOC2 CO2A   \n",
      " [37] CO2     PHE     SMZ     GFST    DIAZ    OXALCL  QUINOXY IMAZAPY DFF    \n",
      " [46] IMBCAZ  IMAZAQU INDOXAC FNP     DCPADH  DAMZD   FNUR    DICHLB  DICOUM \n",
      " [55] ODX     FPRO    DEHAME  FPPMP   DFB     SITN    PYRAZXF DCLORMI HEPTENO\n",
      " [64] IALDR   AMPA    DICRO   DILONE  PYRX    IMAZ    DIM2ESA FORASUL DIFENOC\n",
      " [73] SHYD    SCT     DDD24   SEBUT2H MOL     QUINO   GPST    FONO    BFNX   \n",
      " [82] HCHE    CYHABU  HEPEC   OXDM    TECNAZ  SEDAX   SEBUT   HXCZ    FNFS   \n",
      " [91] BROMADI DCHLOPH HCHG    DCAMB   TCVP    PZP     ALLYXY  ORZ     QUIZO  \n",
      "[100] FURALAX SETHOX  SECB    DDE44   TCPY    DIM1ESA TCM     AMTH    FLUPYR \n",
      "[109] MIR     MLNR    IMAT    DITHIAN TEBUPI  DIFXUR  HYMEX   HXPEE   SBAZ2H \n",
      "[118] ADSP    METRAF  TBTR    QUINMR  NORFLDM HCHB    DIQUAT  PYRIDAB DIU    \n",
      "[127] OFURACE FPYRM   DDT24   HTZ     MTBZTZ  BRMTH   PYMET   PECNZ   DCFMT  \n",
      "[136] OXAFLU  BROMOE  MTC     IMAMOX  DCP     HEPET   FMTH    DEA     FNAP   \n",
      "[145] MTBR    PDM     BFLN    PARTH   MNR     BUTAM   HCHD    PYBUT   DMTRY  \n",
      "[154] SILTF   HXZN    ROTENON TCNZ    ALCL    TBZDESH NOAMTC  NICOSUL CYFLTH \n",
      "[163] DCFT    IMATMET ALDSN   FLURIDO FLURTAM FSLZ    FLURPRI DDD44   MPNI   \n",
      "[172] AMNTZ   DMST    OXADIM  PYRPF   PARTHM  IODOFEN DIMET   PYRAZET TDMN   \n",
      "[181] HYDMAL  SIDURON TCF     DIOXA   CYSUL   PARM    METZCL  PCP     FLUAZF \n",
      "[190] FLUOPYR CYFLU   PSFC    FXAS    FLUXA   DMTSM   PYFE    QUIZOET TBPYR  \n",
      "[199] HCB     BENZOZ  TBZDES  DMTE    PYRMM   TDMF    IBP     TBUC    FTFL   \n",
      "[208] BOSCALI SFOMTH  DINICO  MERPHO  PYDAP   MESOSUL PARAOX  BUPROFZ PCLR   \n",
      "[217] MEXAC   AMIDIT  FLUQUIN IMETS   FLUTO   DLL     DCPU    MTBZ    TEMBO  \n",
      "[226] TAUFLU  BENSLD  NUARIMO OCHA    NBR     FLUMIOX FOSTHIA OOA     FRAZ   \n",
      "[235] OXYM    TBIL    BFINE   TBCZ    BRMCL   TBZH    MESOTRI DMTH    ALDR   \n",
      "[244] PYRAC   ADET    BRPH    HEP     TCBAZ   FLUTHI  BIX     KRESOXI AMIPRM \n",
      "[253] BUFENC  OXYFLUO BTZ     BUTIL   BUT     METACET IODOSU  FURATHI MCPO   \n",
      "[262] DDT44   IMIDA   IODO    FLOAMD  643PYRD BENVCI  PRXP    FLORAS  CYANFP \n",
      "[271] NALED   AD2H    CYINE   ADETD   CYROMAZ DIMTH   HCHA    TRAZ2H  TBZDE  \n",
      "[280] MCPA    MCP2OE  PYROX   OXADMTH DMTHY   OXDZ    METAL   METCONA MCPNIB \n",
      "[289] TBZ     LNR     RSFU    PACLOBU TEFLUTH DNOC    BUPIRI  BRXY    BTRON  \n",
      "[298] SPITET  24DB    DIMEFUR DIMETAC METHACR DDE24   DIMOX   HALOXYR AZAMETI\n",
      "[307] 3HXC    BENOXA  NITROF  ACIFLUO FLPIDE  ACP     BIPHENY HEOD    FLAZASU\n",
      "[316] ISPV    PICOX   PYCL    LFLAM   MCP244  MCP2BE  DAIMURO PMPA    ALDSY  \n",
      "[325] MESUY   OXDG    MCPME   CYM     OXSULFH TEDP    METOSUL BRPPL   ETHIOPH\n",
      "[334] ETHION  BTTNL   245T    IOXY    FAMOXAD PENCYCU DIMEP   TRINEXA TAM    \n",
      "[343] FIPRO   FERI    MEFENA  HASULM  AZODRIN FLUAZB  CYCLOA  NFZ     MYCLOSS\n",
      "[352] ACNT    ADET2   MEPRONI BMUCON  TMT     EPROP   IXB     PINOX   KARBUT \n",
      "[361] MALAOX  MCPA2E  MCP2EE  TRFLUM  DMTM    TRIASUL MCPB    TRIMC   FPYR   \n",
      "[370] DCPMU   BRXYOC  METIL   PPIT    PPHM    DPU     TTAZINE 24D     SPIROX \n",
      "[379] FIPRO01 SULFRN  MTZ     ATRZ    FENOT   BENSULH BEND    BEFLU   CYBUT  \n",
      "[388] CTOL    PRT     PRQT    ADC     MEPIQUA TOLM    TLL     PIFODM  PHRT   \n",
      "[397] PHTB    ESADMTH MCPA1B  LNCE    TRBNURO TRCYCLA PMC     ESAMTC  TRILO  \n",
      "[406] ETFS    AMIDOSU AMINC   MCPP    TRITO   MECARB  UNCAZ   PRMTN   FAMP   \n",
      "[415] IOXYM   SULPRO  FIPRO02 FENTH   IPROVAL AZACONA CROTOX  CYCLOXY FLUDIOX\n",
      "[424] BAX     NDMS    MEFLUID MEPHOS  ISP     PRPZ    CBRYL   EPOXCZ  PHOSL  \n",
      "[433] EPN     CETCOXA MALTH   PIPERO  MANDIP  CHLORB  ETSY    TERBMDE MCPAEE \n",
      "[442] TRIF    PPCNZ   PPCHL   CINOSUL CHLX    AZIN    TRSULFM ETHAMH  TTDIFON\n",
      "[451] PRETILA NAPR    CSFU    IOXYOCT MTHDP   HALOX   MTFEN   FENOXY  CRUFOM \n",
      "[460] ENDRAL  AZINE   MTZCESA FLUAZN  ACETOCH CLAHA   TSON    MTZCOXA MEFENPD\n",
      "[469] ISOXAT  PHENTHO TITCNZ  MTHION  PHM     LCLESA  CFVP    TRAZDE  MVPH   \n",
      "[478] CYANZ   FCLAZE  PMPT    TRIFORI TRIFLX  ETDMR   PPCBS   THISUME MTMY   \n",
      "[487] CLAHB   CLDZ    PPMD    CETCESA CYAZOF  AZOXYST CADUSAF CPCNZ   IPPU   \n",
      "[496] ANTHRAQ CHLPM   THIODIC AZIMSUL FENIS   PRPA    CLBROMU EKALUX  TRZAMAT\n",
      "[505] ISOXAFL EPTC    CBTM    ESFENV  CBPT    PENOXU  PESTOT  THIOBEN CHINE  \n",
      "[514] ENDOS   MTMI    CARFENE A2H     ETSN    TERB    TRIAZ   PRP2H   PPBTX  \n",
      "[523] EFOSITE FLAMPM  FENOXA  MTOLC   THIDIAZ ENDOA   FENIT   ACET    CBDZ   \n",
      "[532] ATRATN  ASM     PNCB    EDIF    THIACLO FENOB   IPPMU   FCLURO  CARBR  \n",
      "[541] CLDZ_D  PROFENO ISOPC   ESAFLU  PIRIDM  IPCONA  PROSULF 34DCPA  ENDOB  \n",
      "[550] MTX     ENDR    THIAMET FENFU   PETHO   PHENM   PROMN   CANT    TERBU  \n",
      "[559] 26DCB   TERBM   DTERB   MTHC    CARBOX  MTCOXA  FENHEXA THBZ    ISAZO  \n",
      "[568] TETRAS  CLFSON  TFU     ETXSUL  ETRIM   DSEB    ANILO   DTFC    CPPH   \n",
      "[577] COUMAF  DTINE   CLRMTH  CLRNB   TFBZURO PROFOX  DSYST   CLETHO  PPX    \n",
      "[586] PROME   FENCL   FENAMID COUMATE COMLI   CNPA    FENBUCO CLOT    VMDT   \n",
      "[595] CLMP    TSXY    PROQUI  PROCYM  CPC     COUM    24DIE   PROPAQU FCLRD  \n",
      "[604] CLMQ    CLTHIO  PROPAMO PROM    FEINE   24DME   ETU     CLOMAZO CLDZ_MD\n",
      "[613] PROP    CMP     CLOPY   CLODINA PPTP    TRZPH   ETOF    ETHPH   ZOXAMID\n",
      "[622] VALIF   CLMPE   PCLAT   CLVYL   CD      NI      PB      ACRYL   CU     \n",
      "[631] HPAT4   EPICL   CRT     BAPYR   BBFLUO  BKFLUO  BGPERY  SB      INDPYR \n",
      "[640] GIAI100 GIA100L CPSI100 CPS100L BRF     DBRMCL  CLF     THM4    DCLMBR \n",
      "[649] BRATE   ANTHRAD CHRYS   PHENAN  ACPT    ANTHRA  NAPHTA  FLUORA  DBENZAN\n",
      "[658] BENZAN  FLUORE  TEQ_HAP PYR     HPAT    HPAT16  TAIR    ANPHT   CL2COMB\n",
      "[667] SAVQ    NO3_NO2 12DCLE  TCEYTCL TCLEY   TCEY    TH      COT     CLTHAL \n",
      "[676] HYDISSO IHV     MRBTAC  SE      PH_EC   DI      RALPHA2 RBETA2R MRBTH  \n",
      "[685] ACTITR  RBETA2  ANALG09 ACTIK40 CO2CAL  CYANT   AS      HG      FMG    \n",
      "[694] PO4     BMG     BA      BENZ    ME2FL   ME2NA   CLNAPH2 CLNAPH1 CT_NPP \n",
      "[703] ECO_NPP DMTS    OXAMTC  SALMQ   CPYL    EVIR    OXACETC ESADIM1 ESALCL \n",
      "[712] ESAMTZC ESADIM2 OXAMTZC ESACETC PBD     CLITEMG MCPABE  LEGIO   LEGIOPL\n",
      "[721] FED     NH4_NAT STRL    SMETOLA COULF   CLO2    ODSAVQ  CTL     COLILER\n",
      "[730] CR6     MND     11DCLE  11DCPRO 12DBM   12DCET  112TCE  12BRE   BRCLM  \n",
      "[739] 12DCP   13DCP   12DCETT CLM     BRM     TCLC    DCLE    11DCET  111TCL \n",
      "[748] CLE     DFCM    1112TCE TCTFM   DCLM    XYLMEPA XYLEN   BENZETH XYLO   \n",
      "[757] TOL     DMTHESA DMTHOXA HBUT    TCPR    23DCPRO 1122TCE CLPREN  22DCP  \n",
      "[766] ETBE    TCFM    3CLPROP O2      H2SULF  H2S     BFE     CL2LIBA ODEUR25\n",
      "[775] SAV25  \n",
      "1176 Levels: 1112TCE 111TCL 1122TCE 112TCE 11DCET 11DCLE 11DCPRO ... ZYGOPHY\n"
     ]
    }
   ],
   "source": [
    "#listes des paramètres\n",
    "print(unique(Fichier_GrandEst$cdparametresiseeaux))"
   ]
  },
  {
   "cell_type": "code",
   "execution_count": 17,
   "id": "6da20e45",
   "metadata": {},
   "outputs": [
    {
     "name": "stdout",
     "output_type": "stream",
     "text": [
      "[1] \"les dimensions du fichier avec les paramètres nitrates et nitrites Grand_Est après jointure\"\n",
      "[1] 6142   15\n"
     ]
    },
    {
     "data": {
      "text/html": [
       "<table class=\"dataframe\">\n",
       "<caption>A data.frame: 5 × 15</caption>\n",
       "<thead>\n",
       "\t<tr><th></th><th scope=col>referenceprel</th><th scope=col>distrlib</th><th scope=col>cddept.x</th><th scope=col>inseecommune</th><th scope=col>nomcommune</th><th scope=col>cdreseau</th><th scope=col>nomreseau</th><th scope=col>dateprel</th><th scope=col>coord_x</th><th scope=col>coord_y</th><th scope=col>cddept.y</th><th scope=col>cdparametre</th><th scope=col>cdparametresiseeaux</th><th scope=col>rsana</th><th scope=col>cdunitereferencesiseeaux</th></tr>\n",
       "\t<tr><th></th><th scope=col>&lt;fct&gt;</th><th scope=col>&lt;fct&gt;</th><th scope=col>&lt;fct&gt;</th><th scope=col>&lt;fct&gt;</th><th scope=col>&lt;fct&gt;</th><th scope=col>&lt;fct&gt;</th><th scope=col>&lt;fct&gt;</th><th scope=col>&lt;fct&gt;</th><th scope=col>&lt;dbl&gt;</th><th scope=col>&lt;dbl&gt;</th><th scope=col>&lt;fct&gt;</th><th scope=col>&lt;int&gt;</th><th scope=col>&lt;fct&gt;</th><th scope=col>&lt;dbl&gt;</th><th scope=col>&lt;fct&gt;</th></tr>\n",
       "</thead>\n",
       "<tbody>\n",
       "\t<tr><th scope=row>6747</th><td>00800093261</td><td>VEOLIA EAU                    </td><td>008</td><td>08145</td><td>DOUZY              </td><td>008000617</td><td>DOUZY                                </td><td>2021-03-05</td><td>NA</td><td>NA</td><td>008</td><td>1340</td><td>NO3</td><td>15.2</td><td>mg/L</td></tr>\n",
       "\t<tr><th scope=row>277483</th><td>05100124931</td><td>COMMUNAUTE URBAINE GRAND REIMS</td><td>051</td><td>51055</td><td>BETHENY            </td><td>051000885</td><td>CU GRAND REIMS                       </td><td>2021-06-25</td><td>NA</td><td>NA</td><td>051</td><td>1340</td><td>NO3</td><td>30.0</td><td>mg/L</td></tr>\n",
       "\t<tr><th scope=row>124145</th><td>01000087820</td><td>REGIE DU S.D.D.E.A.           </td><td>010</td><td>10213</td><td>MAGNANT            </td><td>010000166</td><td>VENDEUVRE SUR BARSE - ARGANCON RESEAU</td><td>2021-04-21</td><td>NA</td><td>NA</td><td>010</td><td>1340</td><td>NO3</td><td>33.0</td><td>mg/L</td></tr>\n",
       "\t<tr><th scope=row>160411</th><td>01000089402</td><td>REGIE DU S.D.D.E.A.           </td><td>010</td><td>10003</td><td>AIX-VILLEMAUR-PALIS</td><td>010003582</td><td>PALIS RESEAU ALIMENTE PAR VILLEMAUR  </td><td>2021-08-24</td><td>NA</td><td>NA</td><td>010</td><td>1340</td><td>NO3</td><td>26.0</td><td>mg/L</td></tr>\n",
       "\t<tr><th scope=row>261973</th><td>05100124664</td><td>SAUR FRANCE (89)              </td><td>051</td><td>51284</td><td>HAUSSIGNEMONT      </td><td>051000822</td><td>SIAEP D'HAUSSIGNEMONT                </td><td>2021-06-01</td><td>NA</td><td>NA</td><td>051</td><td>1340</td><td>NO3</td><td> 2.2</td><td>mg/L</td></tr>\n",
       "</tbody>\n",
       "</table>\n"
      ],
      "text/latex": [
       "A data.frame: 5 × 15\n",
       "\\begin{tabular}{r|lllllllllllllll}\n",
       "  & referenceprel & distrlib & cddept.x & inseecommune & nomcommune & cdreseau & nomreseau & dateprel & coord\\_x & coord\\_y & cddept.y & cdparametre & cdparametresiseeaux & rsana & cdunitereferencesiseeaux\\\\\n",
       "  & <fct> & <fct> & <fct> & <fct> & <fct> & <fct> & <fct> & <fct> & <dbl> & <dbl> & <fct> & <int> & <fct> & <dbl> & <fct>\\\\\n",
       "\\hline\n",
       "\t6747 & 00800093261 & VEOLIA EAU                     & 008 & 08145 & DOUZY               & 008000617 & DOUZY                                 & 2021-03-05 & NA & NA & 008 & 1340 & NO3 & 15.2 & mg/L\\\\\n",
       "\t277483 & 05100124931 & COMMUNAUTE URBAINE GRAND REIMS & 051 & 51055 & BETHENY             & 051000885 & CU GRAND REIMS                        & 2021-06-25 & NA & NA & 051 & 1340 & NO3 & 30.0 & mg/L\\\\\n",
       "\t124145 & 01000087820 & REGIE DU S.D.D.E.A.            & 010 & 10213 & MAGNANT             & 010000166 & VENDEUVRE SUR BARSE - ARGANCON RESEAU & 2021-04-21 & NA & NA & 010 & 1340 & NO3 & 33.0 & mg/L\\\\\n",
       "\t160411 & 01000089402 & REGIE DU S.D.D.E.A.            & 010 & 10003 & AIX-VILLEMAUR-PALIS & 010003582 & PALIS RESEAU ALIMENTE PAR VILLEMAUR   & 2021-08-24 & NA & NA & 010 & 1340 & NO3 & 26.0 & mg/L\\\\\n",
       "\t261973 & 05100124664 & SAUR FRANCE (89)               & 051 & 51284 & HAUSSIGNEMONT       & 051000822 & SIAEP D'HAUSSIGNEMONT                 & 2021-06-01 & NA & NA & 051 & 1340 & NO3 &  2.2 & mg/L\\\\\n",
       "\\end{tabular}\n"
      ],
      "text/markdown": [
       "\n",
       "A data.frame: 5 × 15\n",
       "\n",
       "| <!--/--> | referenceprel &lt;fct&gt; | distrlib &lt;fct&gt; | cddept.x &lt;fct&gt; | inseecommune &lt;fct&gt; | nomcommune &lt;fct&gt; | cdreseau &lt;fct&gt; | nomreseau &lt;fct&gt; | dateprel &lt;fct&gt; | coord_x &lt;dbl&gt; | coord_y &lt;dbl&gt; | cddept.y &lt;fct&gt; | cdparametre &lt;int&gt; | cdparametresiseeaux &lt;fct&gt; | rsana &lt;dbl&gt; | cdunitereferencesiseeaux &lt;fct&gt; |\n",
       "|---|---|---|---|---|---|---|---|---|---|---|---|---|---|---|---|\n",
       "| 6747 | 00800093261 | VEOLIA EAU                     | 008 | 08145 | DOUZY               | 008000617 | DOUZY                                 | 2021-03-05 | NA | NA | 008 | 1340 | NO3 | 15.2 | mg/L |\n",
       "| 277483 | 05100124931 | COMMUNAUTE URBAINE GRAND REIMS | 051 | 51055 | BETHENY             | 051000885 | CU GRAND REIMS                        | 2021-06-25 | NA | NA | 051 | 1340 | NO3 | 30.0 | mg/L |\n",
       "| 124145 | 01000087820 | REGIE DU S.D.D.E.A.            | 010 | 10213 | MAGNANT             | 010000166 | VENDEUVRE SUR BARSE - ARGANCON RESEAU | 2021-04-21 | NA | NA | 010 | 1340 | NO3 | 33.0 | mg/L |\n",
       "| 160411 | 01000089402 | REGIE DU S.D.D.E.A.            | 010 | 10003 | AIX-VILLEMAUR-PALIS | 010003582 | PALIS RESEAU ALIMENTE PAR VILLEMAUR   | 2021-08-24 | NA | NA | 010 | 1340 | NO3 | 26.0 | mg/L |\n",
       "| 261973 | 05100124664 | SAUR FRANCE (89)               | 051 | 51284 | HAUSSIGNEMONT       | 051000822 | SIAEP D'HAUSSIGNEMONT                 | 2021-06-01 | NA | NA | 051 | 1340 | NO3 |  2.2 | mg/L |\n",
       "\n"
      ],
      "text/plain": [
       "       referenceprel distrlib                       cddept.x inseecommune\n",
       "6747   00800093261   VEOLIA EAU                     008      08145       \n",
       "277483 05100124931   COMMUNAUTE URBAINE GRAND REIMS 051      51055       \n",
       "124145 01000087820   REGIE DU S.D.D.E.A.            010      10213       \n",
       "160411 01000089402   REGIE DU S.D.D.E.A.            010      10003       \n",
       "261973 05100124664   SAUR FRANCE (89)               051      51284       \n",
       "       nomcommune          cdreseau  nomreseau                            \n",
       "6747   DOUZY               008000617 DOUZY                                \n",
       "277483 BETHENY             051000885 CU GRAND REIMS                       \n",
       "124145 MAGNANT             010000166 VENDEUVRE SUR BARSE - ARGANCON RESEAU\n",
       "160411 AIX-VILLEMAUR-PALIS 010003582 PALIS RESEAU ALIMENTE PAR VILLEMAUR  \n",
       "261973 HAUSSIGNEMONT       051000822 SIAEP D'HAUSSIGNEMONT                \n",
       "       dateprel   coord_x coord_y cddept.y cdparametre cdparametresiseeaux\n",
       "6747   2021-03-05 NA      NA      008      1340        NO3                \n",
       "277483 2021-06-25 NA      NA      051      1340        NO3                \n",
       "124145 2021-04-21 NA      NA      010      1340        NO3                \n",
       "160411 2021-08-24 NA      NA      010      1340        NO3                \n",
       "261973 2021-06-01 NA      NA      051      1340        NO3                \n",
       "       rsana cdunitereferencesiseeaux\n",
       "6747   15.2  mg/L                    \n",
       "277483 30.0  mg/L                    \n",
       "124145 33.0  mg/L                    \n",
       "160411 26.0  mg/L                    \n",
       "261973  2.2  mg/L                    "
      ]
     },
     "metadata": {},
     "output_type": "display_data"
    }
   ],
   "source": [
    "#aperçu des données de Paris avec les paramètres THM4 et NO3: 1340, NO3_NO2:6374\n",
    "NO3.N02.GrandEst.2021 <- subset(Fichier_GrandEst, cdparametresiseeaux == \"NO3\" | cdparametresiseeaux == \"NO3_N2\")\n",
    "print(\"les dimensions du fichier avec les paramètres nitrates et nitrites Grand_Est après jointure\")\n",
    "print(dim(NO3.N02.GrandEst.2021))\n",
    "NO3.N02.GrandEst.2021[sample(nrow(NO3.N02.GrandEst.2021), 5), ]"
   ]
  },
  {
   "cell_type": "code",
   "execution_count": 18,
   "id": "9a22545c",
   "metadata": {},
   "outputs": [
    {
     "name": "stdout",
     "output_type": "stream",
     "text": [
      "           referenceprel                 distrlib                 cddept.x \n",
      "                       0                        0                        0 \n",
      "            inseecommune               nomcommune                 cdreseau \n",
      "                       0                        0                        0 \n",
      "               nomreseau                 dateprel                  coord_x \n",
      "                       0                        0                     5880 \n",
      "                 coord_y                 cddept.y              cdparametre \n",
      "                    5880                        0                        0 \n",
      "     cdparametresiseeaux                    rsana cdunitereferencesiseeaux \n",
      "                       0                        0                        0 \n"
     ]
    }
   ],
   "source": [
    "#regarder le nombres de valeurs manquantes sur chaque colonne:\n",
    "print(colSums(is.na(NO3.N02.GrandEst.2021)))"
   ]
  },
  {
   "cell_type": "markdown",
   "id": "97fe9181",
   "metadata": {},
   "source": [
    " <span style=\"color:indianred\">Attention, 96% des données du Grand_Est n'ont pas de coordonnées x et y concernant les paramètres nitrates et nitrites </span> \n"
   ]
  },
  {
   "cell_type": "code",
   "execution_count": 19,
   "id": "9ff557ed",
   "metadata": {},
   "outputs": [
    {
     "name": "stdout",
     "output_type": "stream",
     "text": [
      "[1] \"les dimensions du fichier sans valeurs nulles\"\n",
      "[1] 262  15\n"
     ]
    },
    {
     "data": {
      "text/html": [
       "<table class=\"dataframe\">\n",
       "<caption>A data.frame: 5 × 15</caption>\n",
       "<thead>\n",
       "\t<tr><th></th><th scope=col>referenceprel</th><th scope=col>distrlib</th><th scope=col>cddept.x</th><th scope=col>inseecommune</th><th scope=col>nomcommune</th><th scope=col>cdreseau</th><th scope=col>nomreseau</th><th scope=col>dateprel</th><th scope=col>coord_x</th><th scope=col>coord_y</th><th scope=col>cddept.y</th><th scope=col>cdparametre</th><th scope=col>cdparametresiseeaux</th><th scope=col>rsana</th><th scope=col>cdunitereferencesiseeaux</th></tr>\n",
       "\t<tr><th></th><th scope=col>&lt;fct&gt;</th><th scope=col>&lt;fct&gt;</th><th scope=col>&lt;fct&gt;</th><th scope=col>&lt;fct&gt;</th><th scope=col>&lt;fct&gt;</th><th scope=col>&lt;fct&gt;</th><th scope=col>&lt;fct&gt;</th><th scope=col>&lt;fct&gt;</th><th scope=col>&lt;dbl&gt;</th><th scope=col>&lt;dbl&gt;</th><th scope=col>&lt;fct&gt;</th><th scope=col>&lt;int&gt;</th><th scope=col>&lt;fct&gt;</th><th scope=col>&lt;dbl&gt;</th><th scope=col>&lt;fct&gt;</th></tr>\n",
       "</thead>\n",
       "<tbody>\n",
       "\t<tr><th scope=row>410317</th><td>05200086401</td><td>MAIRIE DE CHARMES           </td><td>052</td><td>52108</td><td>CHARMES           </td><td>052001856</td><td>CHARMES                     </td><td>2021-01-25</td><td>875586.0</td><td>6760363</td><td>052</td><td>1340</td><td>NO3</td><td>10</td><td>mg/L</td></tr>\n",
       "\t<tr><th scope=row>468875</th><td>05400147758</td><td>MAIRIE DE LOISY             </td><td>054</td><td>54320</td><td>LOISY             </td><td>054002062</td><td>LOISY                       </td><td>2021-05-03</td><td>926671.1</td><td>6866518</td><td>054</td><td>1340</td><td>NO3</td><td>37</td><td>mg/L</td></tr>\n",
       "\t<tr><th scope=row>417735</th><td>05200087021</td><td>MAIRIE DE LOUVIERES         </td><td>052</td><td>52295</td><td>LOUVIERES         </td><td>052000345</td><td>LOUVIERES                   </td><td>2021-04-12</td><td>869994.3</td><td>6772957</td><td>052</td><td>1340</td><td>NO3</td><td>64</td><td>mg/L</td></tr>\n",
       "\t<tr><th scope=row>414046</th><td>05200086705</td><td>MAIRIE DE POINSON-LES-NOGENT</td><td>052</td><td>52396</td><td>POINSON-LES-NOGENT</td><td>052001396</td><td>POINSON-LES-NOGENT RESE. BAS</td><td>2021-03-01</td><td>876830.1</td><td>6768903</td><td>052</td><td>1340</td><td>NO3</td><td>49</td><td>mg/L</td></tr>\n",
       "\t<tr><th scope=row>418065</th><td>05200087057</td><td>MAIRIE DE BOURG             </td><td>052</td><td>52062</td><td>BOURG             </td><td>052001570</td><td>BOURG                       </td><td>2021-04-16</td><td>873070.3</td><td>6745448</td><td>052</td><td>1340</td><td>NO3</td><td>67</td><td>mg/L</td></tr>\n",
       "</tbody>\n",
       "</table>\n"
      ],
      "text/latex": [
       "A data.frame: 5 × 15\n",
       "\\begin{tabular}{r|lllllllllllllll}\n",
       "  & referenceprel & distrlib & cddept.x & inseecommune & nomcommune & cdreseau & nomreseau & dateprel & coord\\_x & coord\\_y & cddept.y & cdparametre & cdparametresiseeaux & rsana & cdunitereferencesiseeaux\\\\\n",
       "  & <fct> & <fct> & <fct> & <fct> & <fct> & <fct> & <fct> & <fct> & <dbl> & <dbl> & <fct> & <int> & <fct> & <dbl> & <fct>\\\\\n",
       "\\hline\n",
       "\t410317 & 05200086401 & MAIRIE DE CHARMES            & 052 & 52108 & CHARMES            & 052001856 & CHARMES                      & 2021-01-25 & 875586.0 & 6760363 & 052 & 1340 & NO3 & 10 & mg/L\\\\\n",
       "\t468875 & 05400147758 & MAIRIE DE LOISY              & 054 & 54320 & LOISY              & 054002062 & LOISY                        & 2021-05-03 & 926671.1 & 6866518 & 054 & 1340 & NO3 & 37 & mg/L\\\\\n",
       "\t417735 & 05200087021 & MAIRIE DE LOUVIERES          & 052 & 52295 & LOUVIERES          & 052000345 & LOUVIERES                    & 2021-04-12 & 869994.3 & 6772957 & 052 & 1340 & NO3 & 64 & mg/L\\\\\n",
       "\t414046 & 05200086705 & MAIRIE DE POINSON-LES-NOGENT & 052 & 52396 & POINSON-LES-NOGENT & 052001396 & POINSON-LES-NOGENT RESE. BAS & 2021-03-01 & 876830.1 & 6768903 & 052 & 1340 & NO3 & 49 & mg/L\\\\\n",
       "\t418065 & 05200087057 & MAIRIE DE BOURG              & 052 & 52062 & BOURG              & 052001570 & BOURG                        & 2021-04-16 & 873070.3 & 6745448 & 052 & 1340 & NO3 & 67 & mg/L\\\\\n",
       "\\end{tabular}\n"
      ],
      "text/markdown": [
       "\n",
       "A data.frame: 5 × 15\n",
       "\n",
       "| <!--/--> | referenceprel &lt;fct&gt; | distrlib &lt;fct&gt; | cddept.x &lt;fct&gt; | inseecommune &lt;fct&gt; | nomcommune &lt;fct&gt; | cdreseau &lt;fct&gt; | nomreseau &lt;fct&gt; | dateprel &lt;fct&gt; | coord_x &lt;dbl&gt; | coord_y &lt;dbl&gt; | cddept.y &lt;fct&gt; | cdparametre &lt;int&gt; | cdparametresiseeaux &lt;fct&gt; | rsana &lt;dbl&gt; | cdunitereferencesiseeaux &lt;fct&gt; |\n",
       "|---|---|---|---|---|---|---|---|---|---|---|---|---|---|---|---|\n",
       "| 410317 | 05200086401 | MAIRIE DE CHARMES            | 052 | 52108 | CHARMES            | 052001856 | CHARMES                      | 2021-01-25 | 875586.0 | 6760363 | 052 | 1340 | NO3 | 10 | mg/L |\n",
       "| 468875 | 05400147758 | MAIRIE DE LOISY              | 054 | 54320 | LOISY              | 054002062 | LOISY                        | 2021-05-03 | 926671.1 | 6866518 | 054 | 1340 | NO3 | 37 | mg/L |\n",
       "| 417735 | 05200087021 | MAIRIE DE LOUVIERES          | 052 | 52295 | LOUVIERES          | 052000345 | LOUVIERES                    | 2021-04-12 | 869994.3 | 6772957 | 052 | 1340 | NO3 | 64 | mg/L |\n",
       "| 414046 | 05200086705 | MAIRIE DE POINSON-LES-NOGENT | 052 | 52396 | POINSON-LES-NOGENT | 052001396 | POINSON-LES-NOGENT RESE. BAS | 2021-03-01 | 876830.1 | 6768903 | 052 | 1340 | NO3 | 49 | mg/L |\n",
       "| 418065 | 05200087057 | MAIRIE DE BOURG              | 052 | 52062 | BOURG              | 052001570 | BOURG                        | 2021-04-16 | 873070.3 | 6745448 | 052 | 1340 | NO3 | 67 | mg/L |\n",
       "\n"
      ],
      "text/plain": [
       "       referenceprel distrlib                     cddept.x inseecommune\n",
       "410317 05200086401   MAIRIE DE CHARMES            052      52108       \n",
       "468875 05400147758   MAIRIE DE LOISY              054      54320       \n",
       "417735 05200087021   MAIRIE DE LOUVIERES          052      52295       \n",
       "414046 05200086705   MAIRIE DE POINSON-LES-NOGENT 052      52396       \n",
       "418065 05200087057   MAIRIE DE BOURG              052      52062       \n",
       "       nomcommune         cdreseau  nomreseau                    dateprel  \n",
       "410317 CHARMES            052001856 CHARMES                      2021-01-25\n",
       "468875 LOISY              054002062 LOISY                        2021-05-03\n",
       "417735 LOUVIERES          052000345 LOUVIERES                    2021-04-12\n",
       "414046 POINSON-LES-NOGENT 052001396 POINSON-LES-NOGENT RESE. BAS 2021-03-01\n",
       "418065 BOURG              052001570 BOURG                        2021-04-16\n",
       "       coord_x  coord_y cddept.y cdparametre cdparametresiseeaux rsana\n",
       "410317 875586.0 6760363 052      1340        NO3                 10   \n",
       "468875 926671.1 6866518 054      1340        NO3                 37   \n",
       "417735 869994.3 6772957 052      1340        NO3                 64   \n",
       "414046 876830.1 6768903 052      1340        NO3                 49   \n",
       "418065 873070.3 6745448 052      1340        NO3                 67   \n",
       "       cdunitereferencesiseeaux\n",
       "410317 mg/L                    \n",
       "468875 mg/L                    \n",
       "417735 mg/L                    \n",
       "414046 mg/L                    \n",
       "418065 mg/L                    "
      ]
     },
     "metadata": {},
     "output_type": "display_data"
    }
   ],
   "source": [
    "#supprimer valeurs manquantes\n",
    "NO3.N02.GrandEst.2021 <- na.omit(NO3.N02.GrandEst.2021)\n",
    "print(\"les dimensions du fichier sans valeurs nulles\")\n",
    "print(dim(NO3.N02.GrandEst.2021))\n",
    "NO3.N02.GrandEst.2021[sample(nrow(NO3.N02.GrandEst.2021), 5), ]"
   ]
  },
  {
   "cell_type": "markdown",
   "id": "66460941",
   "metadata": {},
   "source": [
    "### <span style=\"color:olivedrab\">Partie IV - Analyses visuelles </span> "
   ]
  },
  {
   "cell_type": "markdown",
   "id": "7afd8d95",
   "metadata": {},
   "source": [
    "- <span style=\"color:steelblue\">Distribution nitrate dans l'eau dans le Grand-Est</span>"
   ]
  },
  {
   "cell_type": "code",
   "execution_count": 20,
   "id": "8920593f",
   "metadata": {},
   "outputs": [
    {
     "data": {
      "text/plain": [
       "geom_point: na.rm = FALSE\n",
       "stat_summary: na.rm = FALSE, fun = mean\n",
       "position_identity "
      ]
     },
     "metadata": {},
     "output_type": "display_data"
    },
    {
     "data": {
      "text/plain": [
       "NULL"
      ]
     },
     "metadata": {},
     "output_type": "display_data"
    },
    {
     "data": {
      "image/png": "[encoded data removed]",
      "text/plain": [
       "plot without title"
      ]
     },
     "metadata": {
      "image/png": {
       "height": 420,
       "width": 420
      }
     },
     "output_type": "display_data"
    }
   ],
   "source": [
    "ggplot(NO3.N02.GrandEst.2021, aes(x = \"\", y = rsana)) +\n",
    "  geom_boxplot(fill = \"cadetblue\") +\n",
    "  geom_point(stat = \"summary\", fun = \"median\", color = \"blue\", shape = 4, size = 4)  # Ajouter la médiane en bleu\n",
    "  geom_point(stat = \"summary\", fun = \"mean\", color = \"yellow\", shape = 2, size = 4)  # Ajouter la moyenne en jaune\n",
    "  labs(title = \"Distribution de nitrate dans l'eau dans le Grand-Est\",\n",
    "       y = \"Niveau de nitrate (mg/L)\",\n",
    "       x = \"\") +\n",
    "  theme_minimal() +\n",
    "  theme(plot.title = element_text(hjust = 0.5))  # Centrer le titre du graphique\n",
    "\n"
   ]
  },
  {
   "cell_type": "markdown",
   "id": "05741df5",
   "metadata": {},
   "source": [
    "- <span style=\"color:steelblue\">Distribution des niveaux de nitrate par département dans le Grand-Est</span>"
   ]
  },
  {
   "cell_type": "code",
   "execution_count": 21,
   "id": "2acb2bbd",
   "metadata": {},
   "outputs": [
    {
     "data": {
      "image/png": "[encoded data removed]",
      "text/plain": [
       "plot without title"
      ]
     },
     "metadata": {
      "image/png": {
       "height": 420,
       "width": 420
      }
     },
     "output_type": "display_data"
    }
   ],
   "source": [
    "ggplot(NO3.N02.GrandEst.2021, aes(x = cddept.x, y = rsana)) +\n",
    "  geom_boxplot(fill = \"cadetblue\") +\n",
    "  labs(title = \"Distribution des niveaux de nitrate par département dans le Grand-Est\",\n",
    "       y = \"Niveau de nitrate (mg/L)\",\n",
    "       x = \"Commune\") +\n",
    "   theme_minimal() +\n",
    "   coord_flip()"
   ]
  },
  {
   "cell_type": "markdown",
   "id": "56d091d6",
   "metadata": {},
   "source": [
    "- <span style=\"color:steelblue\">Distribution des niveaux de nitrate par commune dans le Grand-Est</span>"
   ]
  },
  {
   "cell_type": "code",
   "execution_count": 22,
   "id": "bcc457fd",
   "metadata": {},
   "outputs": [
    {
     "data": {
      "image/png": "[encoded data removed]",
      "text/plain": [
       "plot without title"
      ]
     },
     "metadata": {
      "image/png": {
       "height": 1200,
       "width": 600
      }
     },
     "output_type": "display_data"
    }
   ],
   "source": [
    "options(repr.plot.width=10, repr.plot.height=20)\n",
    "ggplot(NO3.N02.GrandEst.2021, aes(x = nomcommune, y = rsana)) +\n",
    "  geom_boxplot(fill = \"cadetblue\") +\n",
    "  labs(title = \"Distribution des niveaux de nitrate par commune dans le Grand-Est\",\n",
    "       y = \"Niveau de nitrate (mg/L)\",\n",
    "       x = \"Commune\") +\n",
    "   theme_minimal() +\n",
    "   coord_flip()\n"
   ]
  },
  {
   "cell_type": "markdown",
   "id": "439dfbbf",
   "metadata": {},
   "source": [
    "- <span style=\"color:steelblue\">Distribution nitrate dans l'eau dans le Grand-Est avec une carte</span>"
   ]
  },
  {
   "cell_type": "code",
   "execution_count": 28,
   "id": "2672c2f6",
   "metadata": {},
   "outputs": [
    {
     "data": {
      "image/png": "[encoded data removed]",
      "text/plain": [
       "plot without title"
      ]
     },
     "metadata": {
      "image/png": {
       "height": 600,
       "width": 600
      }
     },
     "output_type": "display_data"
    }
   ],
   "source": [
    "ggplot() +\n",
    "  geom_point(data = NO3.N02.GrandEst.2021, aes(x = coord_x, y = coord_y, color = rsana)) +\n",
    "  coord_sf(crs = st_crs(2154)) +  # Utilisation de st_crs() avec l'ID EPSG directement\n",
    "  labs(title = \"Carte des niveaux de nitrate dans l'eau\",\n",
    "       x = \"Coordonnée X\",\n",
    "       y = \"Coordonnée Y\",\n",
    "       color = \"Niveau de nitrate (mg/L)\") +\n",
    "  theme_minimal()\n"
   ]
  },
  {
   "cell_type": "markdown",
   "id": "b9e18b79",
   "metadata": {},
   "source": [
    "- <span style=\"color:indianred\">Piste de réflexion à venir? Utiliser des techniques de modélisation statistique, telles que la régression linéaire ou la régression logistique, pour étudier la relation entre les caractéristiques du réseau de distribution d'eau (par exemple, la distance des points de distribution d'eau, la qualité de l'eau) et les niveaux de nitrate dans l'eau</span>\n",
    "- <span style=\"color:indianred\">Utiliser des techniques d'analyse spatiale, telles que l'interpolation spatiale ou la modélisation géostatistique, pour étudier la relation entre le lieu d'habitation des gens et les niveaux de nitrate dans l'eau. Vous pouvez également utiliser des méthodes de regroupement spatial pour identifier les clusters de personnes exposées à des niveaux de nitrate élevés.</span>\n",
    "- <span style=\"color:indianred\">Créer des visualisations pour communiquer les résultats de manière claire et efficace aux parties prenantes et aux décideurs.</span>"
   ]
  },
  {
   "cell_type": "code",
   "execution_count": null,
   "id": "d6c8a3e8",
   "metadata": {},
   "outputs": [],
   "source": []
  }
 ],
 "metadata": {
  "kernelspec": {
   "display_name": "R",
   "language": "R",
   "name": "ir"
  },
  "language_info": {
   "codemirror_mode": "r",
   "file_extension": ".r",
   "mimetype": "text/x-r-source",
   "name": "R",
   "pygments_lexer": "r",
   "version": "3.6.1"
  }
 },
 "nbformat": 4,
 "nbformat_minor": 5
}
